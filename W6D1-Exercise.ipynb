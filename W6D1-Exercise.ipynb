{
 "cells": [
  {
   "cell_type": "markdown",
   "metadata": {},
   "source": [
    "# Exercise W6D1: Data Analysis Tools I - Pandas \n",
    "\n",
    "## 6.1.1 Data Wrangling and Visualizing"
   ]
  },
  {
   "cell_type": "markdown",
   "metadata": {},
   "source": [
    "**Exercise 6.1.1.1** Read in the dataset \"nchs_death_causes.csv\" using `pandas` methods."
   ]
  },
  {
   "cell_type": "code",
   "execution_count": 1,
   "metadata": {},
   "outputs": [],
   "source": [
    "import pandas as pd"
   ]
  },
  {
   "cell_type": "code",
   "execution_count": 2,
   "metadata": {},
   "outputs": [
    {
     "data": {
      "text/plain": [
       "pandas.core.frame.DataFrame"
      ]
     },
     "execution_count": 2,
     "metadata": {},
     "output_type": "execute_result"
    }
   ],
   "source": [
    "file=pd.read_csv(\"nchs_death_causes.csv\")\n",
    "file.keys()\n",
    "type(file)"
   ]
  },
  {
   "cell_type": "code",
   "execution_count": 3,
   "metadata": {},
   "outputs": [
    {
     "data": {
      "text/plain": [
       "Index(['adresse', 'pris', 'ejerudgift', 'meter'], dtype='object')"
      ]
     },
     "execution_count": 3,
     "metadata": {},
     "output_type": "execute_result"
    }
   ],
   "source": [
    "h_file=pd.read_csv(\"boligapriser.csv\")\n",
    "h_file.keys()"
   ]
  },
  {
   "cell_type": "markdown",
   "metadata": {},
   "source": [
    "### **Exercise 6.1.1.2** Make a `DataFrame` that is a subset of the data, containing only one cause of death and one state."
   ]
  },
  {
   "cell_type": "code",
   "execution_count": 4,
   "metadata": {},
   "outputs": [],
   "source": [
    "suicide=file[file[\"Cause Name\"].isin([\"Suicide\"])]\n",
    "suicideinneb=suicide[suicide[\"State\"].isin([\"Nebraska\"])]"
   ]
  },
  {
   "cell_type": "code",
   "execution_count": 5,
   "metadata": {},
   "outputs": [
    {
     "data": {
      "text/plain": [
       "pandas.core.frame.DataFrame"
      ]
     },
     "execution_count": 5,
     "metadata": {},
     "output_type": "execute_result"
    }
   ],
   "source": [
    "#to make it a DataFrame we don't even need to change the type as file is already DataF!\n",
    "type(suicideinneb)"
   ]
  },
  {
   "cell_type": "markdown",
   "metadata": {},
   "source": [
    "**Exercise 6.1.1.3** Plot a line graph that shows the development of the death rate over time. Pay attention to whether your plot is intuitive."
   ]
  },
  {
   "cell_type": "code",
   "execution_count": 15,
   "metadata": {},
   "outputs": [
    {
     "data": {
      "text/html": [
       "<div>\n",
       "<style scoped>\n",
       "    .dataframe tbody tr th:only-of-type {\n",
       "        vertical-align: middle;\n",
       "    }\n",
       "\n",
       "    .dataframe tbody tr th {\n",
       "        vertical-align: top;\n",
       "    }\n",
       "\n",
       "    .dataframe thead th {\n",
       "        text-align: right;\n",
       "    }\n",
       "</style>\n",
       "<table border=\"1\" class=\"dataframe\">\n",
       "  <thead>\n",
       "    <tr style=\"text-align: right;\">\n",
       "      <th></th>\n",
       "      <th>Year</th>\n",
       "      <th>113 Cause Name</th>\n",
       "      <th>Cause Name</th>\n",
       "      <th>State</th>\n",
       "      <th>Deaths</th>\n",
       "      <th>Age-adjusted Death Rate</th>\n",
       "    </tr>\n",
       "  </thead>\n",
       "  <tbody>\n",
       "    <tr>\n",
       "      <td>443</td>\n",
       "      <td>2016</td>\n",
       "      <td>Intentional self-harm (suicide) (*U03,X60-X84,...</td>\n",
       "      <td>Suicide</td>\n",
       "      <td>Nebraska</td>\n",
       "      <td>246</td>\n",
       "      <td>13.1</td>\n",
       "    </tr>\n",
       "    <tr>\n",
       "      <td>1015</td>\n",
       "      <td>2015</td>\n",
       "      <td>Intentional self-harm (suicide) (*U03,X60-X84,...</td>\n",
       "      <td>Suicide</td>\n",
       "      <td>Nebraska</td>\n",
       "      <td>223</td>\n",
       "      <td>11.7</td>\n",
       "    </tr>\n",
       "    <tr>\n",
       "      <td>1587</td>\n",
       "      <td>2014</td>\n",
       "      <td>Intentional self-harm (suicide) (*U03,X60-X84,...</td>\n",
       "      <td>Suicide</td>\n",
       "      <td>Nebraska</td>\n",
       "      <td>251</td>\n",
       "      <td>13.4</td>\n",
       "    </tr>\n",
       "    <tr>\n",
       "      <td>2159</td>\n",
       "      <td>2013</td>\n",
       "      <td>Intentional self-harm (suicide) (*U03,X60-X84,...</td>\n",
       "      <td>Suicide</td>\n",
       "      <td>Nebraska</td>\n",
       "      <td>220</td>\n",
       "      <td>11.6</td>\n",
       "    </tr>\n",
       "    <tr>\n",
       "      <td>2731</td>\n",
       "      <td>2012</td>\n",
       "      <td>Intentional self-harm (suicide) (*U03,X60-X84,...</td>\n",
       "      <td>Suicide</td>\n",
       "      <td>Nebraska</td>\n",
       "      <td>232</td>\n",
       "      <td>12.5</td>\n",
       "    </tr>\n",
       "    <tr>\n",
       "      <td>3303</td>\n",
       "      <td>2011</td>\n",
       "      <td>Intentional self-harm (suicide) (*U03,X60-X84,...</td>\n",
       "      <td>Suicide</td>\n",
       "      <td>Nebraska</td>\n",
       "      <td>193</td>\n",
       "      <td>10.5</td>\n",
       "    </tr>\n",
       "    <tr>\n",
       "      <td>3875</td>\n",
       "      <td>2010</td>\n",
       "      <td>Intentional self-harm (suicide) (*U03,X60-X84,...</td>\n",
       "      <td>Suicide</td>\n",
       "      <td>Nebraska</td>\n",
       "      <td>193</td>\n",
       "      <td>10.4</td>\n",
       "    </tr>\n",
       "    <tr>\n",
       "      <td>4447</td>\n",
       "      <td>2009</td>\n",
       "      <td>Intentional self-harm (suicide) (*U03,X60-X84,...</td>\n",
       "      <td>Suicide</td>\n",
       "      <td>Nebraska</td>\n",
       "      <td>170</td>\n",
       "      <td>9.3</td>\n",
       "    </tr>\n",
       "    <tr>\n",
       "      <td>5019</td>\n",
       "      <td>2008</td>\n",
       "      <td>Intentional self-harm (suicide) (*U03,X60-X84,...</td>\n",
       "      <td>Suicide</td>\n",
       "      <td>Nebraska</td>\n",
       "      <td>191</td>\n",
       "      <td>10.6</td>\n",
       "    </tr>\n",
       "    <tr>\n",
       "      <td>5591</td>\n",
       "      <td>2007</td>\n",
       "      <td>Intentional self-harm (suicide) (*U03,X60-X84,...</td>\n",
       "      <td>Suicide</td>\n",
       "      <td>Nebraska</td>\n",
       "      <td>181</td>\n",
       "      <td>10.1</td>\n",
       "    </tr>\n",
       "    <tr>\n",
       "      <td>6163</td>\n",
       "      <td>2006</td>\n",
       "      <td>Intentional self-harm (suicide) (*U03,X60-X84,...</td>\n",
       "      <td>Suicide</td>\n",
       "      <td>Nebraska</td>\n",
       "      <td>202</td>\n",
       "      <td>11.2</td>\n",
       "    </tr>\n",
       "    <tr>\n",
       "      <td>6735</td>\n",
       "      <td>2005</td>\n",
       "      <td>Intentional self-harm (suicide) (*U03,X60-X84,...</td>\n",
       "      <td>Suicide</td>\n",
       "      <td>Nebraska</td>\n",
       "      <td>187</td>\n",
       "      <td>10.9</td>\n",
       "    </tr>\n",
       "    <tr>\n",
       "      <td>7307</td>\n",
       "      <td>2004</td>\n",
       "      <td>Intentional self-harm (suicide) (*U03,X60-X84,...</td>\n",
       "      <td>Suicide</td>\n",
       "      <td>Nebraska</td>\n",
       "      <td>166</td>\n",
       "      <td>9.5</td>\n",
       "    </tr>\n",
       "    <tr>\n",
       "      <td>7879</td>\n",
       "      <td>2003</td>\n",
       "      <td>Intentional self-harm (suicide) (*U03,X60-X84,...</td>\n",
       "      <td>Suicide</td>\n",
       "      <td>Nebraska</td>\n",
       "      <td>176</td>\n",
       "      <td>10.2</td>\n",
       "    </tr>\n",
       "    <tr>\n",
       "      <td>8451</td>\n",
       "      <td>2002</td>\n",
       "      <td>Intentional self-harm (suicide) (*U03,X60-X84,...</td>\n",
       "      <td>Suicide</td>\n",
       "      <td>Nebraska</td>\n",
       "      <td>201</td>\n",
       "      <td>11.8</td>\n",
       "    </tr>\n",
       "    <tr>\n",
       "      <td>9023</td>\n",
       "      <td>2001</td>\n",
       "      <td>Intentional self-harm (suicide) (*U03,X60-X84,...</td>\n",
       "      <td>Suicide</td>\n",
       "      <td>Nebraska</td>\n",
       "      <td>187</td>\n",
       "      <td>10.9</td>\n",
       "    </tr>\n",
       "    <tr>\n",
       "      <td>9595</td>\n",
       "      <td>2000</td>\n",
       "      <td>Intentional self-harm (suicide) (*U03,X60-X84,...</td>\n",
       "      <td>Suicide</td>\n",
       "      <td>Nebraska</td>\n",
       "      <td>193</td>\n",
       "      <td>11.3</td>\n",
       "    </tr>\n",
       "    <tr>\n",
       "      <td>10167</td>\n",
       "      <td>1999</td>\n",
       "      <td>Intentional self-harm (suicide) (*U03,X60-X84,...</td>\n",
       "      <td>Suicide</td>\n",
       "      <td>Nebraska</td>\n",
       "      <td>177</td>\n",
       "      <td>10.5</td>\n",
       "    </tr>\n",
       "  </tbody>\n",
       "</table>\n",
       "</div>"
      ],
      "text/plain": [
       "       Year                                     113 Cause Name Cause Name  \\\n",
       "443    2016  Intentional self-harm (suicide) (*U03,X60-X84,...    Suicide   \n",
       "1015   2015  Intentional self-harm (suicide) (*U03,X60-X84,...    Suicide   \n",
       "1587   2014  Intentional self-harm (suicide) (*U03,X60-X84,...    Suicide   \n",
       "2159   2013  Intentional self-harm (suicide) (*U03,X60-X84,...    Suicide   \n",
       "2731   2012  Intentional self-harm (suicide) (*U03,X60-X84,...    Suicide   \n",
       "3303   2011  Intentional self-harm (suicide) (*U03,X60-X84,...    Suicide   \n",
       "3875   2010  Intentional self-harm (suicide) (*U03,X60-X84,...    Suicide   \n",
       "4447   2009  Intentional self-harm (suicide) (*U03,X60-X84,...    Suicide   \n",
       "5019   2008  Intentional self-harm (suicide) (*U03,X60-X84,...    Suicide   \n",
       "5591   2007  Intentional self-harm (suicide) (*U03,X60-X84,...    Suicide   \n",
       "6163   2006  Intentional self-harm (suicide) (*U03,X60-X84,...    Suicide   \n",
       "6735   2005  Intentional self-harm (suicide) (*U03,X60-X84,...    Suicide   \n",
       "7307   2004  Intentional self-harm (suicide) (*U03,X60-X84,...    Suicide   \n",
       "7879   2003  Intentional self-harm (suicide) (*U03,X60-X84,...    Suicide   \n",
       "8451   2002  Intentional self-harm (suicide) (*U03,X60-X84,...    Suicide   \n",
       "9023   2001  Intentional self-harm (suicide) (*U03,X60-X84,...    Suicide   \n",
       "9595   2000  Intentional self-harm (suicide) (*U03,X60-X84,...    Suicide   \n",
       "10167  1999  Intentional self-harm (suicide) (*U03,X60-X84,...    Suicide   \n",
       "\n",
       "          State  Deaths  Age-adjusted Death Rate  \n",
       "443    Nebraska     246                     13.1  \n",
       "1015   Nebraska     223                     11.7  \n",
       "1587   Nebraska     251                     13.4  \n",
       "2159   Nebraska     220                     11.6  \n",
       "2731   Nebraska     232                     12.5  \n",
       "3303   Nebraska     193                     10.5  \n",
       "3875   Nebraska     193                     10.4  \n",
       "4447   Nebraska     170                      9.3  \n",
       "5019   Nebraska     191                     10.6  \n",
       "5591   Nebraska     181                     10.1  \n",
       "6163   Nebraska     202                     11.2  \n",
       "6735   Nebraska     187                     10.9  \n",
       "7307   Nebraska     166                      9.5  \n",
       "7879   Nebraska     176                     10.2  \n",
       "8451   Nebraska     201                     11.8  \n",
       "9023   Nebraska     187                     10.9  \n",
       "9595   Nebraska     193                     11.3  \n",
       "10167  Nebraska     177                     10.5  "
      ]
     },
     "execution_count": 15,
     "metadata": {},
     "output_type": "execute_result"
    }
   ],
   "source": [
    "suicideinneb"
   ]
  },
  {
   "cell_type": "code",
   "execution_count": 12,
   "metadata": {},
   "outputs": [],
   "source": [
    "import matplotlib.pyplot as plt"
   ]
  },
  {
   "cell_type": "code",
   "execution_count": 27,
   "metadata": {},
   "outputs": [
    {
     "data": {
      "text/plain": [
       "[<matplotlib.lines.Line2D at 0x120556610>]"
      ]
     },
     "execution_count": 27,
     "metadata": {},
     "output_type": "execute_result"
    },
    {
     "data": {
      "image/png": "[encoded data removed]",
      "text/plain": [
       "<Figure size 432x288 with 1 Axes>"
      ]
     },
     "metadata": {
      "needs_background": "light"
     },
     "output_type": "display_data"
    }
   ],
   "source": [
    "plt.plot(suicideinneb[\"Age-adjusted Death Rate\"][suicideinneb[\"State\"]==\"Nebraska\"],\n",
    "        suicideinneb[\"Year\"][suicideinneb[\"Cause Name\"]==\"Suicide\"],\"o\")\n",
    "#this is not intuitive, I do not get it!"
   ]
  },
  {
   "cell_type": "markdown",
   "metadata": {},
   "source": [
    "**Exercise 6.1.1.4** Make your figure self-contained and export it/save it to your machine."
   ]
  },
  {
   "cell_type": "markdown",
   "metadata": {},
   "source": [
    "**Exercise 6.1.1.5** Make a `DataFrame` that is a subset of the data, containing _two_ causes of death that might be interesting to compare for one state."
   ]
  },
  {
   "cell_type": "code",
   "execution_count": 23,
   "metadata": {},
   "outputs": [],
   "source": [
    "easy_y_n=file[file[\"Cause Name\"].isin([\"Suicide\",\"Alzheimer's disease\"])]"
   ]
  },
  {
   "cell_type": "code",
   "execution_count": 24,
   "metadata": {},
   "outputs": [
    {
     "data": {
      "text/html": [
       "<div>\n",
       "<style scoped>\n",
       "    .dataframe tbody tr th:only-of-type {\n",
       "        vertical-align: middle;\n",
       "    }\n",
       "\n",
       "    .dataframe tbody tr th {\n",
       "        vertical-align: top;\n",
       "    }\n",
       "\n",
       "    .dataframe thead th {\n",
       "        text-align: right;\n",
       "    }\n",
       "</style>\n",
       "<table border=\"1\" class=\"dataframe\">\n",
       "  <thead>\n",
       "    <tr style=\"text-align: right;\">\n",
       "      <th></th>\n",
       "      <th>Year</th>\n",
       "      <th>113 Cause Name</th>\n",
       "      <th>Cause Name</th>\n",
       "      <th>State</th>\n",
       "      <th>Deaths</th>\n",
       "      <th>Age-adjusted Death Rate</th>\n",
       "    </tr>\n",
       "  </thead>\n",
       "  <tbody>\n",
       "    <tr>\n",
       "      <td>104</td>\n",
       "      <td>2016</td>\n",
       "      <td>Alzheimer's disease (G30)</td>\n",
       "      <td>Alzheimer's disease</td>\n",
       "      <td>Alabama</td>\n",
       "      <td>2507</td>\n",
       "      <td>45.0</td>\n",
       "    </tr>\n",
       "    <tr>\n",
       "      <td>105</td>\n",
       "      <td>2016</td>\n",
       "      <td>Alzheimer's disease (G30)</td>\n",
       "      <td>Alzheimer's disease</td>\n",
       "      <td>Alaska</td>\n",
       "      <td>111</td>\n",
       "      <td>25.8</td>\n",
       "    </tr>\n",
       "    <tr>\n",
       "      <td>106</td>\n",
       "      <td>2016</td>\n",
       "      <td>Alzheimer's disease (G30)</td>\n",
       "      <td>Alzheimer's disease</td>\n",
       "      <td>Arizona</td>\n",
       "      <td>3082</td>\n",
       "      <td>35.8</td>\n",
       "    </tr>\n",
       "    <tr>\n",
       "      <td>107</td>\n",
       "      <td>2016</td>\n",
       "      <td>Alzheimer's disease (G30)</td>\n",
       "      <td>Alzheimer's disease</td>\n",
       "      <td>Arkansas</td>\n",
       "      <td>1475</td>\n",
       "      <td>41.3</td>\n",
       "    </tr>\n",
       "    <tr>\n",
       "      <td>108</td>\n",
       "      <td>2016</td>\n",
       "      <td>Alzheimer's disease (G30)</td>\n",
       "      <td>Alzheimer's disease</td>\n",
       "      <td>California</td>\n",
       "      <td>15570</td>\n",
       "      <td>36.1</td>\n",
       "    </tr>\n",
       "    <tr>\n",
       "      <td>...</td>\n",
       "      <td>...</td>\n",
       "      <td>...</td>\n",
       "      <td>...</td>\n",
       "      <td>...</td>\n",
       "      <td>...</td>\n",
       "      <td>...</td>\n",
       "    </tr>\n",
       "    <tr>\n",
       "      <td>10187</td>\n",
       "      <td>1999</td>\n",
       "      <td>Intentional self-harm (suicide) (*U03,X60-X84,...</td>\n",
       "      <td>Suicide</td>\n",
       "      <td>Virginia</td>\n",
       "      <td>791</td>\n",
       "      <td>11.2</td>\n",
       "    </tr>\n",
       "    <tr>\n",
       "      <td>10188</td>\n",
       "      <td>1999</td>\n",
       "      <td>Intentional self-harm (suicide) (*U03,X60-X84,...</td>\n",
       "      <td>Suicide</td>\n",
       "      <td>Washington</td>\n",
       "      <td>816</td>\n",
       "      <td>14.0</td>\n",
       "    </tr>\n",
       "    <tr>\n",
       "      <td>10189</td>\n",
       "      <td>1999</td>\n",
       "      <td>Intentional self-harm (suicide) (*U03,X60-X84,...</td>\n",
       "      <td>Suicide</td>\n",
       "      <td>West Virginia</td>\n",
       "      <td>229</td>\n",
       "      <td>12.1</td>\n",
       "    </tr>\n",
       "    <tr>\n",
       "      <td>10190</td>\n",
       "      <td>1999</td>\n",
       "      <td>Intentional self-harm (suicide) (*U03,X60-X84,...</td>\n",
       "      <td>Suicide</td>\n",
       "      <td>Wisconsin</td>\n",
       "      <td>593</td>\n",
       "      <td>11.1</td>\n",
       "    </tr>\n",
       "    <tr>\n",
       "      <td>10191</td>\n",
       "      <td>1999</td>\n",
       "      <td>Intentional self-harm (suicide) (*U03,X60-X84,...</td>\n",
       "      <td>Suicide</td>\n",
       "      <td>Wyoming</td>\n",
       "      <td>98</td>\n",
       "      <td>20.3</td>\n",
       "    </tr>\n",
       "  </tbody>\n",
       "</table>\n",
       "<p>1872 rows × 6 columns</p>\n",
       "</div>"
      ],
      "text/plain": [
       "       Year                                     113 Cause Name  \\\n",
       "104    2016                          Alzheimer's disease (G30)   \n",
       "105    2016                          Alzheimer's disease (G30)   \n",
       "106    2016                          Alzheimer's disease (G30)   \n",
       "107    2016                          Alzheimer's disease (G30)   \n",
       "108    2016                          Alzheimer's disease (G30)   \n",
       "...     ...                                                ...   \n",
       "10187  1999  Intentional self-harm (suicide) (*U03,X60-X84,...   \n",
       "10188  1999  Intentional self-harm (suicide) (*U03,X60-X84,...   \n",
       "10189  1999  Intentional self-harm (suicide) (*U03,X60-X84,...   \n",
       "10190  1999  Intentional self-harm (suicide) (*U03,X60-X84,...   \n",
       "10191  1999  Intentional self-harm (suicide) (*U03,X60-X84,...   \n",
       "\n",
       "                Cause Name          State  Deaths  Age-adjusted Death Rate  \n",
       "104    Alzheimer's disease        Alabama    2507                     45.0  \n",
       "105    Alzheimer's disease         Alaska     111                     25.8  \n",
       "106    Alzheimer's disease        Arizona    3082                     35.8  \n",
       "107    Alzheimer's disease       Arkansas    1475                     41.3  \n",
       "108    Alzheimer's disease     California   15570                     36.1  \n",
       "...                    ...            ...     ...                      ...  \n",
       "10187              Suicide       Virginia     791                     11.2  \n",
       "10188              Suicide     Washington     816                     14.0  \n",
       "10189              Suicide  West Virginia     229                     12.1  \n",
       "10190              Suicide      Wisconsin     593                     11.1  \n",
       "10191              Suicide        Wyoming      98                     20.3  \n",
       "\n",
       "[1872 rows x 6 columns]"
      ]
     },
     "execution_count": 24,
     "metadata": {},
     "output_type": "execute_result"
    }
   ],
   "source": [
    "easy_y_n"
   ]
  },
  {
   "cell_type": "markdown",
   "metadata": {},
   "source": [
    "**Exercise 6.1.1.6** Create a _self-contained_ scatter plot that compares the two causes of death in the state."
   ]
  },
  {
   "cell_type": "code",
   "execution_count": 33,
   "metadata": {},
   "outputs": [
    {
     "data": {
      "text/plain": [
       "<matplotlib.collections.PathCollection at 0x120b04250>"
      ]
     },
     "execution_count": 33,
     "metadata": {},
     "output_type": "execute_result"
    },
    {
     "data": {
      "image/png": "[encoded data removed]",
      "text/plain": [
       "<Figure size 432x288 with 1 Axes>"
      ]
     },
     "metadata": {
      "needs_background": "light"
     },
     "output_type": "display_data"
    }
   ],
   "source": [
    "plt.scatter(easy_y_n[\"Deaths\"][easy_y_n[\"Cause Name\"]==\"Suicide\"],\n",
    "           easy_y_n[\"Deaths\"][easy_y_n[\"Cause Name\"]==\"Alzheimer's disease\"],)\n",
    "#på y-aksen er \"Deaths\", på x-aksen ???"
   ]
  },
  {
   "cell_type": "markdown",
   "metadata": {},
   "source": [
    "**Exercise 6.1.1.7** Make a `DataFrame` that is a subset of the data, containing data for only one year and one state."
   ]
  },
  {
   "cell_type": "markdown",
   "metadata": {},
   "source": [
    "**Exercise 6.1.1.8** Create a  _self-contained_ bar graph showing the death rate across causes of death in your subset of the data."
   ]
  },
  {
   "cell_type": "markdown",
   "metadata": {},
   "source": [
    "**Exercise 6.1.1.9** Interpret your bar graph."
   ]
  },
  {
   "cell_type": "markdown",
   "metadata": {},
   "source": [
    "## _If You Have Time_ Follow Your Interests "
   ]
  },
  {
   "cell_type": "markdown",
   "metadata": {},
   "source": [
    "**6.1.2.1** Think about the different data sources you have been using so far. Identify one source of data you were particularly interested in, get the data, think about what might be interesting to explore visually and plot it. Remember that there is an entire [Dataverse](https://dataverse.harvard.edu/) out there that you can draw on, which you can now easily import using the `pandas` functionality."
   ]
  }
 ],
 "metadata": {
  "kernelspec": {
   "display_name": "Python 3",
   "language": "python",
   "name": "python3"
  },
  "language_info": {
   "codemirror_mode": {
    "name": "ipython",
    "version": 3
   },
   "file_extension": ".py",
   "mimetype": "text/x-python",
   "name": "python",
   "nbconvert_exporter": "python",
   "pygments_lexer": "ipython3",
   "version": "3.7.4"
  }
 },
 "nbformat": 4,
 "nbformat_minor": 2
}
