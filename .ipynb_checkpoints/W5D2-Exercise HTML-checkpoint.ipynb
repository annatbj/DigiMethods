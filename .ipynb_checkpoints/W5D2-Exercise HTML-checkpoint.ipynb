{
 "cells": [
  {
   "cell_type": "markdown",
   "metadata": {},
   "source": [
    "# Data formats and open data\n",
    "**Exercises for week 5B** in Digital Methods, University of Copenhagen"
   ]
  },
  {
   "cell_type": "markdown",
   "metadata": {},
   "source": [
    "## 1. HTML"
   ]
  },
  {
   "cell_type": "markdown",
   "metadata": {},
   "source": [
    "HTML is the markup language used by web pages. It's ubiquitous on the web; even when editing this notebook you are interacting with HTML (right click and hit \"View Page Source\" if you need proof). Here follows some exercises to get you comfortable with navigating HTML on web pages."
   ]
  },
  {
   "cell_type": "markdown",
   "metadata": {},
   "source": [
    "> **Ex. 1**: Right click inside the cell below and hit \"Inspect\". This should launch the \"Inspector\" tool in your browser, showing you where the element that renders the cell sits inside the DOM.\n",
    "1. How deeply is it nested? Are there any sibling elements? We counted seven parents and three siblings\n",
    "2. What happens when you update it? Change the text and see for yourself.\n",
    ">\n",
    "> *Hint: Most modern browsers (e.g. Firefox, Chrome, Brave) will let you hover elements in the DOM to show where they display on the web page.*"
   ]
  },
  {
   "cell_type": "markdown",
   "metadata": {},
   "source": [
    "*HTML is a beautiful soup of hypertext!*"
   ]
  },
  {
   "cell_type": "markdown",
   "metadata": {},
   "source": [
    "> **Ex. 2**: In the HTML code below:\n",
    "1. What is typically the use of the `<p>`, `<h1>` and `<h2>` tags? Look them up, what are they for?\n",
    "2. What are the attributes of the `div` element?\n",
    "3. Create a text file that ends with \".html\" and open it in a browser."
   ]
  },
  {
   "cell_type": "markdown",
   "metadata": {},
   "source": [
    "    <html>\n",
    "    <body>\n",
    "\n",
    "    <div width=200 height=100 id=\"main\">\n",
    "        <h1>This is the main title of the webpage</h1>\n",
    "        <h2>This is a sub-heading</h2>\n",
    "        <p>This is a paragraph of text.</p>\n",
    "    </div>\n",
    "\n",
    "    <h2>This is another sub-heading</h2>\n",
    "    <p>This is a paragraph of text with some words in bold.</p>\n",
    "    <img src=\"https://external-content.duckduckgo.com/iu/?u=https%3A%2F%2Fmedia.giphy.com%2Fmedia%2FkFgzrTt798d2w%2Fgiphy.gif&f=1&nofb=1\" width=\"493\" height=\"340\">\n",
    "    <p>And that just above is an image.</p>\n",
    "\n",
    "    </body>\n",
    "    </html>\n"
   ]
  },
  {
   "cell_type": "markdown",
   "metadata": {},
   "source": [
    "> **Ex. 3**: Using the `requests` module, download [this web page](https://www.boliga.dk/resultat?propertyType=3&zipCodes=2200&page=1). Print the first 100 lines of the html string. How many lines are there in total?\n",
    ">\n",
    "> *Hint: use the `requests.get` method. To figure out how it works, execute `?requests.get` (after importing `requests`), this displays the module documentation.*"
   ]
  },
  {
   "cell_type": "code",
   "execution_count": 1,
   "metadata": {},
   "outputs": [],
   "source": [
    "from bs4 import BeautifulSoup\n",
    "import requests as rq\n",
    "url=\"https://www.boliga.dk/resultat?propertyType=3&zipCodes=2200&page=1\"\n",
    "r=rq.get(url).text"
   ]
  },
  {
   "cell_type": "code",
   "execution_count": 2,
   "metadata": {},
   "outputs": [
    {
     "data": {
      "text/plain": [
       "672800"
      ]
     },
     "execution_count": 2,
     "metadata": {},
     "output_type": "execute_result"
    }
   ],
   "source": [
    "len(r)"
   ]
  },
  {
   "cell_type": "code",
   "execution_count": 3,
   "metadata": {},
   "outputs": [],
   "source": [
    "splitted=r.split('\\n')"
   ]
  },
  {
   "cell_type": "code",
   "execution_count": 4,
   "metadata": {},
   "outputs": [
    {
     "data": {
      "text/plain": [
       "2368"
      ]
     },
     "execution_count": 4,
     "metadata": {},
     "output_type": "execute_result"
    }
   ],
   "source": [
    "len(splitted) #is the number of lines!"
   ]
  },
  {
   "cell_type": "code",
   "execution_count": 5,
   "metadata": {},
   "outputs": [
    {
     "data": {
      "text/plain": [
       "\"  <script>(function(w,d,s,l,i){w[l]=w[l]||[];w[l].push({'gtm.start':\""
      ]
     },
     "execution_count": 5,
     "metadata": {},
     "output_type": "execute_result"
    }
   ],
   "source": [
    "splitted[2]"
   ]
  },
  {
   "cell_type": "code",
   "execution_count": 6,
   "metadata": {},
   "outputs": [],
   "source": [
    "er_det_hundrede=splitted[0:100]"
   ]
  },
  {
   "cell_type": "code",
   "execution_count": 7,
   "metadata": {},
   "outputs": [
    {
     "data": {
      "text/plain": [
       "100"
      ]
     },
     "execution_count": 7,
     "metadata": {},
     "output_type": "execute_result"
    }
   ],
   "source": [
    "len(er_det_hundrede)"
   ]
  },
  {
   "cell_type": "code",
   "execution_count": 8,
   "metadata": {},
   "outputs": [],
   "source": [
    "#if you want to solve the assignment, write\n",
    "#print(er_det_hundrede)"
   ]
  },
  {
   "cell_type": "markdown",
   "metadata": {},
   "source": [
    "## 1.2 Scraping"
   ]
  },
  {
   "cell_type": "markdown",
   "metadata": {},
   "source": [
    "*Scraping* means to parse HTML and collect the important pieces of information inside. *Crawling* is\n",
    "another important contect, and the word refers to automatically sifting through pages of the web and scraping\n",
    "information on each page. 90% of scraping and crawling work can be done using the two modules `requests` and\n",
    "`BeautifulSoup`."
   ]
  },
  {
   "cell_type": "markdown",
   "metadata": {},
   "source": [
    "> **Ex. 4:** Load the toy example HTML with BeautifulSoup. Use the [documentation page](https://www.crummy.com/software/BeautifulSoup/bs4/doc/) for reference on how to do this.\n",
    "1. Access the `h1` element inside the `div` and print out its content (which is \"This is the main title of the webpage\").\n",
    "2. Get the value of the `src` attribute inside the `img` element.\n",
    "3. Get the second subheading that contains \"This is another sub-heading\" and print out that content.\n",
    "4. Get the `div` element by searching for its id."
   ]
  },
  {
   "cell_type": "code",
   "execution_count": 9,
   "metadata": {},
   "outputs": [],
   "source": [
    "import requests as rq\n",
    "url1=\"\"\"    <html>\n",
    "    <body>\n",
    "\n",
    "    <div width=200 height=100 id=\"main\">\n",
    "        <h1>This is the main title of the webpage</h1>\n",
    "        <h2>This is a sub-heading</h2>\n",
    "        <p>This is a paragraph of text.</p>\n",
    "    </div>\n",
    "\n",
    "    <h2>This is another sub-heading</h2>\n",
    "    <p>This is a paragraph of text with some words in bold.</p>\n",
    "    <img src=\"https://external-content.duckduckgo.com/iu/?u=https%3A%2F%2Fmedia.giphy.com%2Fmedia%2FkFgzrTt798d2w%2Fgiphy.gif&f=1&nofb=1\" width=\"493\" height=\"340\">\n",
    "    <p>And that just above is an image.</p>\n",
    "\n",
    "    </body>\n",
    "    </html>\n",
    "\n",
    "</html>\"\"\"\n",
    "soup=BeautifulSoup(url1,\"html.parser\")"
   ]
  },
  {
   "cell_type": "code",
   "execution_count": 10,
   "metadata": {},
   "outputs": [
    {
     "name": "stdout",
     "output_type": "stream",
     "text": [
      "<html>\n",
      " <body>\n",
      "  <div height=\"100\" id=\"main\" width=\"200\">\n",
      "   <h1>\n",
      "    This is the main title of the webpage\n",
      "   </h1>\n",
      "   <h2>\n",
      "    This is a sub-heading\n",
      "   </h2>\n",
      "   <p>\n",
      "    This is a paragraph of text.\n",
      "   </p>\n",
      "  </div>\n",
      "  <h2>\n",
      "   This is another sub-heading\n",
      "  </h2>\n",
      "  <p>\n",
      "   This is a paragraph of text with some words in bold.\n",
      "  </p>\n",
      "  <img height=\"340\" src=\"https://external-content.duckduckgo.com/iu/?u=https%3A%2F%2Fmedia.giphy.com%2Fmedia%2FkFgzrTt798d2w%2Fgiphy.gif&amp;f=1&amp;nofb=1\" width=\"493\"/>\n",
      "  <p>\n",
      "   And that just above is an image.\n",
      "  </p>\n",
      " </body>\n",
      "</html>\n",
      "\n"
     ]
    }
   ],
   "source": [
    "print(soup.prettify())"
   ]
  },
  {
   "cell_type": "code",
   "execution_count": 11,
   "metadata": {},
   "outputs": [
    {
     "data": {
      "text/plain": [
       "'This is the main title of the webpage'"
      ]
     },
     "execution_count": 11,
     "metadata": {},
     "output_type": "execute_result"
    }
   ],
   "source": [
    "soup.h1.string #Assignment 1"
   ]
  },
  {
   "cell_type": "code",
   "execution_count": 12,
   "metadata": {},
   "outputs": [
    {
     "data": {
      "text/plain": [
       "'https://external-content.duckduckgo.com/iu/?u=https%3A%2F%2Fmedia.giphy.com%2Fmedia%2FkFgzrTt798d2w%2Fgiphy.gif&f=1&nofb=1'"
      ]
     },
     "execution_count": 12,
     "metadata": {},
     "output_type": "execute_result"
    }
   ],
   "source": [
    "soup.img[\"src\"] #sweet, assignment 2"
   ]
  },
  {
   "cell_type": "code",
   "execution_count": 13,
   "metadata": {},
   "outputs": [
    {
     "data": {
      "text/plain": [
       "<h2>This is another sub-heading</h2>"
      ]
     },
     "execution_count": 13,
     "metadata": {},
     "output_type": "execute_result"
    }
   ],
   "source": [
    "soup.find_all(\"h2\")[1] #boojaaaa assignment 3"
   ]
  },
  {
   "cell_type": "code",
   "execution_count": 14,
   "metadata": {},
   "outputs": [
    {
     "data": {
      "text/plain": [
       "<div height=\"100\" id=\"main\" width=\"200\">\n",
       "<h1>This is the main title of the webpage</h1>\n",
       "<h2>This is a sub-heading</h2>\n",
       "<p>This is a paragraph of text.</p>\n",
       "</div>"
      ]
     },
     "execution_count": 14,
     "metadata": {},
     "output_type": "execute_result"
    }
   ],
   "source": [
    "soup.find(id=\"main\") #assignment 4"
   ]
  },
  {
   "cell_type": "markdown",
   "metadata": {},
   "source": [
    "> **Ex. 5** Load the HTML you downloaded in Ex. 3. For each post, extract price, square meter size and \"Ejerudgift\". You should create three different lists that contain each variable across posts."
   ]
  },
  {
   "cell_type": "code",
   "execution_count": 15,
   "metadata": {},
   "outputs": [],
   "source": [
    "import requests as rq\n",
    "from bs4 import BeautifulSoup\n",
    "#... to begin our work with online material and BeautifulSoup!"
   ]
  },
  {
   "cell_type": "code",
   "execution_count": 16,
   "metadata": {},
   "outputs": [],
   "source": [
    "#Our link was called r:\n",
    "soup2=BeautifulSoup(r,\"html.parser\")"
   ]
  },
  {
   "cell_type": "code",
   "execution_count": 17,
   "metadata": {},
   "outputs": [
    {
     "data": {
      "text/plain": [
       "[<div _ngcontent-sc52=\"\" class=\"primary-value d-flex justify-content-end\"><app-tooltip _ngcontent-sc52=\"\" _nghost-sc39=\"\" class=\"ml-2 md-right d-flex\"><!-- --><p _ngcontent-sc39=\"\" class=\"app-tooltip\"><!-- --><!-- --> Pris er faldet <!-- --><!-- --></p><!-- --></app-tooltip> 8.300.000 kr. </div>,\n",
       " <div _ngcontent-sc52=\"\" class=\"primary-value d-flex justify-content-end\"><app-tooltip _ngcontent-sc52=\"\" _nghost-sc39=\"\" class=\"ml-2 md-right d-flex\"><!-- --><p _ngcontent-sc39=\"\" class=\"app-tooltip\"><!-- --><!-- --> Pris er faldet <!-- --><!-- --></p><!-- --></app-tooltip> 2.690.000 kr. </div>,\n",
       " <div _ngcontent-sc52=\"\" class=\"primary-value d-flex justify-content-end\"><app-tooltip _ngcontent-sc52=\"\" _nghost-sc39=\"\" class=\"ml-2 md-right d-flex\"><!-- --><p _ngcontent-sc39=\"\" class=\"app-tooltip\"><!-- --><!-- --> Pris er faldet <!-- --><!-- --></p><!-- --></app-tooltip> 1.345.000 kr. </div>,\n",
       " <div _ngcontent-sc52=\"\" class=\"primary-value d-flex justify-content-end\"><app-tooltip _ngcontent-sc52=\"\" _nghost-sc39=\"\" class=\"ml-2 md-right d-flex\"><!-- --><p _ngcontent-sc39=\"\" class=\"app-tooltip\"><!-- --><!-- --> Pris er faldet <!-- --><!-- --></p><!-- --></app-tooltip> 1.398.000 kr. </div>,\n",
       " <div _ngcontent-sc52=\"\" class=\"primary-value d-flex justify-content-end\"><app-tooltip _ngcontent-sc52=\"\" _nghost-sc39=\"\" class=\"ml-2 md-right d-flex\"><!-- --><p _ngcontent-sc39=\"\" class=\"app-tooltip\"><!-- --><!-- --> Pris er faldet <!-- --><!-- --></p><!-- --><app-badge _ngcontent-sc52=\"\" _nghost-sc15=\"\" aria-describedby=\"cdk-describedby-message-33573\" cdk-describedby-host=\"\" class=\"px-3\"><span _ngcontent-sc15=\"\" class=\"badge secondary small\"> -5% </span></app-badge><!-- --></app-tooltip> 1.445.000 kr. </div>,\n",
       " <div _ngcontent-sc52=\"\" class=\"primary-value d-flex justify-content-end\"><app-tooltip _ngcontent-sc52=\"\" _nghost-sc39=\"\" class=\"ml-2 md-right d-flex\"><!-- --><p _ngcontent-sc39=\"\" class=\"app-tooltip\"><!-- --><!-- --> Pris er faldet <!-- --><!-- --></p><!-- --></app-tooltip> 1.495.000 kr. </div>,\n",
       " <div _ngcontent-sc52=\"\" class=\"primary-value d-flex justify-content-end\"><app-tooltip _ngcontent-sc52=\"\" _nghost-sc39=\"\" class=\"ml-2 md-right d-flex\"><!-- --><p _ngcontent-sc39=\"\" class=\"app-tooltip\"><!-- --><!-- --> Pris er faldet <!-- --><!-- --></p><!-- --></app-tooltip> 1.495.000 kr. </div>,\n",
       " <div _ngcontent-sc52=\"\" class=\"primary-value d-flex justify-content-end\"><app-tooltip _ngcontent-sc52=\"\" _nghost-sc39=\"\" class=\"ml-2 md-right d-flex\"><!-- --><p _ngcontent-sc39=\"\" class=\"app-tooltip\"><!-- --><!-- --> Pris er faldet <!-- --><!-- --></p><!-- --></app-tooltip> 1.495.000 kr. </div>,\n",
       " <div _ngcontent-sc52=\"\" class=\"primary-value d-flex justify-content-end\"><app-tooltip _ngcontent-sc52=\"\" _nghost-sc39=\"\" class=\"ml-2 md-right d-flex\"><!-- --><p _ngcontent-sc39=\"\" class=\"app-tooltip\"><!-- --><!-- --> Pris er faldet <!-- --><!-- --></p><!-- --><app-badge _ngcontent-sc52=\"\" _nghost-sc15=\"\" aria-describedby=\"cdk-describedby-message-33573\" cdk-describedby-host=\"\" class=\"px-3\"><span _ngcontent-sc15=\"\" class=\"badge secondary small\"> -7% </span></app-badge><!-- --></app-tooltip> 1.575.000 kr. </div>,\n",
       " <div _ngcontent-sc52=\"\" class=\"primary-value d-flex justify-content-end\"><app-tooltip _ngcontent-sc52=\"\" _nghost-sc39=\"\" class=\"ml-2 md-right d-flex\"><!-- --><p _ngcontent-sc39=\"\" class=\"app-tooltip\"><!-- --><!-- --> Pris er faldet <!-- --><!-- --></p><!-- --></app-tooltip> 1.595.000 kr. </div>,\n",
       " <div _ngcontent-sc52=\"\" class=\"primary-value d-flex justify-content-end\"><app-tooltip _ngcontent-sc52=\"\" _nghost-sc39=\"\" class=\"ml-2 md-right d-flex\"><!-- --><p _ngcontent-sc39=\"\" class=\"app-tooltip\"><!-- --><!-- --> Pris er faldet <!-- --><!-- --></p><!-- --></app-tooltip> 1.595.000 kr. </div>,\n",
       " <div _ngcontent-sc52=\"\" class=\"primary-value d-flex justify-content-end\"><app-tooltip _ngcontent-sc52=\"\" _nghost-sc39=\"\" class=\"ml-2 md-right d-flex\"><!-- --><p _ngcontent-sc39=\"\" class=\"app-tooltip\"><!-- --><!-- --> Pris er faldet <!-- --><!-- --></p><!-- --><app-badge _ngcontent-sc52=\"\" _nghost-sc15=\"\" aria-describedby=\"cdk-describedby-message-33573\" cdk-describedby-host=\"\" class=\"px-3\"><span _ngcontent-sc15=\"\" class=\"badge secondary small\"> -12% </span></app-badge><!-- --></app-tooltip> 1.750.000 kr. </div>,\n",
       " <div _ngcontent-sc52=\"\" class=\"primary-value d-flex justify-content-end\"><app-tooltip _ngcontent-sc52=\"\" _nghost-sc39=\"\" class=\"ml-2 md-right d-flex\"><!-- --><p _ngcontent-sc39=\"\" class=\"app-tooltip\"><!-- --><!-- --> Pris er faldet <!-- --><!-- --></p><!-- --></app-tooltip> 1.750.000 kr. </div>,\n",
       " <div _ngcontent-sc52=\"\" class=\"primary-value d-flex justify-content-end\"><app-tooltip _ngcontent-sc52=\"\" _nghost-sc39=\"\" class=\"ml-2 md-right d-flex\"><!-- --><p _ngcontent-sc39=\"\" class=\"app-tooltip\"><!-- --><!-- --> Pris er faldet <!-- --><!-- --></p><!-- --></app-tooltip> 1.795.000 kr. </div>,\n",
       " <div _ngcontent-sc52=\"\" class=\"primary-value d-flex justify-content-end\"><app-tooltip _ngcontent-sc52=\"\" _nghost-sc39=\"\" class=\"ml-2 md-right d-flex\"><!-- --><p _ngcontent-sc39=\"\" class=\"app-tooltip\"><!-- --><!-- --> Pris er faldet <!-- --><!-- --></p><!-- --><app-badge _ngcontent-sc52=\"\" _nghost-sc15=\"\" aria-describedby=\"cdk-describedby-message-33573\" cdk-describedby-host=\"\" class=\"px-3\"><span _ngcontent-sc15=\"\" class=\"badge secondary small\"> -5% </span></app-badge><!-- --></app-tooltip> 1.795.000 kr. </div>,\n",
       " <div _ngcontent-sc52=\"\" class=\"primary-value d-flex justify-content-end\"><app-tooltip _ngcontent-sc52=\"\" _nghost-sc39=\"\" class=\"ml-2 md-right d-flex\"><!-- --><p _ngcontent-sc39=\"\" class=\"app-tooltip\"><!-- --><!-- --> Pris er faldet <!-- --><!-- --></p><!-- --></app-tooltip> 1.795.000 kr. </div>,\n",
       " <div _ngcontent-sc52=\"\" class=\"primary-value d-flex justify-content-end\"><app-tooltip _ngcontent-sc52=\"\" _nghost-sc39=\"\" class=\"ml-2 md-right d-flex\"><!-- --><p _ngcontent-sc39=\"\" class=\"app-tooltip\"><!-- --><!-- --> Pris er faldet <!-- --><!-- --></p><!-- --></app-tooltip> 1.795.000 kr. </div>,\n",
       " <div _ngcontent-sc52=\"\" class=\"primary-value d-flex justify-content-end\"><app-tooltip _ngcontent-sc52=\"\" _nghost-sc39=\"\" class=\"ml-2 md-right d-flex\"><!-- --><p _ngcontent-sc39=\"\" class=\"app-tooltip\"><!-- --><!-- --> Pris er faldet <!-- --><!-- --></p><!-- --></app-tooltip> 1.845.000 kr. </div>,\n",
       " <div _ngcontent-sc52=\"\" class=\"primary-value d-flex justify-content-end\"><app-tooltip _ngcontent-sc52=\"\" _nghost-sc39=\"\" class=\"ml-2 md-right d-flex\"><!-- --><p _ngcontent-sc39=\"\" class=\"app-tooltip\"><!-- --><!-- --> Pris er faldet <!-- --><!-- --></p><!-- --></app-tooltip> 1.895.000 kr. </div>,\n",
       " <div _ngcontent-sc52=\"\" class=\"primary-value d-flex justify-content-end\"><app-tooltip _ngcontent-sc52=\"\" _nghost-sc39=\"\" class=\"ml-2 md-right d-flex\"><!-- --><p _ngcontent-sc39=\"\" class=\"app-tooltip\"><!-- --><!-- --> Pris er faldet <!-- --><!-- --></p><!-- --></app-tooltip> 1.895.000 kr. </div>,\n",
       " <div _ngcontent-sc52=\"\" class=\"primary-value d-flex justify-content-end\"><app-tooltip _ngcontent-sc52=\"\" _nghost-sc39=\"\" class=\"ml-2 md-right d-flex\"><!-- --><p _ngcontent-sc39=\"\" class=\"app-tooltip\"><!-- --><!-- --> Pris er faldet <!-- --><!-- --></p><!-- --><app-badge _ngcontent-sc52=\"\" _nghost-sc15=\"\" aria-describedby=\"cdk-describedby-message-33573\" cdk-describedby-host=\"\" class=\"px-3\"><span _ngcontent-sc15=\"\" class=\"badge secondary small\"> -16% </span></app-badge><!-- --></app-tooltip> 1.898.000 kr. </div>,\n",
       " <div _ngcontent-sc52=\"\" class=\"primary-value d-flex justify-content-end\"><app-tooltip _ngcontent-sc52=\"\" _nghost-sc39=\"\" class=\"ml-2 md-right d-flex\"><!-- --><p _ngcontent-sc39=\"\" class=\"app-tooltip\"><!-- --><!-- --> Pris er faldet <!-- --><!-- --></p><!-- --><app-badge _ngcontent-sc52=\"\" _nghost-sc15=\"\" aria-describedby=\"cdk-describedby-message-33573\" cdk-describedby-host=\"\" class=\"px-3\"><span _ngcontent-sc15=\"\" class=\"badge secondary small\"> -5% </span></app-badge><!-- --></app-tooltip> 1.898.000 kr. </div>,\n",
       " <div _ngcontent-sc52=\"\" class=\"primary-value d-flex justify-content-end\"><app-tooltip _ngcontent-sc52=\"\" _nghost-sc39=\"\" class=\"ml-2 md-right d-flex\"><!-- --><p _ngcontent-sc39=\"\" class=\"app-tooltip\"><!-- --><!-- --> Pris er faldet <!-- --><!-- --></p><!-- --></app-tooltip> 1.975.000 kr. </div>,\n",
       " <div _ngcontent-sc52=\"\" class=\"primary-value d-flex justify-content-end\"><app-tooltip _ngcontent-sc52=\"\" _nghost-sc39=\"\" class=\"ml-2 md-right d-flex\"><!-- --><p _ngcontent-sc39=\"\" class=\"app-tooltip\"><!-- --><!-- --> Pris er faldet <!-- --><!-- --></p><!-- --></app-tooltip> 1.995.000 kr. </div>,\n",
       " <div _ngcontent-sc52=\"\" class=\"primary-value d-flex justify-content-end\"><app-tooltip _ngcontent-sc52=\"\" _nghost-sc39=\"\" class=\"ml-2 md-right d-flex\"><!-- --><p _ngcontent-sc39=\"\" class=\"app-tooltip\"><!-- --><!-- --> Pris er faldet <!-- --><!-- --></p><!-- --></app-tooltip> 1.999.000 kr. </div>,\n",
       " <div _ngcontent-sc52=\"\" class=\"primary-value d-flex justify-content-end\"><app-tooltip _ngcontent-sc52=\"\" _nghost-sc39=\"\" class=\"ml-2 md-right d-flex\"><!-- --><p _ngcontent-sc39=\"\" class=\"app-tooltip\"><!-- --><!-- --> Pris er faldet <!-- --><!-- --></p><!-- --><app-badge _ngcontent-sc52=\"\" _nghost-sc15=\"\" aria-describedby=\"cdk-describedby-message-33573\" cdk-describedby-host=\"\" class=\"px-3\"><span _ngcontent-sc15=\"\" class=\"badge secondary small\"> -2% </span></app-badge><!-- --></app-tooltip> 2.045.000 kr. </div>,\n",
       " <div _ngcontent-sc52=\"\" class=\"primary-value d-flex justify-content-end\"><app-tooltip _ngcontent-sc52=\"\" _nghost-sc39=\"\" class=\"ml-2 md-right d-flex\"><!-- --><p _ngcontent-sc39=\"\" class=\"app-tooltip\"><!-- --><!-- --> Pris er faldet <!-- --><!-- --></p><!-- --></app-tooltip> 2.095.000 kr. </div>,\n",
       " <div _ngcontent-sc52=\"\" class=\"primary-value d-flex justify-content-end\"><app-tooltip _ngcontent-sc52=\"\" _nghost-sc39=\"\" class=\"ml-2 md-right d-flex\"><!-- --><p _ngcontent-sc39=\"\" class=\"app-tooltip\"><!-- --><!-- --> Pris er faldet <!-- --><!-- --></p><!-- --><app-badge _ngcontent-sc52=\"\" _nghost-sc15=\"\" aria-describedby=\"cdk-describedby-message-33573\" cdk-describedby-host=\"\" class=\"px-3\"><span _ngcontent-sc15=\"\" class=\"badge secondary small\"> -4% </span></app-badge><!-- --></app-tooltip> 2.099.999 kr. </div>,\n",
       " <div _ngcontent-sc52=\"\" class=\"primary-value d-flex justify-content-end\"><app-tooltip _ngcontent-sc52=\"\" _nghost-sc39=\"\" class=\"ml-2 md-right d-flex\"><!-- --><p _ngcontent-sc39=\"\" class=\"app-tooltip\"><!-- --><!-- --> Pris er faldet <!-- --><!-- --></p><!-- --></app-tooltip> 2.145.000 kr. </div>,\n",
       " <div _ngcontent-sc52=\"\" class=\"primary-value d-flex justify-content-end\"><app-tooltip _ngcontent-sc52=\"\" _nghost-sc39=\"\" class=\"ml-2 md-right d-flex\"><!-- --><p _ngcontent-sc39=\"\" class=\"app-tooltip\"><!-- --><!-- --> Pris er faldet <!-- --><!-- --></p><!-- --></app-tooltip> 2.198.000 kr. </div>,\n",
       " <div _ngcontent-sc52=\"\" class=\"primary-value d-flex justify-content-end\"><app-tooltip _ngcontent-sc52=\"\" _nghost-sc39=\"\" class=\"ml-2 md-right d-flex\"><!-- --><p _ngcontent-sc39=\"\" class=\"app-tooltip\"><!-- --><!-- --> Pris er faldet <!-- --><!-- --></p><!-- --><app-badge _ngcontent-sc52=\"\" _nghost-sc15=\"\" aria-describedby=\"cdk-describedby-message-33573\" cdk-describedby-host=\"\" class=\"px-3\"><span _ngcontent-sc15=\"\" class=\"badge secondary small\"> -4% </span></app-badge><!-- --></app-tooltip> 2.199.000 kr. </div>,\n",
       " <div _ngcontent-sc52=\"\" class=\"primary-value d-flex justify-content-end\"><app-tooltip _ngcontent-sc52=\"\" _nghost-sc39=\"\" class=\"ml-2 md-right d-flex\"><!-- --><p _ngcontent-sc39=\"\" class=\"app-tooltip\"><!-- --><!-- --> Pris er faldet <!-- --><!-- --></p><!-- --><app-badge _ngcontent-sc52=\"\" _nghost-sc15=\"\" aria-describedby=\"cdk-describedby-message-33573\" cdk-describedby-host=\"\" class=\"px-3\"><span _ngcontent-sc15=\"\" class=\"badge secondary small\"> -2% </span></app-badge><!-- --></app-tooltip> 2.248.000 kr. </div>,\n",
       " <div _ngcontent-sc52=\"\" class=\"primary-value d-flex justify-content-end\"><app-tooltip _ngcontent-sc52=\"\" _nghost-sc39=\"\" class=\"ml-2 md-right d-flex\"><!-- --><p _ngcontent-sc39=\"\" class=\"app-tooltip\"><!-- --><!-- --> Pris er faldet <!-- --><!-- --></p><!-- --><app-badge _ngcontent-sc52=\"\" _nghost-sc15=\"\" aria-describedby=\"cdk-describedby-message-33573\" cdk-describedby-host=\"\" class=\"px-3\"><span _ngcontent-sc15=\"\" class=\"badge secondary small\"> -4% </span></app-badge><!-- --></app-tooltip> 2.295.000 kr. </div>,\n",
       " <div _ngcontent-sc52=\"\" class=\"primary-value d-flex justify-content-end\"><app-tooltip _ngcontent-sc52=\"\" _nghost-sc39=\"\" class=\"ml-2 md-right d-flex\"><!-- --><p _ngcontent-sc39=\"\" class=\"app-tooltip\"><!-- --><!-- --> Pris er faldet <!-- --><!-- --></p><!-- --></app-tooltip> 2.295.000 kr. </div>,\n",
       " <div _ngcontent-sc52=\"\" class=\"primary-value d-flex justify-content-end\"><app-tooltip _ngcontent-sc52=\"\" _nghost-sc39=\"\" class=\"ml-2 md-right d-flex\"><!-- --><p _ngcontent-sc39=\"\" class=\"app-tooltip\"><!-- --><!-- --> Pris er steget <!-- --><!-- --></p><!-- --><app-badge _ngcontent-sc52=\"\" _nghost-sc15=\"\" aria-describedby=\"cdk-describedby-message-33574\" cdk-describedby-host=\"\" class=\"px-3\"><span _ngcontent-sc15=\"\" class=\"badge success small\"> 5% </span></app-badge><!-- --></app-tooltip> 2.299.000 kr. </div>,\n",
       " <div _ngcontent-sc52=\"\" class=\"primary-value d-flex justify-content-end\"><app-tooltip _ngcontent-sc52=\"\" _nghost-sc39=\"\" class=\"ml-2 md-right d-flex\"><!-- --><p _ngcontent-sc39=\"\" class=\"app-tooltip\"><!-- --><!-- --> Pris er faldet <!-- --><!-- --></p><!-- --></app-tooltip> 2.345.000 kr. </div>,\n",
       " <div _ngcontent-sc52=\"\" class=\"primary-value d-flex justify-content-end\"><app-tooltip _ngcontent-sc52=\"\" _nghost-sc39=\"\" class=\"ml-2 md-right d-flex\"><!-- --><p _ngcontent-sc39=\"\" class=\"app-tooltip\"><!-- --><!-- --> Pris er faldet <!-- --><!-- --></p><!-- --></app-tooltip> 2.345.000 kr. </div>,\n",
       " <div _ngcontent-sc52=\"\" class=\"primary-value d-flex justify-content-end\"><app-tooltip _ngcontent-sc52=\"\" _nghost-sc39=\"\" class=\"ml-2 md-right d-flex\"><!-- --><p _ngcontent-sc39=\"\" class=\"app-tooltip\"><!-- --><!-- --> Pris er faldet <!-- --><!-- --></p><!-- --><app-badge _ngcontent-sc52=\"\" _nghost-sc15=\"\" aria-describedby=\"cdk-describedby-message-33573\" cdk-describedby-host=\"\" class=\"px-3\"><span _ngcontent-sc15=\"\" class=\"badge secondary small\"> -4% </span></app-badge><!-- --></app-tooltip> 2.395.000 kr. </div>,\n",
       " <div _ngcontent-sc52=\"\" class=\"primary-value d-flex justify-content-end\"><app-tooltip _ngcontent-sc52=\"\" _nghost-sc39=\"\" class=\"ml-2 md-right d-flex\"><!-- --><p _ngcontent-sc39=\"\" class=\"app-tooltip\"><!-- --><!-- --> Pris er faldet <!-- --><!-- --></p><!-- --><app-badge _ngcontent-sc52=\"\" _nghost-sc15=\"\" aria-describedby=\"cdk-describedby-message-33573\" cdk-describedby-host=\"\" class=\"px-3\"><span _ngcontent-sc15=\"\" class=\"badge secondary small\"> -4% </span></app-badge><!-- --></app-tooltip> 2.395.000 kr. </div>,\n",
       " <div _ngcontent-sc52=\"\" class=\"primary-value d-flex justify-content-end\"><app-tooltip _ngcontent-sc52=\"\" _nghost-sc39=\"\" class=\"ml-2 md-right d-flex\"><!-- --><p _ngcontent-sc39=\"\" class=\"app-tooltip\"><!-- --><!-- --> Pris er faldet <!-- --><!-- --></p><!-- --></app-tooltip> 2.395.000 kr. </div>,\n",
       " <div _ngcontent-sc52=\"\" class=\"primary-value d-flex justify-content-end\"><app-tooltip _ngcontent-sc52=\"\" _nghost-sc39=\"\" class=\"ml-2 md-right d-flex\"><!-- --><p _ngcontent-sc39=\"\" class=\"app-tooltip\"><!-- --><!-- --> Pris er faldet <!-- --><!-- --></p><!-- --></app-tooltip> 2.400.000 kr. </div>,\n",
       " <div _ngcontent-sc52=\"\" class=\"primary-value d-flex justify-content-end\"><app-tooltip _ngcontent-sc52=\"\" _nghost-sc39=\"\" class=\"ml-2 md-right d-flex\"><!-- --><p _ngcontent-sc39=\"\" class=\"app-tooltip\"><!-- --><!-- --> Pris er faldet <!-- --><!-- --></p><!-- --><app-badge _ngcontent-sc52=\"\" _nghost-sc15=\"\" aria-describedby=\"cdk-describedby-message-33573\" cdk-describedby-host=\"\" class=\"px-3\"><span _ngcontent-sc15=\"\" class=\"badge secondary small\"> -2% </span></app-badge><!-- --></app-tooltip> 2.445.000 kr. </div>,\n",
       " <div _ngcontent-sc52=\"\" class=\"primary-value d-flex justify-content-end\"><app-tooltip _ngcontent-sc52=\"\" _nghost-sc39=\"\" class=\"ml-2 md-right d-flex\"><!-- --><p _ngcontent-sc39=\"\" class=\"app-tooltip\"><!-- --><!-- --> Pris er faldet <!-- --><!-- --></p><!-- --><app-badge _ngcontent-sc52=\"\" _nghost-sc15=\"\" aria-describedby=\"cdk-describedby-message-33573\" cdk-describedby-host=\"\" class=\"px-3\"><span _ngcontent-sc15=\"\" class=\"badge secondary small\"> -2% </span></app-badge><!-- --></app-tooltip> 2.445.000 kr. </div>,\n",
       " <div _ngcontent-sc52=\"\" class=\"primary-value d-flex justify-content-end\"><app-tooltip _ngcontent-sc52=\"\" _nghost-sc39=\"\" class=\"ml-2 md-right d-flex\"><!-- --><p _ngcontent-sc39=\"\" class=\"app-tooltip\"><!-- --><!-- --> Pris er faldet <!-- --><!-- --></p><!-- --></app-tooltip> 2.450.000 kr. </div>,\n",
       " <div _ngcontent-sc52=\"\" class=\"primary-value d-flex justify-content-end\"><app-tooltip _ngcontent-sc52=\"\" _nghost-sc39=\"\" class=\"ml-2 md-right d-flex\"><!-- --><p _ngcontent-sc39=\"\" class=\"app-tooltip\"><!-- --><!-- --> Pris er faldet <!-- --><!-- --></p><!-- --></app-tooltip> 2.495.000 kr. </div>,\n",
       " <div _ngcontent-sc52=\"\" class=\"primary-value d-flex justify-content-end\"><app-tooltip _ngcontent-sc52=\"\" _nghost-sc39=\"\" class=\"ml-2 md-right d-flex\"><!-- --><p _ngcontent-sc39=\"\" class=\"app-tooltip\"><!-- --><!-- --> Pris er faldet <!-- --><!-- --></p><!-- --></app-tooltip> 2.495.000 kr. </div>,\n",
       " <div _ngcontent-sc52=\"\" class=\"primary-value d-flex justify-content-end\"><app-tooltip _ngcontent-sc52=\"\" _nghost-sc39=\"\" class=\"ml-2 md-right d-flex\"><!-- --><p _ngcontent-sc39=\"\" class=\"app-tooltip\"><!-- --><!-- --> Pris er faldet <!-- --><!-- --></p><!-- --></app-tooltip> 2.495.000 kr. </div>,\n",
       " <div _ngcontent-sc52=\"\" class=\"primary-value d-flex justify-content-end\"><app-tooltip _ngcontent-sc52=\"\" _nghost-sc39=\"\" class=\"ml-2 md-right d-flex\"><!-- --><p _ngcontent-sc39=\"\" class=\"app-tooltip\"><!-- --><!-- --> Pris er faldet <!-- --><!-- --></p><!-- --></app-tooltip> 2.595.000 kr. </div>,\n",
       " <div _ngcontent-sc52=\"\" class=\"primary-value d-flex justify-content-end\"><app-tooltip _ngcontent-sc52=\"\" _nghost-sc39=\"\" class=\"ml-2 md-right d-flex\"><!-- --><p _ngcontent-sc39=\"\" class=\"app-tooltip\"><!-- --><!-- --> Pris er faldet <!-- --><!-- --></p><!-- --></app-tooltip> 2.625.000 kr. </div>,\n",
       " <div _ngcontent-sc52=\"\" class=\"primary-value d-flex justify-content-end\"><app-tooltip _ngcontent-sc52=\"\" _nghost-sc39=\"\" class=\"ml-2 md-right d-flex\"><!-- --><p _ngcontent-sc39=\"\" class=\"app-tooltip\"><!-- --><!-- --> Pris er faldet <!-- --><!-- --></p><!-- --></app-tooltip> 2.635.000 kr. </div>,\n",
       " <div _ngcontent-sc52=\"\" class=\"primary-value d-flex justify-content-end\"><app-tooltip _ngcontent-sc52=\"\" _nghost-sc39=\"\" class=\"ml-2 md-right d-flex\"><!-- --><p _ngcontent-sc39=\"\" class=\"app-tooltip\"><!-- --><!-- --> Pris er faldet <!-- --><!-- --></p><!-- --></app-tooltip> 2.645.000 kr. </div>,\n",
       " <div _ngcontent-sc52=\"\" class=\"primary-value d-flex justify-content-end\"><app-tooltip _ngcontent-sc52=\"\" _nghost-sc39=\"\" class=\"ml-2 md-right d-flex\"><!-- --><p _ngcontent-sc39=\"\" class=\"app-tooltip\"><!-- --><!-- --> Pris er faldet <!-- --><!-- --></p><!-- --></app-tooltip> 2.650.000 kr. </div>]"
      ]
     },
     "execution_count": 17,
     "metadata": {},
     "output_type": "execute_result"
    }
   ],
   "source": [
    "#I found something attached to every price - a class instead of an id!\n",
    "#However, only class_ instead of class works here in python and we therefore find it like this:\n",
    "soup2.find_all(class_=\"primary-value d-flex justify-content-end\")"
   ]
  },
  {
   "cell_type": "code",
   "execution_count": 18,
   "metadata": {},
   "outputs": [],
   "source": [
    "#VI DROPPER FUNKTIONER\n",
    "import re\n",
    "Prices=soup2.find_all(class_=\"primary-value d-flex justify-content-end\")\n",
    "Prices_list=[]\n",
    "for element in Prices:\n",
    "    Prices_list.append(element)\n",
    "    #for at gøre den mere samarbejdsvillig som liste\n",
    "#I've changed my mind - it's better to use this as a string in order to use findall() later\n",
    "#(which is only available to strings)\n",
    "pricestring=str(Prices)"
   ]
  },
  {
   "cell_type": "code",
   "execution_count": 19,
   "metadata": {},
   "outputs": [],
   "source": [
    "#type pricestring if you want to see how the messy string looks"
   ]
  },
  {
   "cell_type": "code",
   "execution_count": 20,
   "metadata": {},
   "outputs": [],
   "source": [
    "#Defining the object we want to find with the re-module:\n",
    "#which is a whitespace+one number (only for things below 10 mio+dot+numbers+dot+numbers\n",
    "number=re.compile(\"(\\s\\d+?.\\d+\\.\\d+)\")\n",
    "numbershort=re.compile(\"(\\s\\d+?.\\d+)\")"
   ]
  },
  {
   "cell_type": "code",
   "execution_count": 21,
   "metadata": {},
   "outputs": [],
   "source": [
    "clean_prices=numbershort.findall(pricestring)"
   ]
  },
  {
   "cell_type": "code",
   "execution_count": 22,
   "metadata": {},
   "outputs": [],
   "source": [
    "boligprisliste=number.findall(pricestring)\n",
    "#boligprisliste\n",
    "#length of boligprisliste is 52 -> len(boligprisliste)"
   ]
  },
  {
   "cell_type": "code",
   "execution_count": 23,
   "metadata": {},
   "outputs": [],
   "source": [
    "#testing to get some clear numbers\n",
    "udendotliste=[]\n",
    "for element in boligprisliste:\n",
    "    element.replace(\".\",\"\")\n",
    "    udendotliste.append(element)"
   ]
  },
  {
   "cell_type": "code",
   "execution_count": 24,
   "metadata": {},
   "outputs": [],
   "source": [
    "udendots=str(boligprisliste)\n",
    "udendot=udendots.replace(\".\",\"\")"
   ]
  },
  {
   "cell_type": "code",
   "execution_count": 25,
   "metadata": {},
   "outputs": [],
   "source": [
    "tal=re.compile(\"\\d{7}\")\n",
    "tallisten=tal.findall(udendot)"
   ]
  },
  {
   "cell_type": "code",
   "execution_count": 26,
   "metadata": {},
   "outputs": [
    {
     "data": {
      "text/plain": [
       "'2690000'"
      ]
     },
     "execution_count": 26,
     "metadata": {},
     "output_type": "execute_result"
    }
   ],
   "source": [
    "#type tallisten to see how it looks like\n",
    "tallisten[1]"
   ]
  },
  {
   "cell_type": "code",
   "execution_count": 27,
   "metadata": {},
   "outputs": [],
   "source": [
    "#btw class gives error, better to use class_"
   ]
  },
  {
   "cell_type": "code",
   "execution_count": 28,
   "metadata": {},
   "outputs": [],
   "source": [
    "#WE FINALLY HAVE THE PRICESSSSS IN A LIST - no function necessary!"
   ]
  },
  {
   "cell_type": "code",
   "execution_count": 29,
   "metadata": {},
   "outputs": [],
   "source": [
    "#Nu til kvadratmeter:\n",
    "#find_all(\"div\"[13]) måske\n",
    "#<span _ngcontent-boliga-app-c46=\"\" class=\"text-nowrap\">47 m²</span>"
   ]
  },
  {
   "cell_type": "code",
   "execution_count": 30,
   "metadata": {},
   "outputs": [],
   "source": [
    "import re\n",
    "collectionscrap=soup2.find_all(\"app-house-details\")\n",
    "meters=re.compile(\"\\d+\\s\")\n",
    "#so now, after defining the stuff, lets take the specific details for meters in to a list"
   ]
  },
  {
   "cell_type": "code",
   "execution_count": 31,
   "metadata": {},
   "outputs": [
    {
     "data": {
      "text/plain": [
       "<app-house-details _ngcontent-sc52=\"\" _nghost-sc55=\"\" class=\"flex-grow-1\"><div _ngcontent-sc55=\"\" class=\"house-details-blocks\"><!-- --><div _ngcontent-sc55=\"\" class=\"detail d-lg-flex\"><app-tooltip _ngcontent-sc55=\"\" _nghost-sc39=\"\" class=\"tooltip-nowrap tooltip-top-left w-100\"><!-- --><div _ngcontent-sc55=\"\" class=\"d-flex flex-wrap pr-1\"><svg _ngcontent-sc55=\"\" class=\"icon-2 text-secondary\"><use _ngcontent-sc55=\"\" xlink:href=\"#icon-rooms\"></use></svg><span _ngcontent-sc55=\"\" class=\"text-nowrap\">2 værelser</span></div></app-tooltip></div><div _ngcontent-sc55=\"\" class=\"detail d-lg-flex\"><app-tooltip _ngcontent-sc55=\"\" _nghost-sc39=\"\" class=\"tooltip-nowrap tooltip-top-left w-100\"><!-- --><p _ngcontent-sc39=\"\" class=\"app-tooltip\"><!-- --><!-- --> Boligstørrelse <!-- --><!-- --></p><div _ngcontent-sc55=\"\" class=\"d-flex flex-wrap pr-1\"><svg _ngcontent-sc55=\"\" class=\"icon-2 text-secondary\"><use _ngcontent-sc55=\"\" xlink:href=\"#icon-square\"></use></svg><span _ngcontent-sc55=\"\" class=\"text-nowrap\">59 m²</span></div></app-tooltip></div><div _ngcontent-sc55=\"\" class=\"detail d-lg-flex\"><app-tooltip _ngcontent-sc55=\"\" _nghost-sc39=\"\" class=\"tooltip-nowrap tooltip-top-left w-100\"><!-- --><div _ngcontent-sc55=\"\" class=\"d-flex flex-wrap pr-1\"><svg _ngcontent-sc55=\"\" class=\"icon-2 text-secondary\"><use _ngcontent-sc55=\"\" xlink:href=\"#icon-energy\"></use></svg><span _ngcontent-sc55=\"\" class=\"text-nowrap\">Energimærke: C</span></div></app-tooltip></div></div></app-house-details>"
      ]
     },
     "execution_count": 31,
     "metadata": {},
     "output_type": "execute_result"
    }
   ],
   "source": [
    "#one element of the collectionscrap\n",
    "collectionscrap[1]"
   ]
  },
  {
   "cell_type": "code",
   "execution_count": 32,
   "metadata": {},
   "outputs": [],
   "source": [
    "meterliste=[]\n",
    "for element in collectionscrap:\n",
    "    meterliste.append(element.find_all(\"span\")[1])\n",
    "meterstring=str(meterliste)"
   ]
  },
  {
   "cell_type": "code",
   "execution_count": 33,
   "metadata": {},
   "outputs": [],
   "source": [
    "#this provides us with a very neat but not just number-based list, we'll change it like this:\n",
    "clean_meters=meters.findall(meterstring)"
   ]
  },
  {
   "cell_type": "code",
   "execution_count": 34,
   "metadata": {},
   "outputs": [
    {
     "data": {
      "text/plain": [
       "52"
      ]
     },
     "execution_count": 34,
     "metadata": {},
     "output_type": "execute_result"
    }
   ],
   "source": [
    "len(clean_meters)\n",
    "#.. the lenghts match <3 thank goodness -52"
   ]
  },
  {
   "cell_type": "code",
   "execution_count": 35,
   "metadata": {},
   "outputs": [],
   "source": [
    "y=[]\n",
    "x=[]\n",
    "for element in clean_meters:\n",
    "    yel=int(element)\n",
    "    y.append(yel)\n",
    "for element in clean_prices:\n",
    "    xyel=float(element)\n",
    "    x.append(xyel)\n",
    "    #in order to convert them to numbers, I have divided the mios with 1000\n",
    "    #(in theory - in reality, I have just found small pieces of string)"
   ]
  },
  {
   "cell_type": "code",
   "execution_count": 36,
   "metadata": {},
   "outputs": [],
   "source": [
    "price_meter=zip(y,x)"
   ]
  },
  {
   "cell_type": "code",
   "execution_count": 37,
   "metadata": {},
   "outputs": [],
   "source": [
    "meterpricelist=list(price_meter)"
   ]
  },
  {
   "cell_type": "code",
   "execution_count": 38,
   "metadata": {},
   "outputs": [],
   "source": [
    "collectionstring=str(collectionscrap)\n",
    "ejerudgift=re.compile(\"(Ejerudgift: )(\\d+.\\d+)\")\n",
    "ejerudglist=ejerudgift.findall(collectionstring)\n",
    "ejerudgstring=str(ejerudglist)\n",
    "ejerudglist\n",
    "udendots=ejerudgstring.replace(\".\",\"\")\n",
    "#let's get only the numbers:\n",
    "onlynumber=re.compile(\"\\d+\")\n",
    "ejerudgiftclean=onlynumber.findall(udendots)\n",
    "#ejerudgiftclean"
   ]
  },
  {
   "cell_type": "code",
   "execution_count": 39,
   "metadata": {},
   "outputs": [],
   "source": [
    "#getting small numbers for the ejerudgift (not that necessary after all)\n",
    "smallnumber=re.compile(\"(\\d+.\\d+)\")\n",
    "clean_ejerudgift=smallnumber.findall(ejerudgstring)\n",
    "z=[]\n",
    "for element in clean_ejerudgift:\n",
    "    zyl=float(element)\n",
    "    z.append(zyl)"
   ]
  },
  {
   "cell_type": "markdown",
   "metadata": {},
   "source": [
    "> **Ex. 6:** Make a scatter plot of square meter size vs. extracted price. Then make a new variable that \n",
    "measures price per square meter and scatter plot this against \"Ejerudgift\". Can you say anything about how\n",
    "\"Ejerudgift\" influences square meter price?"
   ]
  },
  {
   "cell_type": "code",
   "execution_count": 40,
   "metadata": {},
   "outputs": [
    {
     "data": {
      "text/plain": [
       "<Figure size 640x480 with 1 Axes>"
      ]
     },
     "metadata": {},
     "output_type": "display_data"
    }
   ],
   "source": [
    "import matplotlib.pyplot as plt\n",
    "values=[item[0] for item in meterpricelist]\n",
    "labels=[item[1] for item in meterpricelist]\n",
    "\n",
    "plt.scatter(values,labels)\n",
    "plt.show()"
   ]
  },
  {
   "cell_type": "code",
   "execution_count": 41,
   "metadata": {},
   "outputs": [],
   "source": [
    "price_per_meter=[]\n",
    "for element in meterpricelist:\n",
    "    price_per_meter.append((element[1]/element[0])*1000)"
   ]
  },
  {
   "cell_type": "code",
   "execution_count": 42,
   "metadata": {},
   "outputs": [
    {
     "data": {
      "text/plain": [
       "43.455497382198956"
      ]
     },
     "execution_count": 42,
     "metadata": {},
     "output_type": "execute_result"
    }
   ],
   "source": [
    "price_per_meter.pop(0)"
   ]
  },
  {
   "cell_type": "code",
   "execution_count": 43,
   "metadata": {},
   "outputs": [
    {
     "data": {
      "text/plain": [
       "45.593220338983045"
      ]
     },
     "execution_count": 43,
     "metadata": {},
     "output_type": "execute_result"
    }
   ],
   "source": [
    "price_per_meter.pop(0)"
   ]
  },
  {
   "cell_type": "code",
   "execution_count": 44,
   "metadata": {},
   "outputs": [
    {
     "data": {
      "text/plain": [
       "50"
      ]
     },
     "execution_count": 44,
     "metadata": {},
     "output_type": "execute_result"
    }
   ],
   "source": [
    "len(price_per_meter)"
   ]
  },
  {
   "cell_type": "code",
   "execution_count": 45,
   "metadata": {},
   "outputs": [
    {
     "data": {
      "text/plain": [
       "50"
      ]
     },
     "execution_count": 45,
     "metadata": {},
     "output_type": "execute_result"
    }
   ],
   "source": [
    "y.pop(0)\n",
    "y.pop(0)\n",
    "len(y)"
   ]
  },
  {
   "cell_type": "code",
   "execution_count": 46,
   "metadata": {},
   "outputs": [
    {
     "data": {
      "text/plain": [
       "<matplotlib.collections.PathCollection at 0x117c9cd10>"
      ]
     },
     "execution_count": 46,
     "metadata": {},
     "output_type": "execute_result"
    },
    {
     "data": {
      "image/png": "[encoded data removed]",
      "text/plain": [
       "<Figure size 432x288 with 1 Axes>"
      ]
     },
     "metadata": {
      "needs_background": "light"
     },
     "output_type": "display_data"
    }
   ],
   "source": [
    "ejerudgifts=zip(y,price_per_meter)\n",
    "ejerudgiftsliste=tuple(ejerudgifts)\n",
    "\n",
    "import matplotlib.pyplot as plt\n",
    "values1=[item[1] for item in ejerudgiftsliste]\n",
    "labels1=[item[0] for item in ejerudgiftsliste]\n",
    "plt.scatter(values1,labels1)"
   ]
  },
  {
   "cell_type": "code",
   "execution_count": 47,
   "metadata": {},
   "outputs": [
    {
     "data": {
      "text/plain": [
       "[]"
      ]
     },
     "execution_count": 47,
     "metadata": {},
     "output_type": "execute_result"
    },
    {
     "data": {
      "image/png": "[encoded data removed]",
      "text/plain": [
       "<Figure size 432x288 with 1 Axes>"
      ]
     },
     "metadata": {
      "needs_background": "light"
     },
     "output_type": "display_data"
    }
   ],
   "source": [
    "import matplotlib.pyplot as plt\n",
    "values1=[z]\n",
    "labels1=[price_per_meter]\n",
    "plt.scatter(values1,labels1)\n",
    "plt.xlabel(\"Ejerudgift\")\n",
    "plt.ylabel(\"Pris per Meter i tusinder\")\n",
    "plt.plot()"
   ]
  },
  {
   "cell_type": "markdown",
   "metadata": {},
   "source": [
    "> **Supercharge:** Crawl over pages of Boliga to collect this data for the entire borough of Nørrebro. Or all of Copenhagen!"
   ]
  },
  {
   "cell_type": "code",
   "execution_count": null,
   "metadata": {},
   "outputs": [],
   "source": []
  },
  {
   "cell_type": "code",
   "execution_count": 155,
   "metadata": {},
   "outputs": [],
   "source": [
    "#In order to do this, we need to make it into a function!! - the whooole thing, wuhu\n",
    "def scrapeboliga(urlinput):\n",
    "        #we need to introduce BeautifulSoup, re and requests:\n",
    "    from bs4 import BeautifulSoup\n",
    "    import requests as rq\n",
    "    urlstring=rq.get(urlinput).text\n",
    "    urlsoup=BeautifulSoup(urlstring,\"html.parser\")\n",
    "\n",
    "    #We need to get the information string for:\n",
    "    #for each element, we need specific html->find_all with BS ->list ->append to a clear list\n",
    "#FIRST PRIS\n",
    "    prishtml=urlsoup.find_all(class_=\"primary-value d-flex justify-content-end\")\n",
    "    prisstring=str(prishtml)\n",
    "    \n",
    "    #define what string we are looking for in the chunk of html\n",
    "    import re\n",
    "    priskode=re.compile(\"(\\s\\d+?.\\d+\\.\\d+)\")\n",
    "    \n",
    "    #find the string:\n",
    "    priser=priskode.findall(prisstring)\n",
    "    \n",
    "    #delete the dots\n",
    "    udotspriser=str(priser)\n",
    "    udot=udotspriser.replace(\".\",\"\")\n",
    "    \n",
    "    #make it into a list of big numbers\n",
    "    tal=re.compile(\"\\d{7,8}\")\n",
    "    pricelist=tal.findall(udot)\n",
    "    finalpricelist=[]\n",
    "    for element in pricelist:\n",
    "        talelement=int(element)\n",
    "        finalpricelist.append(talelement)\n",
    "    \n",
    "    #we need to remove the first two (in order to end with 50)\n",
    "    while len(finalpricelist)>50:\n",
    "        finalpricelist.pop(0)\n",
    "    \n",
    "#THE SAME FOR METER:\n",
    "    #find html specific code...\n",
    "    html=urlsoup.find_all(\"app-house-details\")\n",
    "    meterstykke=[]\n",
    "    for element in html:\n",
    "        meterstykke.append(element.find_all(\"span\")[1])\n",
    "    \n",
    "    #define what we are looking for:\n",
    "    meter=re.compile(\"\\d+?\\s\")\n",
    "    meterstring=str(meterstykke)\n",
    "    themeterlist=meter.findall(meterstring)\n",
    "    finalmeterlist=[]\n",
    "    for element in themeterlist:\n",
    "        talelement=int(element)\n",
    "        finalmeterlist.append(talelement)\n",
    "    \n",
    "    #We need to remove the first two (in order to end with 50)\n",
    "    while len(finalmeterlist)>50:\n",
    "        finalmeterlist.pop(0)\n",
    "\n",
    "#EJERUDGIFT\n",
    "    #we can just look in all of the html provided for the specific expression:\n",
    "    ejerudgift=re.compile(\"(Ejerudgift: )(\\d+?.\\d+)\")\n",
    "    \n",
    "    #let's look:\n",
    "    urlsoupstring=str(urlsoup)\n",
    "    ejerudgiftlist=ejerudgift.findall(urlsoupstring)\n",
    "    ejerudgiftstring=str(ejerudgiftlist)\n",
    "    \n",
    "    #let's remove the dots:\n",
    "    udendots=ejerudgiftstring.replace(\".\",\"\")\n",
    "    \n",
    "    #let's get only the numbers:\n",
    "    onlynumber=re.compile(\"\\d{2,7}\")\n",
    "    ejerudgiftclean=onlynumber.findall(udendots)\n",
    "    \n",
    "    #and transform it to numbers:\n",
    "    finalejerudgiftlist=[]\n",
    "    for element in ejerudgiftclean:\n",
    "        talelement=int(element)\n",
    "        finalejerudgiftlist.append(talelement)\n",
    "    \n",
    "    \n",
    "#ADRESS\n",
    "    #find the address-htmlchunk:\n",
    "    addresshtml=urlsoup.find_all(class_=\"w-100 mt-1 listing-address font-weight-bold text-nowrap text-truncate\")    \n",
    "    addresshtmlstring=str(addresshtml)\n",
    "    \n",
    "    #narrow down inside the htmlchunk - only addresses\n",
    "    # we need to tell it that we will play around with it with BeautifulSoup\n",
    "    adsoup=BeautifulSoup(addresshtmlstring,\"html.parser\")\n",
    "    addresstext=adsoup.get_text()\n",
    "    #so far so good - but it needs to be a list of addresses:\n",
    "    addresslist=addresstext.split(\" , \")\n",
    "    #and it needs to be max 50, not 52\n",
    "    while len(addresslist)>50:\n",
    "        addresslist.pop(0)\n",
    "    \n",
    "    #Our output would be a dictionary of the three elements for each house assigned to adress\n",
    "    #this means that the three things are going to be put together in a dict and returned as\n",
    "    if len(addresslist)==len(finalpricelist)==len(finalejerudgiftlist)==len(finalmeterlist):\n",
    "        tal=0\n",
    "        dictionary_of_houses={}\n",
    "        for element in addresslist:\n",
    "            dictionary_of_houses[element]={\"price\":finalpricelist[tal],\"size\":finalmeterlist[tal],\"ejerudgift\":finalejerudgiftlist[tal]}\n",
    "            tal+=1\n",
    "            \n",
    "        #here we want to extract the data to a csv-file called boligpris.csv\n",
    "        import csv\n",
    "        write=csv.writer(open(\"boligpris.csv\",\"a\"))\n",
    "        for key,val in dictionary_of_houses.items():\n",
    "            write.writerow([key,val])\n",
    "        #everytime it works it prints 'succes!'\n",
    "        print(\"Success!\")\n",
    "        return dictionary_of_houses\n",
    "    #and everytime it fails it shows how the inputs don't match\n",
    "    else:\n",
    "            print(\"der er et ulige antal inputs:\")\n",
    "            print(\"adresser:\",len(addresslist),\"priser:\",len(finalpricelist),\"ejerudgifter:\",len(finalejerudgiftlist),\"størrelser:\",len(finalmeterlist))"
   ]
  },
  {
   "cell_type": "code",
   "execution_count": 156,
   "metadata": {},
   "outputs": [
    {
     "name": "stdout",
     "output_type": "stream",
     "text": [
      "Success!\n"
     ]
    },
    {
     "data": {
      "text/plain": [
       "{' Dagmarsgade 28  4. 90.': {'price': 2690000, 'size': 59, 'ejerudgift': 3079},\n",
       " ' Fenrisgade 2, 3. tv.': {'price': 2699000, 'size': 62, 'ejerudgift': 2036},\n",
       " ' Tagensvej 56  5. th.': {'price': 2895000, 'size': 58, 'ejerudgift': 2709},\n",
       " ' Gormsgade 6, 1. 7.': {'price': 2895000, 'size': 83, 'ejerudgift': 2359},\n",
       " ' Allersgade 2, 1. mf.': {'price': 2895000, 'size': 70, 'ejerudgift': 3005},\n",
       " ' Prinsesse Charlottes Gade 5, 4. tv.': {'price': 2925000,\n",
       "  'size': 57,\n",
       "  'ejerudgift': 2490},\n",
       " ' Sorgenfrigade 8E, 1. 4': {'price': 2995000, 'size': 80, 'ejerudgift': 2975},\n",
       " ' Julius Bloms Gade 9, 5. 8': {'price': 2995000,\n",
       "  'size': 65,\n",
       "  'ejerudgift': 2467},\n",
       " ' Bjelkes Allé 34, 3. 41.': {'price': 2999000,\n",
       "  'size': 59,\n",
       "  'ejerudgift': 2029},\n",
       " ' Gormsgade 8, 2. 41': {'price': 3095000, 'size': 82, 'ejerudgift': 2746},\n",
       " ' Sigynsgade 46, 4. tv.': {'price': 3099000, 'size': 78, 'ejerudgift': 3525},\n",
       " ' Nørrebrogade 205, 3. tv': {'price': 3175000,\n",
       "  'size': 65,\n",
       "  'ejerudgift': 3021},\n",
       " ' Kronborggade 20, 1. tv': {'price': 3195000, 'size': 65, 'ejerudgift': 2396},\n",
       " ' Gormsgade 8, 4. 47.': {'price': 3295000, 'size': 86, 'ejerudgift': 2509},\n",
       " ' Tagensvej 55, 3. th': {'price': 3395000, 'size': 81, 'ejerudgift': 3172},\n",
       " ' Tømrergade 7 4 TH': {'price': 3450000, 'size': 61, 'ejerudgift': 2860},\n",
       " ' Allersgade 2, 3. tv.': {'price': 3450000, 'size': 79, 'ejerudgift': 3699},\n",
       " ' Blågårdsgade 16B, 1. tv': {'price': 3495000,\n",
       "  'size': 72,\n",
       "  'ejerudgift': 3613},\n",
       " ' Wesselsgade 3, 1. th.': {'price': 3499000, 'size': 59, 'ejerudgift': 1855},\n",
       " ' Heimdalsgade 37A, 1. tv.': {'price': 3645000,\n",
       "  'size': 102,\n",
       "  'ejerudgift': 3386},\n",
       " ' Baldersgade 39, st.. tv.': {'price': 3650000,\n",
       "  'size': 91,\n",
       "  'ejerudgift': 2356},\n",
       " ' Ahornsgade 1, 1. tv': {'price': 3695000, 'size': 75, 'ejerudgift': 3009},\n",
       " ' Ægirsgade 73, 3. th': {'price': 3795000, 'size': 79, 'ejerudgift': 2709},\n",
       " ' Blegdamsvej 30B, st. th., Fredens Gaard, Bolig 42': {'price': 3850000,\n",
       "  'size': 79,\n",
       "  'ejerudgift': 3542},\n",
       " ' Poppelgade 7, st. th': {'price': 3995000, 'size': 80, 'ejerudgift': 3312},\n",
       " ' Prinsesse Charlottes Gade 5, 1. tv': {'price': 3995000,\n",
       "  'size': 72,\n",
       "  'ejerudgift': 2864},\n",
       " ' Kronborggade 8, 3. tv': {'price': 3995000, 'size': 81, 'ejerudgift': 2411},\n",
       " ' Ryesgade 32, 3. th': {'price': 4075000, 'size': 78, 'ejerudgift': 3064},\n",
       " ' Blegdamsvej 30A, st., Fredens Gaard, Bolig 43': {'price': 4095000,\n",
       "  'size': 89,\n",
       "  'ejerudgift': 4004},\n",
       " ' Jagtvej 1, 1. tv.': {'price': 4195000, 'size': 104, 'ejerudgift': 3155},\n",
       " ' Jagtvej 7, 1. tv.': {'price': 4250000, 'size': 100, 'ejerudgift': 3108},\n",
       " ' Rådmandsgade 44  5.': {'price': 4250000, 'size': 105, 'ejerudgift': 4704},\n",
       " ' Ågade 112, 3. tv.': {'price': 4295000, 'size': 113, 'ejerudgift': 3340},\n",
       " ' Blegdamsvej 28B, st. tv., Fredens Gaard, Bolig 2': {'price': 4495000,\n",
       "  'size': 95,\n",
       "  'ejerudgift': 4093},\n",
       " ' Møllegade 22, st..': {'price': 4550000, 'size': 116, 'ejerudgift': 2914},\n",
       " ' Hørsholmsgade 28, 5.': {'price': 4750000, 'size': 117, 'ejerudgift': 5097},\n",
       " ' Hørsholmsgade 22G, 5. th': {'price': 5095000,\n",
       "  'size': 112,\n",
       "  'ejerudgift': 3549},\n",
       " ' Julius Bloms Gade 4, 5. tv.': {'price': 5099000,\n",
       "  'size': 121,\n",
       "  'ejerudgift': 3765},\n",
       " ' Åboulevard 14, 2. th.': {'price': 5195000, 'size': 132, 'ejerudgift': 3947},\n",
       " ' Nørrebrogade 148, 5. tv.': {'price': 5499000,\n",
       "  'size': 121,\n",
       "  'ejerudgift': 3737},\n",
       " ' Blegdamsvej 28L': {'price': 5795000, 'size': 86, 'ejerudgift': 4699},\n",
       " ' Blegdamsvej 28E, Fredens Gaard, Bolig 28': {'price': 5795000,\n",
       "  'size': 84,\n",
       "  'ejerudgift': 4664},\n",
       " ' Blegdamsvej 28K': {'price': 6095000, 'size': 94, 'ejerudgift': 5062},\n",
       " ' Blegdamsvej 28F, Fredens Gaard, Bolig 27': {'price': 6095000,\n",
       "  'size': 85,\n",
       "  'ejerudgift': 4794},\n",
       " ' Nørrebrogade 61, 1.': {'price': 6500000, 'size': 156, 'ejerudgift': 4404},\n",
       " ' Blegdamsvej 28D, Fredens Gaard, Bolig 29': {'price': 6850000,\n",
       "  'size': 106,\n",
       "  'ejerudgift': 5704},\n",
       " ' Ewaldsgade 4, st..': {'price': 6995000, 'size': 148, 'ejerudgift': 3721},\n",
       " ' Jagtvej 27  4. tv.': {'price': 7250000, 'size': 173, 'ejerudgift': 3164},\n",
       " ' Sankt Hans Torv 3, 5. 4': {'price': 7495000,\n",
       "  'size': 161,\n",
       "  'ejerudgift': 5730},\n",
       " ' Peblinge Dossering 44 4 TV ]': {'price': 7495000,\n",
       "  'size': 113,\n",
       "  'ejerudgift': 4079}}"
      ]
     },
     "execution_count": 156,
     "metadata": {},
     "output_type": "execute_result"
    }
   ],
   "source": [
    "scrapeboliga(\"https://www.boliga.dk/resultat?propertyType=3&zipCodes=2200&page=2\")"
   ]
  },
  {
   "cell_type": "code",
   "execution_count": 158,
   "metadata": {},
   "outputs": [
    {
     "data": {
      "text/plain": [
       "{'adress': ' Peblinge Dossering 44 4 TV ]',\n",
       " 'price': 7495000,\n",
       " 'size': 113,\n",
       " 'ejerudgift': 4079}"
      ]
     },
     "execution_count": 158,
     "metadata": {},
     "output_type": "execute_result"
    }
   ],
   "source": [
    "b"
   ]
  },
  {
   "cell_type": "code",
   "execution_count": 51,
   "metadata": {},
   "outputs": [],
   "source": [
    "lilurl=re.sub(\"[^0-9]\",\"\",\"https://www.boliga.dk/resultat?propertyType=3&zipCodes=2200&page=2\")"
   ]
  },
  {
   "cell_type": "code",
   "execution_count": 52,
   "metadata": {},
   "outputs": [
    {
     "data": {
      "text/plain": [
       "'322002'"
      ]
     },
     "execution_count": 52,
     "metadata": {},
     "output_type": "execute_result"
    }
   ],
   "source": [
    "lilurl"
   ]
  },
  {
   "cell_type": "code",
   "execution_count": 53,
   "metadata": {},
   "outputs": [],
   "source": [
    "#scrapeboliga(\"https://www.boliga.dk/resultat?propertyType=3&zipCodes=2200&page=3\")"
   ]
  },
  {
   "cell_type": "code",
   "execution_count": 54,
   "metadata": {},
   "outputs": [],
   "source": [
    "#making a list of long urls\n",
    "boligaurl=\"https://www.boliga.dk/resultat?area=1&page=\"\n",
    "def lotsofurls(urlinput):\n",
    "    i=0\n",
    "    urls=[]\n",
    "    areaurls=[]\n",
    "    while i<5:\n",
    "        i+=1\n",
    "        urls.append(urlinput+str(i))\n",
    "    for element in urls:\n",
    "        areaurls.append(element+\"&propertyType=3&sort=zipCode-a\")\n",
    "    return areaurls\n",
    "    "
   ]
  },
  {
   "cell_type": "code",
   "execution_count": 55,
   "metadata": {},
   "outputs": [
    {
     "data": {
      "text/plain": [
       "['https://www.boliga.dk/resultat?area=1&page=1&propertyType=3&sort=zipCode-a',\n",
       " 'https://www.boliga.dk/resultat?area=1&page=2&propertyType=3&sort=zipCode-a',\n",
       " 'https://www.boliga.dk/resultat?area=1&page=3&propertyType=3&sort=zipCode-a',\n",
       " 'https://www.boliga.dk/resultat?area=1&page=4&propertyType=3&sort=zipCode-a',\n",
       " 'https://www.boliga.dk/resultat?area=1&page=5&propertyType=3&sort=zipCode-a']"
      ]
     },
     "execution_count": 55,
     "metadata": {},
     "output_type": "execute_result"
    }
   ],
   "source": [
    "boligaoverload=lotsofurls(boligaurl)\n",
    "boligaoverload"
   ]
  },
  {
   "cell_type": "code",
   "execution_count": 56,
   "metadata": {},
   "outputs": [
    {
     "name": "stdout",
     "output_type": "stream",
     "text": [
      "Success!\n",
      "Success!\n",
      "Success!\n",
      "Success!\n",
      "Success!\n"
     ]
    }
   ],
   "source": [
    "dictionary={}\n",
    "for element in boligaoverload:\n",
    "    dictionary.update(scrapeboliga(element))"
   ]
  },
  {
   "cell_type": "code",
   "execution_count": 57,
   "metadata": {},
   "outputs": [
    {
     "data": {
      "text/plain": [
       "250"
      ]
     },
     "execution_count": 57,
     "metadata": {},
     "output_type": "execute_result"
    }
   ],
   "source": [
    "len(dictionary)"
   ]
  },
  {
   "cell_type": "code",
   "execution_count": 58,
   "metadata": {},
   "outputs": [],
   "source": [
    "#going over all urls to get data (in total: 1500 elements into a csv-file!)\n",
    "\n",
    "#this is too much!\n",
    "#i=1\n",
    "#dictionary={}\n",
    "#keystr=\"key_\".format(i)\n",
    "#keystrr=\"key_\".format(ii)\n",
    "#for element in boligaoverload:\n",
    "#    test=scrapeboliga(element)\n",
    "#    if type(test)==dict:\n",
    "  #      if dictionary=={}:\n",
    " #           dictionary=scrapeboliga(element)\n",
    "   #     else:\n",
    "    #        dictionarydob=scrapeboliga(element)\n",
    "     #       if dictionarydob.keys()==dictionary.keys():\n",
    "      #          ii=str(i)+\"00\"\n",
    "       #         dictionarydob[keystrr]=dictionarydob.pop(keystr)\n",
    "        #        dictionary.update(dictionarydob)\n",
    "         #       i+=1\n",
    "#\n",
    " #   else:\n",
    "  #      print(\"no\")\n",
    " #  \"\" \n",
    "#    a.update(b)\n",
    "#dic2 = dict(dic0, **dic1)\n",
    "#I just wanted to have a numerical order with a lot of dictionaries called key_i..."
   ]
  },
  {
   "cell_type": "code",
   "execution_count": 64,
   "metadata": {},
   "outputs": [
    {
     "data": {
      "text/plain": [
       "[]"
      ]
     },
     "execution_count": 64,
     "metadata": {},
     "output_type": "execute_result"
    },
    {
     "data": {
      "image/png": "[encoded data removed]",
      "text/plain": [
       "<Figure size 432x288 with 1 Axes>"
      ]
     },
     "metadata": {
      "needs_background": "light"
     },
     "output_type": "display_data"
    }
   ],
   "source": [
    "import matplotlib.pyplot as plt\n",
    "values=[dictionary[i][\"size\"] for i in dictionary]\n",
    "labels=[dictionary[i][\"price\"] for i in dictionary]\n",
    "\n",
    "plt.scatter(values,labels)\n",
    "plt.xlabel(\"størrelse\")\n",
    "plt.ylabel(\"prisen\")\n",
    "plt.plot()"
   ]
  },
  {
   "cell_type": "code",
   "execution_count": 65,
   "metadata": {},
   "outputs": [],
   "source": [
    "#dictionary.values()"
   ]
  },
  {
   "cell_type": "markdown",
   "metadata": {},
   "source": [
    "# For sjov koderne"
   ]
  },
  {
   "cell_type": "code",
   "execution_count": 61,
   "metadata": {},
   "outputs": [],
   "source": [
    "result = {}\n",
    "for j in range(10):\n",
    "    key_j = 'key_{}'.format(j)  # a string depending on j\n",
    "    result[key_j] = str(j)+\" hello\""
   ]
  },
  {
   "cell_type": "code",
   "execution_count": 62,
   "metadata": {},
   "outputs": [
    {
     "data": {
      "text/plain": [
       "{'key_0': '0 hello',\n",
       " 'key_1': '1 hello',\n",
       " 'key_2': '2 hello',\n",
       " 'key_3': '3 hello',\n",
       " 'key_4': '4 hello',\n",
       " 'key_5': '5 hello',\n",
       " 'key_6': '6 hello',\n",
       " 'key_7': '7 hello',\n",
       " 'key_8': '8 hello',\n",
       " 'key_9': '9 hello'}"
      ]
     },
     "execution_count": 62,
     "metadata": {},
     "output_type": "execute_result"
    }
   ],
   "source": [
    "result"
   ]
  },
  {
   "cell_type": "code",
   "execution_count": 63,
   "metadata": {},
   "outputs": [
    {
     "ename": "SyntaxError",
     "evalue": "invalid syntax (<ipython-input-63-d1f2e015b4b4>, line 5)",
     "output_type": "error",
     "traceback": [
      "\u001b[0;36m  File \u001b[0;32m\"<ipython-input-63-d1f2e015b4b4>\"\u001b[0;36m, line \u001b[0;32m5\u001b[0m\n\u001b[0;31m    key=\u001b[0m\n\u001b[0m        ^\u001b[0m\n\u001b[0;31mSyntaxError\u001b[0m\u001b[0;31m:\u001b[0m invalid syntax\n"
     ]
    }
   ],
   "source": [
    "        if len(dictionary)<=50:\n",
    "            omgang=0\n",
    "            dictionary+\"1\"={}\n",
    "            omgang+=1\n",
    "            key=\n",
    "            if key in dictionary.keys()\n",
    "                \n",
    "            if tal in dictionary_of_houses.keys():\n",
    "                #adressen er kategorien:\n",
    "                #i er tallet\n",
    "                #we also want to know a bit about the output and give it a specific name\n",
    "                dictionary_of_houses[tal+\"ekstra\"]={\"address\":element,\"price\":finalpricelist[tal],\"size\":finalmeterlist[tal],\"ejerudgift\":finalejerudgiftlist[tal]}\n",
    "                tal+=1\n",
    "            dictionary.update(scrapeboliga(element))"
   ]
  },
  {
   "cell_type": "markdown",
   "metadata": {},
   "source": [
    "# For alvor koderne"
   ]
  },
  {
   "cell_type": "code",
   "execution_count": 70,
   "metadata": {},
   "outputs": [],
   "source": [
    "boligaurlmega=\"https://www.boliga.dk/resultat?propertyType=3&page=\"\n",
    "def ahellalotsofurls(urlinput):\n",
    "    i=0\n",
    "    urlss=[]\n",
    "    while i<127:\n",
    "        i+=1\n",
    "        urlss.append(urlinput+str(i))\n",
    "    return urlss"
   ]
  },
  {
   "cell_type": "code",
   "execution_count": 73,
   "metadata": {},
   "outputs": [],
   "source": [
    "altboliga=ahellalotsofurls(boligaurlmega)"
   ]
  },
  {
   "cell_type": "code",
   "execution_count": 74,
   "metadata": {},
   "outputs": [
    {
     "data": {
      "text/plain": [
       "list"
      ]
     },
     "execution_count": 74,
     "metadata": {},
     "output_type": "execute_result"
    }
   ],
   "source": [
    "type(altboliga)"
   ]
  },
  {
   "cell_type": "code",
   "execution_count": 79,
   "metadata": {},
   "outputs": [
    {
     "name": "stdout",
     "output_type": "stream",
     "text": [
      "Success!\n",
      "Success!\n",
      "Success!\n",
      "Success!\n",
      "Success!\n",
      "Success!\n",
      "Success!\n",
      "Success!\n",
      "Success!\n",
      "Success!\n",
      "Success!\n",
      "Success!\n",
      "Success!\n",
      "Success!\n",
      "Success!\n",
      "Success!\n",
      "Success!\n",
      "Success!\n",
      "Success!\n",
      "Success!\n",
      "Success!\n",
      "Success!\n",
      "Success!\n",
      "Success!\n",
      "der er et ulige antal inputs:\n",
      "adresser: 50 priser: 50 ejerudgifter: 49 størrelser: 50\n",
      "1 fail!\n",
      "Success!\n",
      "Success!\n",
      "Success!\n",
      "Success!\n",
      "der er et ulige antal inputs:\n",
      "adresser: 50 priser: 49 ejerudgifter: 50 størrelser: 50\n",
      "2 fail!\n",
      "Success!\n",
      "Success!\n",
      "Success!\n",
      "Success!\n",
      "Success!\n",
      "Success!\n",
      "Success!\n",
      "Success!\n",
      "Success!\n",
      "Success!\n",
      "Success!\n",
      "Success!\n",
      "Success!\n",
      "Success!\n",
      "der er et ulige antal inputs:\n",
      "adresser: 50 priser: 49 ejerudgifter: 50 størrelser: 50\n",
      "3 fail!\n",
      "Success!\n",
      "Success!\n",
      "Success!\n",
      "Success!\n",
      "Success!\n",
      "Success!\n",
      "Success!\n",
      "Success!\n",
      "Success!\n",
      "Success!\n",
      "Success!\n",
      "Success!\n",
      "der er et ulige antal inputs:\n",
      "adresser: 50 priser: 50 ejerudgifter: 49 størrelser: 50\n",
      "4 fail!\n",
      "Success!\n",
      "Success!\n",
      "Success!\n",
      "Success!\n",
      "Success!\n",
      "Success!\n",
      "der er et ulige antal inputs:\n",
      "adresser: 50 priser: 49 ejerudgifter: 49 størrelser: 50\n",
      "5 fail!\n",
      "Success!\n",
      "Success!\n",
      "Success!\n",
      "Success!\n",
      "der er et ulige antal inputs:\n",
      "adresser: 50 priser: 49 ejerudgifter: 50 størrelser: 50\n",
      "6 fail!\n",
      "Success!\n",
      "Success!\n",
      "der er et ulige antal inputs:\n",
      "adresser: 50 priser: 42 ejerudgifter: 49 størrelser: 50\n",
      "7 fail!\n",
      "Success!\n",
      "Success!\n",
      "der er et ulige antal inputs:\n",
      "adresser: 50 priser: 47 ejerudgifter: 50 størrelser: 50\n",
      "8 fail!\n",
      "Success!\n",
      "Success!\n",
      "der er et ulige antal inputs:\n",
      "adresser: 50 priser: 47 ejerudgifter: 50 størrelser: 50\n",
      "9 fail!\n",
      "Success!\n",
      "Success!\n",
      "Success!\n",
      "Success!\n",
      "Success!\n",
      "Success!\n",
      "der er et ulige antal inputs:\n",
      "adresser: 50 priser: 49 ejerudgifter: 50 størrelser: 50\n",
      "10 fail!\n",
      "Success!\n",
      "Success!\n",
      "Success!\n",
      "Success!\n",
      "Success!\n",
      "Success!\n",
      "der er et ulige antal inputs:\n",
      "adresser: 50 priser: 48 ejerudgifter: 50 størrelser: 50\n",
      "11 fail!\n",
      "Success!\n",
      "Success!\n",
      "der er et ulige antal inputs:\n",
      "adresser: 50 priser: 48 ejerudgifter: 50 størrelser: 50\n",
      "12 fail!\n",
      "Success!\n",
      "Success!\n",
      "der er et ulige antal inputs:\n",
      "adresser: 50 priser: 49 ejerudgifter: 49 størrelser: 50\n",
      "13 fail!\n",
      "Success!\n",
      "Success!\n",
      "der er et ulige antal inputs:\n",
      "adresser: 50 priser: 49 ejerudgifter: 50 størrelser: 50\n",
      "14 fail!\n",
      "Success!\n",
      "Success!\n",
      "der er et ulige antal inputs:\n",
      "adresser: 50 priser: 47 ejerudgifter: 50 størrelser: 50\n",
      "15 fail!\n",
      "der er et ulige antal inputs:\n",
      "adresser: 50 priser: 48 ejerudgifter: 50 størrelser: 50\n",
      "16 fail!\n",
      "der er et ulige antal inputs:\n",
      "adresser: 50 priser: 49 ejerudgifter: 50 størrelser: 50\n",
      "17 fail!\n",
      "der er et ulige antal inputs:\n",
      "adresser: 50 priser: 48 ejerudgifter: 50 størrelser: 50\n",
      "18 fail!\n",
      "Success!\n",
      "Success!\n",
      "Success!\n",
      "Success!\n",
      "der er et ulige antal inputs:\n",
      "adresser: 50 priser: 42 ejerudgifter: 50 størrelser: 50\n",
      "19 fail!\n",
      "Success!\n",
      "Success!\n",
      "der er et ulige antal inputs:\n",
      "adresser: 50 priser: 48 ejerudgifter: 50 størrelser: 50\n",
      "20 fail!\n",
      "der er et ulige antal inputs:\n",
      "adresser: 50 priser: 28 ejerudgifter: 50 størrelser: 50\n",
      "21 fail!\n",
      "der er et ulige antal inputs:\n",
      "adresser: 50 priser: 40 ejerudgifter: 50 størrelser: 50\n",
      "22 fail!\n",
      "der er et ulige antal inputs:\n",
      "adresser: 50 priser: 44 ejerudgifter: 50 størrelser: 50\n",
      "23 fail!\n",
      "der er et ulige antal inputs:\n",
      "adresser: 50 priser: 47 ejerudgifter: 50 størrelser: 50\n",
      "24 fail!\n",
      "der er et ulige antal inputs:\n",
      "adresser: 50 priser: 23 ejerudgifter: 50 størrelser: 50\n",
      "25 fail!\n",
      "der er et ulige antal inputs:\n",
      "adresser: 50 priser: 40 ejerudgifter: 50 størrelser: 50\n",
      "26 fail!\n",
      "der er et ulige antal inputs:\n",
      "adresser: 50 priser: 33 ejerudgifter: 50 størrelser: 50\n",
      "27 fail!\n",
      "der er et ulige antal inputs:\n",
      "adresser: 50 priser: 48 ejerudgifter: 50 størrelser: 50\n",
      "28 fail!\n",
      "Success!\n",
      "Success!\n",
      "der er et ulige antal inputs:\n",
      "adresser: 50 priser: 43 ejerudgifter: 50 størrelser: 50\n",
      "29 fail!\n",
      "der er et ulige antal inputs:\n",
      "adresser: 50 priser: 36 ejerudgifter: 50 størrelser: 50\n",
      "30 fail!\n",
      "der er et ulige antal inputs:\n",
      "adresser: 50 priser: 41 ejerudgifter: 50 størrelser: 50\n",
      "31 fail!\n",
      "der er et ulige antal inputs:\n",
      "adresser: 50 priser: 41 ejerudgifter: 50 størrelser: 50\n",
      "32 fail!\n",
      "der er et ulige antal inputs:\n",
      "adresser: 50 priser: 28 ejerudgifter: 50 størrelser: 50\n",
      "33 fail!\n",
      "der er et ulige antal inputs:\n",
      "adresser: 50 priser: 38 ejerudgifter: 50 størrelser: 50\n",
      "34 fail!\n",
      "der er et ulige antal inputs:\n",
      "adresser: 50 priser: 33 ejerudgifter: 50 størrelser: 50\n",
      "35 fail!\n",
      "der er et ulige antal inputs:\n",
      "adresser: 50 priser: 35 ejerudgifter: 49 størrelser: 50\n",
      "36 fail!\n",
      "der er et ulige antal inputs:\n",
      "adresser: 50 priser: 22 ejerudgifter: 50 størrelser: 50\n",
      "37 fail!\n",
      "der er et ulige antal inputs:\n",
      "adresser: 50 priser: 47 ejerudgifter: 49 størrelser: 50\n",
      "38 fail!\n",
      "der er et ulige antal inputs:\n",
      "adresser: 50 priser: 41 ejerudgifter: 50 størrelser: 50\n",
      "39 fail!\n",
      "Success!\n",
      "Success!\n",
      "der er et ulige antal inputs:\n",
      "adresser: 50 priser: 48 ejerudgifter: 50 størrelser: 50\n",
      "40 fail!\n",
      "der er et ulige antal inputs:\n",
      "adresser: 50 priser: 37 ejerudgifter: 50 størrelser: 50\n",
      "41 fail!\n",
      "der er et ulige antal inputs:\n",
      "adresser: 50 priser: 28 ejerudgifter: 50 størrelser: 50\n",
      "42 fail!\n",
      "der er et ulige antal inputs:\n",
      "adresser: 50 priser: 29 ejerudgifter: 50 størrelser: 50\n",
      "43 fail!\n",
      "der er et ulige antal inputs:\n",
      "adresser: 50 priser: 25 ejerudgifter: 50 størrelser: 50\n",
      "44 fail!\n",
      "Success!\n",
      "Success!\n",
      "Success!\n",
      "Success!\n",
      "Success!\n",
      "Success!\n",
      "Success!\n",
      "Success!\n",
      "Success!\n",
      "Success!\n",
      "Success!\n",
      "Success!\n",
      "Success!\n",
      "Success!\n",
      "der er et ulige antal inputs:\n",
      "adresser: 50 priser: 49 ejerudgifter: 50 størrelser: 50\n",
      "45 fail!\n",
      "der er et ulige antal inputs:\n",
      "adresser: 50 priser: 45 ejerudgifter: 50 størrelser: 50\n",
      "46 fail!\n",
      "der er et ulige antal inputs:\n",
      "adresser: 50 priser: 43 ejerudgifter: 50 størrelser: 50\n",
      "47 fail!\n",
      "der er et ulige antal inputs:\n",
      "adresser: 50 priser: 37 ejerudgifter: 50 størrelser: 50\n",
      "48 fail!\n",
      "der er et ulige antal inputs:\n",
      "adresser: 50 priser: 16 ejerudgifter: 50 størrelser: 50\n",
      "49 fail!\n",
      "Success!\n",
      "Success!\n",
      "der er et ulige antal inputs:\n",
      "adresser: 50 priser: 45 ejerudgifter: 50 størrelser: 50\n",
      "50 fail!\n",
      "der er et ulige antal inputs:\n",
      "adresser: 50 priser: 40 ejerudgifter: 50 størrelser: 50\n",
      "51 fail!\n",
      "der er et ulige antal inputs:\n",
      "adresser: 50 priser: 43 ejerudgifter: 50 størrelser: 50\n",
      "52 fail!\n",
      "der er et ulige antal inputs:\n",
      "adresser: 50 priser: 19 ejerudgifter: 50 størrelser: 50\n",
      "53 fail!\n",
      "der er et ulige antal inputs:\n",
      "adresser: 50 priser: 41 ejerudgifter: 50 størrelser: 50\n",
      "54 fail!\n",
      "der er et ulige antal inputs:\n",
      "adresser: 50 priser: 3 ejerudgifter: 50 størrelser: 50\n",
      "55 fail!\n",
      "der er et ulige antal inputs:\n",
      "adresser: 50 priser: 24 ejerudgifter: 50 størrelser: 50\n",
      "56 fail!\n",
      "Success!\n",
      "Success!\n",
      "Success!\n",
      "Success!\n",
      "Success!\n",
      "Success!\n",
      "Success!\n",
      "Success!\n",
      "der er et ulige antal inputs:\n",
      "adresser: 50 priser: 45 ejerudgifter: 50 størrelser: 50\n",
      "57 fail!\n",
      "Success!\n",
      "Success!\n",
      "der er et ulige antal inputs:\n",
      "adresser: 50 priser: 40 ejerudgifter: 50 størrelser: 50\n",
      "58 fail!\n",
      "der er et ulige antal inputs:\n",
      "adresser: 50 priser: 38 ejerudgifter: 50 størrelser: 50\n",
      "59 fail!\n",
      "Success!\n",
      "Success!\n",
      "der er et ulige antal inputs:\n",
      "adresser: 50 priser: 41 ejerudgifter: 50 størrelser: 50\n",
      "60 fail!\n",
      "der er et ulige antal inputs:\n",
      "adresser: 50 priser: 29 ejerudgifter: 50 størrelser: 50\n",
      "61 fail!\n",
      "der er et ulige antal inputs:\n",
      "adresser: 50 priser: 18 ejerudgifter: 49 størrelser: 50\n",
      "62 fail!\n",
      "der er et ulige antal inputs:\n",
      "adresser: 50 priser: 32 ejerudgifter: 50 størrelser: 50\n",
      "63 fail!\n"
     ]
    }
   ],
   "source": [
    "crazydic={}\n",
    "fail=0\n",
    "for element in altboliga:\n",
    "    test=scrapeboliga(element)\n",
    "    if type(test)==dict:\n",
    "        crazydic.update(scrapeboliga(element))\n",
    "    else:\n",
    "        fail+=1\n",
    "        print(fail,\"fail!\")"
   ]
  },
  {
   "cell_type": "code",
   "execution_count": 159,
   "metadata": {},
   "outputs": [
    {
     "data": {
      "text/plain": [
       "3160"
      ]
     },
     "execution_count": 159,
     "metadata": {},
     "output_type": "execute_result"
    }
   ],
   "source": [
    "len(crazydic)"
   ]
  },
  {
   "cell_type": "code",
   "execution_count": 81,
   "metadata": {},
   "outputs": [],
   "source": [
    "import pandas as pd"
   ]
  },
  {
   "cell_type": "code",
   "execution_count": 166,
   "metadata": {},
   "outputs": [],
   "source": [
    "pandaboliga=pd.Series(crazydic)"
   ]
  },
  {
   "cell_type": "code",
   "execution_count": 167,
   "metadata": {},
   "outputs": [
    {
     "data": {
      "text/plain": [
       "[ Kongens Nytorv 21, 3. tv.            {'price': 15995000, 'size': 280, 'ejerudgift':...\n",
       " Nyhavn 38, st. Dør/lejl. 4            {'price': 7875000, 'size': 83, 'ejerudgift': 5...\n",
       " Nyhavn 23, 4.                         {'price': 8495000, 'size': 166, 'ejerudgift': ...\n",
       " Nyhavn 53D, 3.                        {'price': 11995000, 'size': 166, 'ejerudgift':...\n",
       " Nyhavn 53, 1.                         {'price': 15000000, 'size': 232, 'ejerudgift':...\n",
       "                                                             ...                        \n",
       " Julius Posselts Vej 3A, 3. lej 6      {'price': 2950000, 'size': 111, 'ejerudgift': ...\n",
       " Stigsborg Brygge, Type D3, Bolig 3    {'price': 2950000, 'size': 116, 'ejerudgift': ...\n",
       " Carl Klitgaards Vej 19, 1. TV.        {'price': 2995000, 'size': 122, 'ejerudgift': ...\n",
       " Julius Posselts Vej 3A, 5. lej 2      {'price': 3100000, 'size': 110, 'ejerudgift': ...\n",
       " Julius Posselts Vej 3A, 7. lej 5 ]    {'price': 3100000, 'size': 114, 'ejerudgift': ...\n",
       "Length: 3160, dtype: object"
      ]
     },
     "execution_count": 167,
     "metadata": {},
     "output_type": "execute_result"
    }
   ],
   "source": [
    "pandaboliga"
   ]
  },
  {
   "cell_type": "code",
   "execution_count": 182,
   "metadata": {},
   "outputs": [],
   "source": [
    "boligabiglist=list(crazydic)"
   ]
  },
  {
   "cell_type": "code",
   "execution_count": 183,
   "metadata": {},
   "outputs": [
    {
     "data": {
      "text/plain": [
       "['[ Kongens Nytorv 21, 3. tv.',\n",
       " ' Nyhavn 38, st. Dør/lejl. 4',\n",
       " ' Nyhavn 23, 4.',\n",
       " ' Nyhavn 53D, 3.',\n",
       " ' Nyhavn 53, 1.',\n",
       " ' Tordenskjoldsgade 23, 1. th',\n",
       " ' Tordenskjoldsgade 27, 5. th.',\n",
       " ' Havnegade 35, 4. th.',\n",
       " ' Havnegade 33, 5. tv',\n",
       " ' Havnegade 35, 1. tv.',\n",
       " ' Boldhusgade 4, st..',\n",
       " ' Admiralgade 19A, 1.',\n",
       " ' Nikolajgade 20, 2. th',\n",
       " ' Grønnegade 41C, st.. th.',\n",
       " ' Grønnegade 33, 1.',\n",
       " ' Store Regnegade 19A, 1. th.',\n",
       " ' Pilestræde 55, 4. tv',\n",
       " ' Pilestræde 35D, 2.',\n",
       " ' Pilestræde 35F, 3.',\n",
       " ' Gothersgade 33A, 2. th.',\n",
       " ' Gothersgade 33A  3. TV.',\n",
       " ' Gothersgade 17  2.',\n",
       " ' Gothersgade 39, 4.',\n",
       " ' Åbenrå 16, 3. tv',\n",
       " ' Hauser Plads 28, 5. tv',\n",
       " ' Hauser Plads 28, 1. th',\n",
       " ' Sankt Gertruds Stræde 8, st. tv',\n",
       " ' Købmagergade 15, 3.',\n",
       " ' Købmagergade 13A, 2. th.',\n",
       " ' Købmagergade 30, 4.',\n",
       " ' Valkendorfsgade 34, 2. tv.',\n",
       " ' Niels Hemmingsens Gade 32A, 3. th.',\n",
       " ' Niels Hemmingsens Gade 32A, 2. tv.',\n",
       " ' Skindergade 29, 1.',\n",
       " ' Skindergade 29, 4.',\n",
       " ' Nørregade 24F, st..',\n",
       " ' Nørregade 24A, 1.',\n",
       " ' Nørregade 24A, 4.',\n",
       " ' Fiolstræde 32, 2. tv',\n",
       " ' Fiolstræde 21, 3.',\n",
       " ' Fiolstræde 38, 4.',\n",
       " ' Rosengården 6, st.',\n",
       " ' Magstræde 11',\n",
       " ' Hyskenstræde 9, 2.',\n",
       " ' Kompagnistræde 7A, 4. tv.',\n",
       " ' Kompagnistræde 17, 2.',\n",
       " ' Kompagnistræde 4B, 1. tv',\n",
       " ' Kompagnistræde 4B, 1. th',\n",
       " ' Badstuestræde 10A, 3. tv',\n",
       " ' Badstuestræde 10A, 4. ]',\n",
       " '[ Badstuestræde 18D, 1. tv',\n",
       " ' Knabrostræde 21, 3.',\n",
       " ' Knabrostræde 28, 2.',\n",
       " ' Brolæggerstræde 1, mezz.',\n",
       " ' Brolæggerstræde 1, 4.',\n",
       " ' Toldbodgade 36B, 2. TV., København K',\n",
       " ' Toldbodgade 10B, st..',\n",
       " ' Toldbodgade 38C, 1. tv',\n",
       " ' Toldbodgade 10A, 4.',\n",
       " ' Toldbodgade 36A, 3. tv.',\n",
       " ' Toldbodgade 38B, 2. tv.',\n",
       " ' Lille Strandstræde 22, 1.',\n",
       " ' Store Strandstræde 18D, 2. th.',\n",
       " ' Amaliegade 11B, st.',\n",
       " ' Amaliegade 11, 1.',\n",
       " ' Esplanaden 24, 5. th.',\n",
       " ' Store Kongensgade 63A, st.  nr. 4',\n",
       " ' Store Kongensgade 23B, st. th.',\n",
       " ' Store Kongensgade 53C, st.',\n",
       " ' Store Kongensgade 110H, 1. th.',\n",
       " ' Store Kongensgade 63A, 1.  nr. 5',\n",
       " ' Store Kongensgade 23, 1.',\n",
       " ' Store Kongensgade 93, 1.',\n",
       " ' Store Kongensgade 71A, st.',\n",
       " ' Store Kongensgade 116, 5. tv',\n",
       " ' Frederiksgade 6, 3. tv.',\n",
       " ' Borgergade 26, 5.  nr. 1',\n",
       " ' Borgergade 26, 3. 4',\n",
       " ' Dronningens Tværgade 48, 4.  nr. 3',\n",
       " ' Dronningens Tværgade 46, 2. 1.',\n",
       " ' Dronningens Tværgade 59  4.',\n",
       " ' Dronningens Tværgade 34, 7. th.',\n",
       " ' Dronningens Tværgade 58, 4.',\n",
       " ' Dronningens Tværgade 16, 5.',\n",
       " ' Adelgade 49, 5. th',\n",
       " ' Sølvgade 15, 4. mf.',\n",
       " ' Sølvgade 23, 1. tv.',\n",
       " ' Sølvgade 87, 5. tv.',\n",
       " ' Fredericiagade 12, 1.',\n",
       " ' Olfert Fischers Gade 13, 1.',\n",
       " ' Sankt Pauls Gade 4, st.. th.',\n",
       " ' Sankt Pauls Gade 4, 4. th.',\n",
       " ' Sankt Pauls Gade 8, 1.',\n",
       " ' Rigensgade 9F, 2. tv.',\n",
       " ' Stokhusgade 4, st. tv.',\n",
       " ' Stokhusgade 6, 1. tv.',\n",
       " ' Gernersgade 5, st.. tv.',\n",
       " ' Rørholmsgade 20, st. th',\n",
       " ' Ole Suhrs Gade 17, 5. th',\n",
       " ' Gammeltoftsgade 12A, 3. th. ]',\n",
       " '[ Bartholinsgade 11, st. tv',\n",
       " ' Øster Søgade 32, st. th',\n",
       " ' Nørre Voldgade 24, 4. mf',\n",
       " ' Nørre Voldgade 24  3. TH.',\n",
       " ' Nørre Voldgade 54, 1. th.',\n",
       " ' Nørre Voldgade 102, 1.',\n",
       " ' Nørre Voldgade 54, 5. tv',\n",
       " ' Nørre Voldgade 48B, 2. th',\n",
       " ' Nørre Voldgade 24, st. th.',\n",
       " ' Nørre Voldgade 9, 5. th',\n",
       " ' Nørre Voldgade 10, 1.',\n",
       " ' Ahlefeldtsgade 29, 5. th',\n",
       " ' Frederiksborggade 36, 5. tv.',\n",
       " ' Linnésgade 16A, 1.',\n",
       " ' Vendersgade 31, st. th',\n",
       " ' Vendersgade 31, 5. tv',\n",
       " ' Nørre Farimagsgade 47, 4. tv.',\n",
       " ' Nørre Farimagsgade 47, 5. tv.',\n",
       " ' Nørre Farimagsgade 43, 2. tv.',\n",
       " ' Nørre Farimagsgade 49, 1. th.',\n",
       " ' Nørre Farimagsgade 49, 4. th.',\n",
       " ' Nansensgade 88, 3.',\n",
       " ' Nørre Søgade 37B, 1.  nr. 4',\n",
       " ' Nørre Søgade 37A, 1. 5',\n",
       " ' Nørre Søgade 37A  4. 5.',\n",
       " ' Nørre Søgade 9A, 1. tv.',\n",
       " ' Strandgade 44G, 1. tv., Christianshavn',\n",
       " ' Strandgade 44C, st. tv',\n",
       " ' Strandgade 24D, st..',\n",
       " ' Strandgade 10B, 3.',\n",
       " ' Strandgade 79, 2.  nr. 4',\n",
       " ' Strandgade 79, 1. 2.',\n",
       " ' Nicolai Eigtveds Gade 34, st.. th., Christianshavn',\n",
       " ' Nicolai Eigtveds Gade 34, 4. tv',\n",
       " ' David Balfours Gade 5, 1. tv.',\n",
       " ' Wildersgade 53, st.. tv., Christianshavn',\n",
       " ' Wildersgade 3, st. tv',\n",
       " ' Wildersgade 2B, 3. tv',\n",
       " ' Wildersgade 60C, 1. tv',\n",
       " ' Overgaden Oven Vandet 20, 3.',\n",
       " ' Sankt Annæ Gade 17  mezz. tv.',\n",
       " ' Sankt Annæ Gade 13, 4. tv.',\n",
       " ' Sankt Annæ Gade 15, 3. TV.',\n",
       " ' Sofiegade 24, st. 4',\n",
       " ' Dronningensgade 59, 3. tv',\n",
       " ' Dronningensgade 13, 2., Christianshavn',\n",
       " ' Prinsessegade 4A, 2. 64',\n",
       " ' Christianshavns Voldgade 23, 1. th.',\n",
       " ' Christianshavns Voldgade 1, st. th.',\n",
       " ' Ved Volden 6, ST. TV. ]',\n",
       " '[ Ved Volden 7, 1. tv.',\n",
       " ' Ved Volden 5, 1. th',\n",
       " ' Ved Volden 5, 2. tv',\n",
       " ' Ved Volden 1, 5. th',\n",
       " ' Ved Volden 12, 1. tv',\n",
       " ' Ved Volden 1, 1. th., Christianshavn',\n",
       " ' Ved Volden 11, 1. tv., Christianshavn',\n",
       " ' Brobergsgade 9, st.. tv.',\n",
       " ' Andreas Bjørns Gade 2, st.. tv., Christianshavn',\n",
       " ' Burmeistersgade 15, 5. th.',\n",
       " ' William Wains Gade 19, HUSBÅD',\n",
       " ' Margretheholmsvej 62, 7. th.',\n",
       " ' Margretheholmsvej 62, 1. tv., Margretheholmen',\n",
       " ' Margretheholmsvej 56, 3. tv., Margretheholmen',\n",
       " ' Margretheholmsvej 60, 3. tv',\n",
       " ' Margretheholmsvej 68, 2. th., Margretheholmen',\n",
       " ' Margretheholmsvej 70, 2. tv',\n",
       " ' Margretheholmsvej 58, 1. tv',\n",
       " ' Margretheholmsvej 68, 4. tv., Margretheholmen',\n",
       " ' Margretheholmsvej 72, 3. tv.',\n",
       " ' Margretheholmsvej 72, 6. th., Margretheholmen',\n",
       " ' Margretheholmsvej 64, 6. th.',\n",
       " ' Trangravsvej 1, HUSBÅD',\n",
       " ' Galionsvej 5, 2. 26., Holmen',\n",
       " ' Galionsvej 23, 2. tv., Holmen',\n",
       " ' Galionsvej 1L, st.., Holmen',\n",
       " ' Krudtløbsvej 3, HUSBÅD',\n",
       " ' Sankt Peders Stræde 32, st. tv.',\n",
       " ' Sankt Peders Stræde 21, 2.  nr. 2',\n",
       " ' Larsbjørnsstræde 13, 2.',\n",
       " ' Studiestræde 15, 2.',\n",
       " ' Frederiksberggade 5, 3.',\n",
       " ' Mikkel Bryggers Gade 3B, 1. th.',\n",
       " ' Lavendelstræde 11, 1.',\n",
       " ' Lavendelstræde 9, 3. Dør/lejl. 1',\n",
       " ' Løngangstræde 21G',\n",
       " ' H.C. Andersens Boulevard 40, 5. tv',\n",
       " ' H.C. Andersens Boulevard 42, 3. tv',\n",
       " ' H.C. Andersens Boulevard 51, 5. th.',\n",
       " ' Havneholmen 34, 4. th.',\n",
       " ' Havneholmen 40, ST. TH.',\n",
       " ' Havneholmen 78, 4. tv., Vesterbro',\n",
       " ' Havneholmen 70  2. -2.',\n",
       " ' Havneholmen 48, 3. tv',\n",
       " ' Havneholmen 66, st. th',\n",
       " ' Havneholmen 36, 5. tv.',\n",
       " ' Hambrosgade 6  5. TH.',\n",
       " ' Puggaardsgade 13  3. th.',\n",
       " ' Stoltenbergsgade 5, mezz.. th.',\n",
       " ' Stoltenbergsgade 3, 5. tv. ]',\n",
       " '[ Gyldenløvesgade 21, 2. th.',\n",
       " ' Vester Søgade 78, 2. 2., Vestersøhus',\n",
       " ' Vester Søgade 78  5. 2.',\n",
       " ' Vester Søgade 62, st. tv',\n",
       " ' Vester Søgade 14, 1. th',\n",
       " ' Vester Søgade 20, 1. tv',\n",
       " ' Vester Søgade 22, 2. th',\n",
       " ' Vester Søgade 52, 2. th.',\n",
       " ' Vester Søgade 18, 1. th',\n",
       " ' Vester Søgade 48, 2. th.',\n",
       " ' Vester Søgade 74, 1. tv',\n",
       " ' Vester Søgade 68, 6.',\n",
       " ' Jernbanegade 7, 3.',\n",
       " ' Vesterbrogade 119, st. th',\n",
       " ' Vesterbrogade 114  st. th.',\n",
       " ' Vesterbrogade 97C, 2., Vesterbro',\n",
       " ' Vesterbrogade 88, 5.',\n",
       " ' Vesterbrogade 114, st. tv',\n",
       " ' Vesterbrogade 85  3.',\n",
       " ' Vesterbrogade 38, 3.',\n",
       " ' Vesterbrogade 39, 4. tv.',\n",
       " ' Istedgade 71, 1. th.',\n",
       " ' Istedgade 88, 1.',\n",
       " ' Helgolandsgade 6B, 3.',\n",
       " ' Eskildsgade 62, 1.',\n",
       " ' Dannebrogsgade 21, 3. th',\n",
       " ' Dannebrogsgade 21  4. TV.',\n",
       " ' Valdemarsgade 1A, st. th',\n",
       " ' Valdemarsgade 49A, 2. tv.',\n",
       " ' Mysundegade 5, st. tv.',\n",
       " ' Mysundegade 18, 2. th',\n",
       " ' Flensborggade 7  2. TV.',\n",
       " ' Enghave Plads 23B  ST. TV.',\n",
       " ' Enghave Plads 7  2. TV.',\n",
       " ' Broagergade 4, 2. th.',\n",
       " ' Enghavevej 31, 2. 13',\n",
       " ' Enghavevej 13, 3. tv',\n",
       " ' Enghavevej 7, 4. th.',\n",
       " ' Enghavevej 29  3. TV.',\n",
       " ' Enghavevej 5, 3. th.',\n",
       " ' Enghavevej 25  3. TV.',\n",
       " ' Enghavevej 25, 2. th.',\n",
       " ' Enghavevej TR5, 1. tv.',\n",
       " ' Enghavevej TR6, 1. mf.',\n",
       " ' Enghavevej TR6, 5.',\n",
       " ' Enghavevej TR3, 2. th.',\n",
       " ' Enghavevej TR5, 1. th.',\n",
       " ' Enghavevej TR1, 2. th.',\n",
       " ' Enghavevej TR5, 2. mf.',\n",
       " ' Enghavevej TR5, 4. mf. ]',\n",
       " '[ Enghavevej TR4, st.. tv.',\n",
       " ' Halmtorvet 29B, 1. th',\n",
       " ' Halmtorvet 58, 3. tv',\n",
       " ' Halmtorvet 29F, 2. tv',\n",
       " ' Halmtorvet 29C, st.. tv.',\n",
       " ' Halmtorvet 29C, 1. tv',\n",
       " ' Halmtorvet 29D, 2. tv.',\n",
       " ' Halmtorvet 29A, 5. th.',\n",
       " ' Ingerslevsgade 110, 5. th',\n",
       " ' Eriksgade 3, 5. tv.',\n",
       " ' Sønder Boulevard 24, st. th',\n",
       " ' Sønder Boulevard 20, 1. TV.',\n",
       " ' Sønder Boulevard 74, 1. th',\n",
       " ' Sønder Boulevard 34, 1. tv.',\n",
       " ' Dybbølsgade 54, st. th',\n",
       " ' Godsbanegade 4, 5.',\n",
       " ' Esbern Snares Gade 9, 2. tv',\n",
       " ' Sundevedsgade TR2',\n",
       " ' Kapselgade 4, 2.  nr. 2, Administrationsbygningen, Carlsberg Byen',\n",
       " ' Kapselgade 4, 2.  nr. 5, Administrationsbygningen, Carlsberg Byen',\n",
       " ' Kapselgade 4, 2.  nr. 10, Administrationsbygningen, Carlsberg Byen',\n",
       " ' Kapselgade 4, 2.  nr. 11, Administrationsbygningen, Carlsberg Byen',\n",
       " ' Kapselgade 4, 2.  nr. 3, Administrationsbygningen, Carlsberg Byen',\n",
       " ' Kapselgade 4, 2.  nr. 1, Administrationsbygningen, Carlsberg Byen',\n",
       " ' Kapselgade 4, 2.  nr. 9, Administrationsbygningen, Carlsberg Byen',\n",
       " ' Kapselgade 4, 2.  nr. 4, Administrationsbygningen, Carlsberg Byen',\n",
       " ' Kapselgade 4, 2.  nr. 6, Administrationsbygningen, Carlsberg Byen',\n",
       " ' Kapselgade 4, 3.  nr. 19, Administrationsbygningen, Carlsberg Byen',\n",
       " ' Kapselgade 4, 3.  nr. 25, Administrationsbygningen, Carlsberg Byen',\n",
       " ' J.C. Jacobsens Gade 11, 1. mf., Caroline Hus, Carlsberg Byen',\n",
       " ' Kapselgade 4, 2.  nr. 8, Administrationsbygningen, Carlsberg Byen',\n",
       " ' Kapselgade 4, 3.  nr. 26, Administrationsbygningen, Carlsberg Byen',\n",
       " ' J.C. Jacobsens Gade 11, 2. mf., Caroline Hus, Carlsberg Byen',\n",
       " ' Kapselgade 4, 3.  nr. 28, Administrationsbygningen, Carlsberg Byen',\n",
       " ' Kapselgade 4, 3.  nr. 27, Administrationsbygningen, Carlsberg Byen',\n",
       " ' Kapselgade 4, 3.  nr. 21, Administrationsbygningen, Carlsberg Byen',\n",
       " ' Kapselgade 4, 3.  nr. 23, Administrationsbygningen, Carlsberg Byen',\n",
       " ' Kapselgade 4, 3.  nr. 20, Administrationsbygningen, Carlsberg Byen',\n",
       " ' Kapselgade 4, 3.  nr. 32, Administrationsbygningen, Carlsberg Byen',\n",
       " ' Kapselgade 4, 3.  nr. 24, Administrationsbygningen, Carlsberg Byen',\n",
       " ' J.C. Jacobsens Gade 11, 3. mf., Caroline Hus, Carlsberg Byen',\n",
       " ' Kapselgade 4, 2.  nr. 12, Administrationsbygningen, Carlsberg Byen',\n",
       " ' J.C. Jacobsens Gade 11, 4. mf., Caroline Hus, Carlsberg Byen',\n",
       " ' Kapselgade 4, 2.  nr. 16, Administrationsbygningen, Carlsberg Byen',\n",
       " ' Kapselgade 4, 2.  nr. 15, Administrationsbygningen, Carlsberg Byen',\n",
       " ' J.C. Jacobsens Gade 15, 1. th., Caroline Hus, Carlsberg Byen',\n",
       " ' Bryggernes Plads 20, 2.  nr. 2, Caroline Hus, Carlsberg Byen',\n",
       " ' J.C. Jacobsens Gade 15, 2. mf., Caroline Hus, Carlsberg Byen',\n",
       " ' Bag Elefanterne 27, st. mf., Fristrup Hus, Carlsberg Byen',\n",
       " ' Bag Elefanterne 25, 1. mf., Fristrup Hus, Carlsberg Byen ]',\n",
       " '[ Malttorvet 20, st. mf., Brygmester Hus, Carlsberg Byen',\n",
       " ' Kildepladsen 18, 1.  nr. 2, Djørup Hus, Carlsberg Byen',\n",
       " ' Kildepladsen 18, 1.  nr. 1, Djørup Hus, Carlsberg Byen',\n",
       " ' Bag Elefanterne 29, 1. mf., Fristrup Hus, Carlsberg Byen',\n",
       " ' Bag Elefanterne 31, 1.  nr. 2, Fristrup Hus, Carlsberg Byen',\n",
       " ' Paulas Passage 3, 5.  nr. 4, Dahlerups Tårn, Carlsberg Byen',\n",
       " ' Paulas Passage 3, 5.  nr. 3, Dahlerups Tårn, Carlsberg Byen',\n",
       " ' Kapselgade 4, 3.  nr. 29, Administrationsbygningen, Carlsberg Byen',\n",
       " ' Kildepladsen 18, 2.  nr. 2, Djørup Hus, Carlsberg Byen',\n",
       " ' Kildepladsen 18, 2.  nr. 1, Djørup Hus, Carlsberg Byen',\n",
       " ' Paulas Passage 3, 6.  nr. 3, Dahlerups Tårn, Carlsberg Byen',\n",
       " ' Paulas Passage 3, 6.  nr. 4, Dahlerups Tårn, Carlsberg Byen',\n",
       " ' Bag Elefanterne 25, 2. mf., Fristrup Hus, Carlsberg Byen',\n",
       " ' Gamle Carlsberg Vej 9, st. th., Brygmester Hus, Carlsberg Byen',\n",
       " ' Bag Elefanterne 31, 2.  nr. 2, Fristrup Hus, Carlsberg Byen',\n",
       " ' Bag Elefanterne 29, 2. mf., Fristrup Hus, Carlsberg Byen',\n",
       " ' Paulas Passage 3, 7.  nr. 4, Dahlerups Tårn, Carlsberg Byen',\n",
       " ' Paulas Passage 3, 7.  nr. 3, Dahlerups Tårn, Carlsberg Byen',\n",
       " ' J.C. Jacobsens Gade 15, 3. mf., Caroline Hus, Carlsberg Byen',\n",
       " ' Kildepladsen 18, 1.  nr. 5, Djørup Hus, Carlsberg Byen',\n",
       " ' Paulas Passage 3, 8.  nr. 3, Dahlerups Tårn, Carlsberg Byen',\n",
       " ' Paulas Passage 3, 8.  nr. 4, Dahlerups Tårn, Carlsberg Byen',\n",
       " ' Bryggernes Plads 20, 3.  nr. 2, Caroline Hus, Carlbserg Byen',\n",
       " ' Bag Elefanterne 25, 3. mf., Fristrup Hus, Carlsberg Byen',\n",
       " ' Malttorvet 20, 1. mf., Brygmester Hus, Carlsberg Byen',\n",
       " ' Kildepladsen 18, 2.  nr. 5, Djørup Hus, Carlsberg Byen',\n",
       " ' Bag Elefanterne 27, 1. mf., Fristrup Hus, Carlsberg Byen',\n",
       " ' Kildepladsen 14, 1.  nr. 3, Djørup Hus, Carlsberg Byen',\n",
       " ' Kildepladsen 14, 1.  nr. 2, Djørup Hus, Carlsberg Byen',\n",
       " ' J.C. Jacobsens Gade 15, 4. mf., Caroline Hus, Carlsberg Byen',\n",
       " ' Malttorvet 20, 2. mf., Brygmester Hus, Carlsberg Byen',\n",
       " ' Kildepladsen 14, 2.  nr. 3, Djørup Hus, Carlsberg Byen',\n",
       " ' Bag Elefanterne 27, 2. mf., Fristrup Hus, Carlsberg Byen',\n",
       " ' Bryggernes Plads 20, 4.  nr. 2, Caroline Hus, Carlsberg Byen',\n",
       " ' Flaskegade 11  3. 4.',\n",
       " ' Paulas Passage 3, 13.  nr. 3, Dahlerups Tårn, Carlsberg Byen',\n",
       " ' J.C. Jacobsens Gade 15, 5. mf., Caroline Hus, Carlsberg Byen',\n",
       " ' Fadet 29, 4. tv., Carlsberg Byen, Mineralvandshuset',\n",
       " ' Bag Elefanterne 27, st. tv., Fristrup Hus, Carlsberg Byen',\n",
       " ' Bryggernes Plads 20, 1.  nr. 1, Caroline Hus, Carlsberg Byen',\n",
       " ' Bryggernes Plads 20, 5.  nr. 2, Caroline Hus, Carlsberg Byen',\n",
       " ' Bag Elefanterne 27, 1. tv., Fristrup Hus, Carlsberg Byen',\n",
       " ' Paulas Passage 3, 17.  nr. 3, Dahlerups Tårn, Carlsberg Byen',\n",
       " ' Paulas Passage 3, 18.  nr. 3, Dahlerups Tårn, Carlsberg Byen',\n",
       " ' Paulas Passage 3, 4.  nr. 3, Dahlerups Tårn, Carlsberg Byen',\n",
       " ' Paulas Passage 3, 4.  nr. 4, Dahlerups Tårn, Carlsberg Byen',\n",
       " ' Bryggernes Plads 20, 2.  nr. 1, Caroline Hus, Carlsberg Byen',\n",
       " ' Johanne Møllers Passage 13, 1. tv., Caroline Hus, Carlsberg Byen',\n",
       " ' Bryggernes Plads 20, 3.  nr. 1, Caroline Hus, Carlsberg Byen',\n",
       " ' Bryggernes Plads 20, 4.  nr. 1, Caroline Hus, Carlsberg Byen ]',\n",
       " '[ Constantin Hansens Gade 25, 6.  nr. 2, Tuxens Tårn, Carlsberg Byen',\n",
       " ' Johanne Møllers Passage 13, 3. tv., Caroline Hus, Carlsberg Byen',\n",
       " ' Vesterfælledvej 66E, 5.',\n",
       " ' Kildepladsen 18, 1.  nr. 4, Djørup Hus, Carlsberg Byen',\n",
       " ' Paulas Passage 3, 5.  nr. 5, Dahlerups Tårn, Carlsberg Byen',\n",
       " ' Bryggernes Plads 20, 1.  nr. 3, Caroline Hus, Carlsberg Byen',\n",
       " ' Paulas Passage 3, 5.  nr. 2, Dahlerups Tårn, Carlsberg Byen',\n",
       " ' Kildepladsen 18, 2.  nr. 4, Djørup Hus, Carlsberg Byen',\n",
       " ' Johanne Møllers Passage 13, 4. tv., Caroline Hus, Carlsberg Byen',\n",
       " ' Paulas Passage 3, 8.  nr. 2, Dahlerups Tårn, Carlsberg Byen',\n",
       " ' Paulas Passage 3, 9.  nr. 4, Dahlerups Tårn, Carlsberg Byen',\n",
       " ' Malttorvet 22, 3. th., Brygmester Hus, Carlsberg Byen',\n",
       " ' Kildepladsen 14, 1.  nr. 1, Djørup Hus, Carlsberg Byen',\n",
       " ' Paulas Passage 2, 1. th.',\n",
       " ' Vesterfælledvej 66C  1. th.',\n",
       " ' Bag Elefanterne 29, st. th., Fristrup Hus, Carlsberg Byen',\n",
       " ' Fadet 3, 5. th., Carlsberg Byen, Mineralvandshuset',\n",
       " ' Bag Elefanterne 25, 1. tv., Fristrup Hus, Carlsberg Byen',\n",
       " ' Kildepladsen 18, 1.  nr. 3, Djørup Hus, Carlsberg Byen',\n",
       " ' Kildepladsen 14, 2.  nr. 1, Djørup Hus, Carlsberg Byen',\n",
       " ' Bag Elefanterne 29, 1. th., Fristrup Hus, Carlsberg Byen',\n",
       " ' Bag Elefanterne 29, 1. tv., Fristrup Hus, Carlsberg Byen',\n",
       " ' Paulas Passage 3, 4.  nr. 6, Dahlerups Tårn, Carlsberg Byen',\n",
       " ' Paulas Passage 3, 13.  nr. 4, Dahlerups Tårn, Carlsberg Byen',\n",
       " ' Bag Elefanterne 25, 1. th., Fristrup Hus, Carlsberg Byen',\n",
       " ' Bag Elefanterne 25, 2. tv., Fristrup Hus, Carlsberg Byen',\n",
       " ' Kildepladsen 18, 2.  nr. 3, Djørup Hus, Carlsberg Byen',\n",
       " ' Bag Elefanterne 29, 2. th., Fristrup Hus, Carlsberg Byen',\n",
       " ' Bag Elefanterne 29, 2. tv., Fristrup Hus, Carlsberg Byen',\n",
       " ' Paulas Passage 3, 5.  nr. 6, Dahlerups Tårn, Carlsberg Byen',\n",
       " ' J.C. Jacobsens Gade 15, 2. th., Caroline Hus, Carlsberg Byen',\n",
       " ' J.C. Jacobsens Gade 15, 1. tv., Caroline Hus, Carlsberg Byen',\n",
       " ' Bryggernes Plads 20, 3.  nr. 3, Caroline Hus, Carlsberg Byen',\n",
       " ' J.C. Jacobsens Gade 15, 2. tv., Caroline Hus, Carlsberg Byen',\n",
       " ' Bag Elefanterne 25, st. th., Fristrup Hus, Carlsberg Byen',\n",
       " ' Bag Elefanterne 27, 4. th., Fristrup Hus, Carlsberg Byen',\n",
       " ' Bag Elefanterne 31, st., Fristrup Hus, Carlsberg Byen',\n",
       " ' Paulas Passage 3, 4.  nr. 1, Dahlerups Tårn, Carlsberg Byen',\n",
       " ' Bag Elefanterne 25, 2. th., Fristrup Hus, Carlsberg Byen',\n",
       " ' Bag Elefanterne 25, 3. tv., Fristrup Hus, Carlsberg Byen',\n",
       " ' Malttorvet 22, 1. th., Brygmester Hus, Carlsberg Byen',\n",
       " ' Thorvald Bindesbølls Plads 2, st. th.',\n",
       " ' Paulas Passage 3, 5.  nr. 1, Dahlerups Tårn, Carlsberg Byen',\n",
       " ' Paulas Passage 3, 8.  nr. 6, Dahlerups Tårn, Carlsberg Byen',\n",
       " ' Paulas Passage 3, 17.  nr. 4, Dahlerups Tårn, Carlsberg Byen',\n",
       " ' Bryggernes Plads 20, 3.  nr. 4, Caroline Hus, Carlsberg Byen',\n",
       " ' J.C. Jacobsens Gade 15, 3. th., Caroline Hus, Carlsberg Byen',\n",
       " ' Bryggernes Plads 20, 4.  nr. 3, Caroline Hus, Carlsberg Byen',\n",
       " ' J.C. Jacobsens Gade 15, 3. tv., Caroline Hus, Carlsberg Byen',\n",
       " ' Paulas Passage 3, 8.  nr. 1, Dahlerups Tårn, Carlsberg Byen ]',\n",
       " '[ Bag Elefanterne 27, 5., Fristrup Hus, Carlsberg Byen',\n",
       " ' Bag Elefanterne 27, st. th., Fristrup Hus, Carlsberg Byen',\n",
       " ' Bag Elefanterne 25, 3. th., Fristrup Hus, Carlsberg Byen',\n",
       " ' Gamle Carlsberg Vej 9, 1. th., Brygmester Hus, Carlsberg Byen',\n",
       " ' Malttorvet 22, 2. th., Brygmester Hus, Carlsberg Byen',\n",
       " ' Malttorvet 20, st. th., Brygmester Hus, Carlsberg Byen',\n",
       " ' Malttorvet 18, st. tv., Brygmester Hus, Carlsberg Byen',\n",
       " ' Constantin Hansens Gade 25, 5.  nr. 1, Tuxens Tårn, Carlsberg Byen',\n",
       " ' Constantin Hansens Gade 25, 4.  nr. 4, Tuxens Tårn, Carlsberg Byen',\n",
       " ' Bag Elefanterne 29, 4. tv., Fristrup Hus, Carlsberg Byen',\n",
       " ' Bag Elefanterne 31, 1.  nr. 4, Fristrup Hus, Carlsberg Byen',\n",
       " ' Bag Elefanterne 29, 4. th., Fristrup Hus, Carlsberg Byen',\n",
       " ' Paulas Passage 3, 9.  nr. 1, Dahlerups Tårn, Carlsberg Byen',\n",
       " ' Fadet 3, 2. tv., Carlsberg Byen, Mineralvandshuset',\n",
       " ' Bag Elefanterne 31, 2.  nr. 4, Fristrup Hus, Carlsberg Byen',\n",
       " ' Bryggernes Plads 20, 5.  nr. 3, Caroline Hus, Carlsberg Byen',\n",
       " ' J.C. Jacobsens Gade 15, 4. th., Caroline Hus, Carlsberg Byen',\n",
       " ' J.C. Jacobsens Gade 15, 4. tv., Caroline Hus, Carlsberg Byen',\n",
       " ' Fadet 3, 4. tv., Carlsberg Byen, Mineralvandshuset',\n",
       " ' Bag Elefanterne 31, 3. th., Fristrup Hus, Carlsberg Byen',\n",
       " ' Paulas Passage 3, 13.  nr. 1, Dahlerups Tårn, Carlsberg Byen',\n",
       " ' Paulas Passage 3, 4.  nr. 2, Dahlerups Tårn, Carlsberg Byen',\n",
       " ' Paulas Passage 3, 4.  nr. 5, Dahlerups Tårn, Carlsberg Byen',\n",
       " ' Kildepladsen 14, 1.  nr. 4, Djørup Hus, Carlsberg Byen',\n",
       " ' Bag Elefanterne 33, 1. th., Fristrup Hus, Carlsberg Byen',\n",
       " ' Fadet 3, 5. tv., Carlsberg Byen, Mineralvandshuset',\n",
       " ' Bag Elefanterne 31, 4. th., Fristrup Hus, Carlsberg Byen',\n",
       " ' J.C. Jacobsens Gade 15, 5. th., Caroline Hus, Carlsberg Byen',\n",
       " ' Bryggernes Plads 20, 5.  nr. 4, Caroline Hus, Carlsberg Byen',\n",
       " ' J.C. Jacobsens Gade 15, 5. tv., Caroline Hus, Carlsberg Byen',\n",
       " ' Kildepladsen 14, 2.  nr. 4, Djørup Hus, Carlsberg Byen',\n",
       " ' Bag Elefanterne 33, 2. th., Fristrup Hus, Carlsberg Byen',\n",
       " ' Malttorvet 18, 1. tv., Brygmester Hus, Carlsberg Byen',\n",
       " ' Paulas Passage 3, 19.  nr. 4, Dahlerups Tårn, Carlsberg Byen',\n",
       " ' Paulas Passage 3, 17.  nr. 1, Dahlerups Tårn, Carlsberg Byen',\n",
       " ' Bag Elefanterne 33, 3. th., Fristrup Hus, Carlsberg Byen',\n",
       " ' Paulas Passage 3, 18.  nr. 1, Dahlerups Tårn, Carlsberg Byen',\n",
       " ' J.C. Jacobsens Gade 11, 1. th., Caroline Hus, Carlsberg Byen',\n",
       " ' J.C. Jacobsens Gade 11, 1. tv., Caroline Hus, Carlsberg Byen',\n",
       " ' Bag Elefanterne 27, 1. th., Fristrup Hus, Carlsberg Byen',\n",
       " ' Malttorvet 18, 2. tv., Brygmester Hus, Carlsberg Byen',\n",
       " ' Malttorvet 18, 3. tv., Brygmester Hus, Carlsberg Byen',\n",
       " ' Bag Elefanterne 39, st. tv., Fristrup Hus, Carlsberg Byen',\n",
       " ' Bag Elefanterne 39, st. th., Fristrup Hus, Carlsberg Byen',\n",
       " ' Bag Elefanterne 31, 1.  nr. 3, Fristrup Hus, Carlsberg Byen',\n",
       " ' Bag Elefanterne 29, 3. th., Fristrup Hus, Carlsberg Byen',\n",
       " ' Bag Elefanterne 29, 3. tv., Fristrup Hus, Carlsberg Byen',\n",
       " ' Bag Elefanterne 29, st. tv., Fristrup Hus, Carlsberg Byen',\n",
       " ' Paulas Passage 3, 19.  nr. 1, Dahlerups Tårn, Carlsberg Byen',\n",
       " ' Bag Elefanterne 33, 4. th., Fristrup Hus, Carlsberg Byen ]',\n",
       " '[ Bag Elefanterne 27, 2. th., Fristrup Hus, Carlsberg Byen',\n",
       " ' Malttorvet 22, 1. tv., Brygmester Hus, Carlsberg Byen',\n",
       " ' Malttorvet 20, st. tv., Brygmester Hus, Carlsberg Byen',\n",
       " ' Bag Elefanterne 31, 2.  nr. 3, Fristrup Hus, Carlsberg Byen',\n",
       " ' Bag Elefanterne 39, 1. tv., Fristrup Hus, Carlsberg Byen',\n",
       " ' Constantin Hansens Gade 37, 2. tv',\n",
       " ' J.C. Jacobsens Gade 11, 2. tv., Caroline Hus, Carlsberg Byen',\n",
       " ' J.C. Jacobsens Gade 11, 2. th., Caroline Hus, Carlsberg Byen',\n",
       " ' Købkes Plads 30, 2. tv',\n",
       " ' Bag Elefanterne 39, 2. tv., Fristrup Hus, Carlsberg Byen',\n",
       " ' Johanne Møllers Passage 9, 1. th., Caroline Hus, Carlsberg Byen',\n",
       " ' Johanne Møllers Passage 9, 1. tv., Caroline Hus, Carlsberg Byen',\n",
       " ' Johanne Møllers Passage 7, st. th., Caroline Hus, Carlsberg Byen',\n",
       " ' Johanne Møllers Passage 7, 1. tv., Caroline Hus, Carlsberg Byen',\n",
       " ' Johanne Møllers Passage 9, st. th., Caroline Hus, Carlsberg Byen',\n",
       " ' Johanne Møllers Passage 7, st. tv., Caroline Hus, Carlsberg Byen',\n",
       " ' Johanne Møllers Passage 9, st. tv., Caroline Hus, Carlsberg Byen',\n",
       " ' Johanne Møllers Passage 7, 1. th., Caroline Hus, Carlsberg Byen',\n",
       " ' Bag Elefanterne 39, 1. th., Fristrup Hus, Carlsberg Byen',\n",
       " ' Gamle Carlsberg Vej 9, 2. th., Brygmester Hus, Carlsberg Byen',\n",
       " ' Malttorvet 22, 2. tv., Brygmester Hus, Carlsberg Byen',\n",
       " ' Constantin Hansens Gade 25, 4.  nr. 2, Tuxens Tårn, Carlsberg Byen',\n",
       " ' Vesterfælledvej 62B, 4. 2',\n",
       " ' Bag Elefanterne 39, 3. tv., Fristrup Hus, Carlsberg Byen',\n",
       " ' Bag Elefanterne 39, 2. th., Fristrup Hus, Carlsberg Byen',\n",
       " ' J.C. Jacobsens Gade 11, 3. th., Caroline Hus, Carlsberg Byen',\n",
       " ' J.C. Jacobsens Gade 11, 3. tv., Caroline Hus, Carlsberg Byen',\n",
       " ' Gamle Carlsberg Vej 9, 3. th., Brygmester Hus, Carlsberg Byen',\n",
       " ' Bag Elefanterne 39, 3. th., Fristrup Hus, Carlsberg Byen',\n",
       " ' Bag Elefanterne 37, 1. mf., Fristrup Hus, Carlsberg Byen',\n",
       " ' Bag Elefanterne 25, st. tv., Fristrup Hus, Carlsberg Byen',\n",
       " ' Bag Elefanterne 35, 1. tv., Fristrup Hus, Carlsberg Byen',\n",
       " ' Malttorvet 22, 3. tv., Brygmester Hus, Carlsberg Byen',\n",
       " ' Malttorvet 20, 1. tv., Brygmester Hus, Carlsberg Byen',\n",
       " ' Malttorvet 20, 3., Brygmester Hus, Carlsberg Byen',\n",
       " ' Bag Elefanterne 33, 1. tv., Fristrup Hus, Carlsberg Byen',\n",
       " ' Johanne Møllers Passage 9, 2. th., Caroline Hus, Carlsberg Byen',\n",
       " ' J.C. Jacobsens Gade 11, 4. th., Caroline Hus, Carlsberg Byen',\n",
       " ' J.C. Jacobsens Gade 11, 4. tv., Caroline Hus, Carlsberg Byen',\n",
       " ' Johanne Møllers Passage 7, 2. th., Caroline Hus, Carlsberg Byen',\n",
       " ' Johanne Møllers Passage 7, 2. tv., Caroline Hus, Carlsberg Byen',\n",
       " ' Johanne Møllers Passage 9, 2. tv., Caroline Hus, Carlsberg Byen',\n",
       " ' Bag Elefanterne 35, 2. th., Fristrup Hus, Carlsberg Byen',\n",
       " ' Bag Elefanterne 33, 2. tv., Fristrup Hus, Carlsberg Byen',\n",
       " ' Malttorvet 20, 2. tv., Brygmester Hus, Carlsberg Byen',\n",
       " ' Malttorvet 18, 4. tv., Brygmester Hus, Carlsberg Byen',\n",
       " ' Thorvald Bindesbølls Plads 22  st. th.',\n",
       " ' Bag Elefanterne 33, 3. tv., Fristrup Hus, Carlsberg Byen',\n",
       " ' Bag Elefanterne 35, 5. th., Fristrup Hus, Carlsberg Byen',\n",
       " ' Bag Elefanterne 37, st. th., Fristrup Hus, Carlsberg Byen ]',\n",
       " '[ Fadet 19, 2. th., Carlsberg Byen, Mineralvandshuset',\n",
       " ' Fadet 5, 2. th., Carlsberg Byen, Mineralvandshuset',\n",
       " ' Bag Elefanterne 37, 1. tv., Fristrup Hus, Carlsberg Byen',\n",
       " ' Fadet 5, 1. th., Carlsberg Byen, Mineralvandshuset',\n",
       " ' Malttorvet 22, 1. mf., Brygmester Hus, Carlsberg Byen',\n",
       " ' Johanne Møllers Passage 7, 3. tv., Caroline Hus, Carlsberg Byen',\n",
       " ' Johanne Møllers Passage 7, 3. th., Caroline Hus, Carlsberg Byen',\n",
       " ' Johanne Møllers Passage 9, 3. tv., Caroline Hus, Carlsberg Byen',\n",
       " ' Johanne Møllers Passage 9, 3. th., Caroline Hus, Carlsberg Byen',\n",
       " ' Bag Elefanterne 37, 2. tv., Fristrup Hus, Carlsberg Byen',\n",
       " ' Fadet 5, 2. mf., Carlsberg Byen, Mineralvandshuset',\n",
       " ' Bag Elefanterne 35, st. tv., Fristrup Hus, Carlsberg Byen',\n",
       " ' Bag Elefanterne 37, 1. th., Fristrup Hus, Carlsberg Byen',\n",
       " ' Gamle Carlsberg Vej 7, 2. th., Brygmester Hus, Carlsberg Byen',\n",
       " ' Bag Elefanterne 37, 3. tv., Fristrup Hus, Carlsberg Byen',\n",
       " ' Bohrsgade 2, 17.  nr. 1, Bohrs Tårn, Carlsberg Byen',\n",
       " ' Johanne Møllers Passage 13, 1. th., Caroline Hus, Carlsberg Byen',\n",
       " ' Malttorvet 22, 2. mf., Brygmester Hus, Carlsberg Byen',\n",
       " ' Bag Elefanterne 37, 2. th., Fristrup Hus, Carlsberg Byen',\n",
       " ' Fadet 5, 4. mf., Carlsberg Byen, Mineralvandshuset',\n",
       " ' Johanne Møllers Passage 9, 4. th., Caroline Hus, Carlsberg Byen',\n",
       " ' Johanne Møllers Passage 7, 4. th., Caroline Hus, Carlsberg Byen',\n",
       " ' Johanne Møllers Passage 9, 4. tv., Caroline Hus, Carlsberg Byen',\n",
       " ' Johanne Møllers Passage 7, 4. tv., Caroline Hus, Carlsberg Byen',\n",
       " ' Paulas Passage 3, 13.  nr. 2, Dahlerups Tårn, Carlsberg Byen',\n",
       " ' Bohrsgade 2, 19.  nr. 1, Bohrs Tårn, Carlsberg Byen',\n",
       " ' Fadet 5, 5. tv., Carlsberg Byen, Mineralvandshuset',\n",
       " ' Bag Elefanterne 31, 1.  nr. 1, Fristrup Hus, Carlsberg Byen',\n",
       " ' Bag Elefanterne 33, st., Fristrup Hus, Carlsberg Byen',\n",
       " ' Bag Elefanterne 31, 2.  nr. 1, Fristrup Hus, Carlsberg Byen',\n",
       " ' Johanne Møllers Passage 13, 3. th., Caroline Hus, Carlsberg Byen',\n",
       " ' Fadet 5, 5. th., Carlsberg Byen, Mineralvandshuset',\n",
       " ' Paulas Passage 3, 17.  nr. 2, Dahlerups Tårn, Carlsberg Byen',\n",
       " ' Johanne Møllers Passage 13, 3. mf., Caroline Hus, Carlsberg Byen',\n",
       " ' Bag Elefanterne 31, 3. mf., Fristrup Hus, Carlsberg Byen',\n",
       " ' Bag Elefanterne 31, 3. tv., Fristrup Hus, Carlsberg Byen',\n",
       " ' Bohrsgade 2, 16.  nr. 4, Bohrs Tårn, Carlsberg Byen',\n",
       " ' Paulas Passage 3, 18.  nr. 2, Dahlerups Tårn, Carlsberg Byen',\n",
       " ' Fadet 19, 5., Carlsberg Byen, Mineralvandshuset',\n",
       " ' Paulas Passage 3, 19.  nr. 3, Dahlerups Tårn, Carlsberg Byen',\n",
       " ' Paulas Passage 3, 19.  nr. 2, Dahlerups Tårn, Carlsberg Byen',\n",
       " ' Johanne Møllers Passage 13, 4. th., Caroline Hus, Carlsberg Byen',\n",
       " ' Bohrsgade 2, 13.  nr. 2',\n",
       " ' Constantin Hansens Gade 25, 4.  nr. 1, Tuxens Tårn, Carlsberg Byen',\n",
       " ' Bohrsgade 2, 17.  nr. 4, Bohrs Tårn, Carlsberg Byen',\n",
       " ' Paulas Passage 3, 23.  nr. 2, Dahlerups Tårn, Carlsberg Byen',\n",
       " ' Bag Elefanterne 31, 4. tv., Fristrup Hus, Carlsberg Byen',\n",
       " ' Bohrsgade 2, 22.  nr. 2, Bohrs Tårn, Carlsberg Byen',\n",
       " ' Bag Elefanterne 25, 4., Fristrup Hus, Carlsberg Byen',\n",
       " ' Constantin Hansens Gade 25, 13.  nr. 3, Tuxens Tårn, Carlsberg Byen ]',\n",
       " '[ Bohrsgade 2, 24. 3.',\n",
       " ' Constantin Hansens Gade 21, 5., Fristrup Hus, Carlsberg Byen',\n",
       " ' Constantin Hansens Gade 25, 13.  nr. 4, Tuxens Tårn, Carlsberg Byen',\n",
       " ' J.C. Jacobsens Gade 11, 5. tv., Caroline Hus, Carlsberg Byen',\n",
       " ' Bohrsgade 2, 28.  nr. 4, Bohrs Tårn, Carlsberg Byen',\n",
       " ' Bohrsgade 2, 29.  nr. 2, Bohrs Tårn, Carlsberg Byen',\n",
       " ' Vesterbrogade 192  5. 23.',\n",
       " ' Vesterbrogade 192, 1. 1',\n",
       " ' Vesterbrogade 186, st. mf',\n",
       " ' Vesterbrogade 171, 5. th.',\n",
       " ' Vesterbrogade 198, 5. tv.',\n",
       " ' Vesterbrogade 194, 2.',\n",
       " ' Rahbeks Alle 20, 3. th.',\n",
       " ' Rahbeks Alle 32, 4. tv',\n",
       " ' Halls Alle 12, 2. tv.',\n",
       " ' Frydendalsvej 27A, 1. th.',\n",
       " ' Platanvej 7, 3. 12',\n",
       " ' Platanvej 18, 1.  nr. 6',\n",
       " ' Platanvej 6, 2. Dør/lejl. 4',\n",
       " ' Kochsvej 11, 4. th',\n",
       " ' Carit Etlars Vej 22, 1 mf',\n",
       " ' Carit Etlars Vej 22, 3. mf',\n",
       " ' Carit Etlars Vej 6B, st.',\n",
       " ' Carl Bernhards Vej 13B, 2.  nr. 32',\n",
       " ' Carl Bernhards Vej 13C, 4. 70',\n",
       " ' Kingosgade 11, 3., 101',\n",
       " ' Frederiksberg Alle 41, 2. 207.',\n",
       " ' Frederiksberg Alle 41, 2. 209.',\n",
       " ' Frederiksberg Alle 41, 2. 208.',\n",
       " ' Frederiksberg Alle 41, 2. 210.',\n",
       " ' Frederiksberg Alle 41, 3. 303.',\n",
       " ' Frederiksberg Alle 41, 4. 407.',\n",
       " ' Frederiksberg Alle 41, 3. 304.',\n",
       " ' Frederiksberg Alle 41, 5. 503.',\n",
       " ' Frederiksberg Alle 41, 5. 501.',\n",
       " ' Frederiksberg Alle 41, 4. 410.',\n",
       " ' Frederiksberg Alle 41, 5. 504.',\n",
       " ' Frederiksberg Alle 41, 4. 408.',\n",
       " ' Frederiksberg Alle 47, 4. tv',\n",
       " ' Frederiksberg Alle 41, 2. 204.',\n",
       " ' Frederiksberg Alle 41, 2. 205.',\n",
       " ' Frederiksberg Alle 41, 2. 202.',\n",
       " ' Frederiksberg Alle 41, 2. 203.',\n",
       " ' Frederiksberg Alle 41, 2. 201.',\n",
       " ' Frederiksberg Alle 37, 1. th.',\n",
       " ' Frederiksberg Alle 26, st., Sankt Thomas Plads',\n",
       " ' Frederiksberg Alle 41, 4. 404.',\n",
       " ' Sankt Thomas Alle 14, 2. tv',\n",
       " ' Mynstersvej 12, 2. tv',\n",
       " ' Mynstersvej 14, 3. ]',\n",
       " '[ Holger Danskes Vej 30, 1. 12',\n",
       " ' Nordre Fasanvej 112, 4 tv',\n",
       " ' Ane Katrines Vej 14, 2. 2',\n",
       " ' Roskildevej 53, st. 6',\n",
       " ' Finsensvej 47B, 1. 106.',\n",
       " ' C.F. Richs Vej 134, 2. tv',\n",
       " ' H. Schneekloths Vej 31, 3. 4',\n",
       " ' C.F. Richs Vej 126, st. tv',\n",
       " ' Finsensvej 34, 2. Dør/lejl. 1',\n",
       " ' Folkvarsvej 30, 1. tv.',\n",
       " ' Eversvej 11, 4. mf.',\n",
       " ' C.F. Richs Vej 85  2. TV.',\n",
       " ' Bernhard Bangs Alle 4, 4. 71.',\n",
       " ' Bernhard Bangs Alle 2, 2., 45',\n",
       " ' Borups Alle 113, 1. k.',\n",
       " ' Roskildevej 96, 4. th.',\n",
       " ' Munkensvej 5  ST. TH.',\n",
       " ' Mariendalsvej 26, 5. tv.',\n",
       " ' Nordre Fasanvej 60, 3.  nr. 31',\n",
       " ' Rådmand Steins Alle 13, st. tv',\n",
       " ' Peter Bangs Vej 116  ST. TH.',\n",
       " ' Roskildevej 120, 02 TH',\n",
       " ' Nordre Fasanvej 60  4. 43.',\n",
       " ' Nordre Fasanvej 178, st. th',\n",
       " ' C.F. Richs Vej 85, 3. th',\n",
       " ' Rådmand Steins Alle 23, 3. th',\n",
       " ' Fuglebakkevej 92, st.. 2.',\n",
       " ' Munkensvej 3  3. TV.',\n",
       " ' Seedorffs Vænge 2, 2. 1',\n",
       " ' Finsensvej 5C, 5. mf',\n",
       " ' Bispeengen 15, 4 th',\n",
       " ' H. Schneekloths Vej 11, 5. tv.',\n",
       " ' Holger Danskes Vej 42, 4. 31.',\n",
       " ' Pile Alle 35, 4. tv.',\n",
       " ' Nordre Fasanvej 76, 3. th.',\n",
       " ' Finsensvej 81, 1. th.',\n",
       " ' Finsensvej 5C, 4. th',\n",
       " ' Finsensvej 73, 3. tv',\n",
       " ' Frøbels Alle 3, 4. th.',\n",
       " ' Duevej 52, 4. tv.',\n",
       " ' Munkensvej 11, 1. th.',\n",
       " ' Duevej 118, st. tv',\n",
       " ' Duevej 48, 4. th',\n",
       " ' Nordre Fasanvej 37B, 1. tv.',\n",
       " ' Mariendalsvej 12A, 4. tv',\n",
       " ' A. D. Jørgensens Vej 79, 1 th',\n",
       " ' Yrsavej 9, st.. th.',\n",
       " ' Finsensvej 5C, st. th',\n",
       " ' Aksel Møllers Have 24, st. tv ]',\n",
       " '[ C.F. Richs Vej 138, st. tv',\n",
       " ' Bentzonsvej 50B, st. tv.',\n",
       " ' Duevej 60, 2. th',\n",
       " ' Vagtelvej 63, 5. tv.',\n",
       " ' Finsensvej 11A, st.. tv.',\n",
       " ' Godthåbsvænget 37, 4. tv',\n",
       " ' Grøndalsvej 10, 2. tv.',\n",
       " ' Godthåbsvænget 9, 3. th',\n",
       " ' Lollandsvej 38, st. tv',\n",
       " ' P. Andersens Vej 1, 1. th.',\n",
       " ' Godthåbsvej 123, st. th',\n",
       " ' Pile Alle 35, 3. tv',\n",
       " ' Godthåbsvej 129, st. tv',\n",
       " ' Holger Danskes Vej 102, 3.  nr. 1',\n",
       " ' Mariendalsvej 65, 1. tv.',\n",
       " ' Camilla Nielsens Vej 1, 04 TV',\n",
       " ' Kong Georgs Vej 54, 4. tv.',\n",
       " ' Falkoner Alle 126, st. tv',\n",
       " ' Holger Danskes Vej 102, 4. 4',\n",
       " ' Finsensvej 5B, st. tv',\n",
       " ' Preben Kaas Vænge 2, st.',\n",
       " ' Kronprinsesse Sofies Vej 17, 4. th.',\n",
       " ' Rådmand Steins Alle 11, 6. tv',\n",
       " ' Moltkesvej 57, 2. tv',\n",
       " ' Nimbusparken 3  1. 4.',\n",
       " ' A.D. Jørgensens Vej 21  2. 3.',\n",
       " ' Kong Georgs Vej 6A, 3. tv',\n",
       " ' Pile Alle 5B, st.. tv.',\n",
       " ' Pile Alle 5B, st.. th.',\n",
       " ' Nordre Fasanvej 80  1. TV.',\n",
       " ' Flintholm Alle 24, st. tv.',\n",
       " ' Solvej 7, 1. th',\n",
       " ' Nimbusparken 1, 4. Dør/lejl. 4',\n",
       " ' Kronprinsesse Sofies Vej 17, 3. th.',\n",
       " ' Langelandsvej 51, st. th, + kælder',\n",
       " ' Lindevangs Alle 15B, 1. th.',\n",
       " ' Duevej 52, 5.',\n",
       " ' Mariendalsvej 50H, 2. th',\n",
       " ' Howitzvej 15, 2. 12.',\n",
       " ' Vagtelvej 49, 4. th',\n",
       " ' H.V. Nyholms Vej 2, 4.  nr. 2',\n",
       " ' Nordre Fasanvej 33B, st.. th.',\n",
       " ' Porcelænshaven 2F, 2. 3',\n",
       " ' Nyelandsvej 4, 1. tv',\n",
       " ' Vagtelvej 69, 4. mf',\n",
       " ' Aksel Møllers Have 8, 7. th.',\n",
       " ' Solsortvej 77, st.. th.',\n",
       " ' Nyelandsvej 1, 3. th',\n",
       " ' Pileskellet 14, st.',\n",
       " ' Lindevangs Alle 11, 1. TH. ]',\n",
       " '[ Østbanegade 35, 2. 1.',\n",
       " ' Ålborggade 25, st.',\n",
       " ' Herninggade 23, 1. th',\n",
       " ' Kildevældsgade 66, 3. tv.',\n",
       " ' Holsteinsgade 58, st.. tv..',\n",
       " ' Marthagade 8, 3. tv',\n",
       " ' Nyborggade 16, 5. th.',\n",
       " ' Østerbrogade 216, st. th',\n",
       " ' Sankt Kjelds Gade 25, 1. tv.',\n",
       " ' Sankt Kjelds Plads 4, 1. th.',\n",
       " ' Trikotageparken 4, st. mf',\n",
       " ' Korsørgade 44, st.. tv.',\n",
       " ' Drejøgade 28, 6. 604.',\n",
       " ' Gammel Kalkbrænderi Vej 30, 2. th.',\n",
       " ' Ålborggade 26  ST. TV.',\n",
       " ' Herninggade 13, 5. th.',\n",
       " ' Trikotageparken 2, 1. th., lejl. 10',\n",
       " ' Trikotageparken 1, 3. mf., Lejl 19',\n",
       " ' Silkeborggade 45, mezz. th.',\n",
       " ' Nordre Frihavnsgade 24, 3. 1',\n",
       " ' Jellingegade 5, st.. tv.',\n",
       " ' Strandboulevarden 60, st..',\n",
       " ' Fiskedamsgade 27B, 2. tv.',\n",
       " ' Strandvejen 65B  3. TV.',\n",
       " ' Lyngbyvej 32B, 1. th.',\n",
       " ' Trikotageparken 23, 3. mf.',\n",
       " ' Sankt Kjelds Plads 10, 2. tv.',\n",
       " ' Rønnegade 20, 1. mf',\n",
       " ' Langøgade 15, 1. th',\n",
       " ' Trikotageparken 28, 4. mf.',\n",
       " ' Trikotageparken 22, 3. th.',\n",
       " ' Marstalsgade 29, st. th',\n",
       " ' Rønnegade 16, 3. th',\n",
       " ' Webersgade 15  ST. TV.',\n",
       " ' Amerika Plads 24F, st.',\n",
       " ' Løgstørgade 28, 1. tv.',\n",
       " ' Strandboulevarden 119, 3. th',\n",
       " ' Trikotageparken 27, 4. th',\n",
       " ' Marstalsgade 44, 5. tv',\n",
       " ' Strandvejen 75A, 1. th',\n",
       " ' Fåborggade 1, 2. th',\n",
       " ' Vennemindevej 51, st.. tv.',\n",
       " ' Jagtvej 215B, 3. Dør/lejl. 4',\n",
       " ' Drejøgade 26E, 5. 505.',\n",
       " ' Løgstørgade 37, 4. th',\n",
       " ' Trondhjemsgade 3, kl. th',\n",
       " ' Carl Nielsens Allé 6, mezz. tv.',\n",
       " ' Silkeborggade 21, 1. th.',\n",
       " ' Århusgade 84, st. th',\n",
       " ' Kildevældsgade 79A, st. th. ]',\n",
       " '[ Amerika Plads 32B, 2. 4.',\n",
       " ' Silkeborggade 47, 3. tv',\n",
       " ' Korsørgade 8, 1. Dør/lejl. 1',\n",
       " ' Nygårdsvej 41B, 2. th',\n",
       " ' Nygårdsvej 57, 2. tv.',\n",
       " ' Lyngbyvej 72, 3. tv',\n",
       " ' Trikotageparken 1, 2. mf., lejl. 14',\n",
       " ' Nordre Frihavnsgade 79, st. th.',\n",
       " ' Strandvejen 69, 1.',\n",
       " ' Trikotageparken 3, st. th.',\n",
       " ' Trikotageparken 21, 3. tv',\n",
       " ' Lyngbyvej 70, 5. th.',\n",
       " ' Kildevældsgade 83B, 1. th.',\n",
       " ' Korsørgade 8, 3. 1',\n",
       " ' Århusgade 95, 1. tv.',\n",
       " ' Trikotageparken 26, 4. tv.',\n",
       " ' Kastelsvej 4, 1. th',\n",
       " ' Dampfærgevej 22, st.',\n",
       " ' Ourøgade 33, 5.',\n",
       " ' Marstalsgade 8, 2. th.',\n",
       " ' Trikotageparken 30, 5. th.',\n",
       " ' Randersgade 17, 4. th',\n",
       " ' Midtermolen 2, 3. mf',\n",
       " ' Bryggervangen 34 4 TV',\n",
       " ' Webersgade 19, 2. th',\n",
       " ' Løgstørgade 34, 3. tv',\n",
       " ' Vordingborggade 76 1 TV',\n",
       " ' Tåsingegade 47, 4. mf.',\n",
       " ' Livjægergade 31, 1. th.',\n",
       " ' Præstøgade 16, 4. th',\n",
       " ' Kalkbrænderihavnsgade 4D, 4. mf',\n",
       " ' Svendborggade 14, 2. tv',\n",
       " ' Øster Farimagsgade 79, st.. th.',\n",
       " ' Løgstørgade 14, 1. th',\n",
       " ' Midtermolen 8, 4. tv.',\n",
       " ' Australiensvej 17, 5. tv.',\n",
       " ' Amerika Plads 4, 2. 2',\n",
       " ' Rosenvængets Hovedvej 46, st.. 1.',\n",
       " ' Amerika Plads 3A, 4. tv',\n",
       " ' Koldinggade 6, 1. th.',\n",
       " ' Trikotageparken 32, 5. th.',\n",
       " ' Trikotageparken 29, 5. tv.',\n",
       " ' Langøgade 17, st.',\n",
       " ' Pakhusvej 6, 1. th',\n",
       " ' Midtermolen 18, 2. th.',\n",
       " ' Strandvejen 95, 1. tv.',\n",
       " ' Rønnegade 24, 3.',\n",
       " ' Hornemansgade 1A, 3. th.',\n",
       " ' Classensgade 72, st.. tv.',\n",
       " ' Nordre Frihavnsgade 57, 2. th ]',\n",
       " '[ Nordborggade 11, 5. tv.',\n",
       " ' Randersgade 2, 4. th',\n",
       " ' Trikotageparken 24, 4. tv.',\n",
       " ' Viborggade 13, st. tv',\n",
       " ' Strandboulevarden 99, 5. th',\n",
       " ' Amerika Plads 25C, st.',\n",
       " ' Strandboulevarden 38  1. TV.',\n",
       " ' Viborggade 13, 2. tv',\n",
       " ' Silkeborggade 36, 5.',\n",
       " ' Amerika Plads 36, 4. th',\n",
       " ' Willemoesgade 91, mezz. tv.',\n",
       " ' Langelinie Allé 25A, st. tv',\n",
       " ' Willemoesgade 62, 3. th',\n",
       " ' Borgmester Jensens Allé 22, 4. th.',\n",
       " ' Amerika Plads 32B, 2. 2',\n",
       " ' Amerika Plads 26B, 1. 3',\n",
       " ' Amerika Plads 24C, st.',\n",
       " ' Amerika Plads 30B, 5. 2',\n",
       " ' Silkeborggade 28, 1. th.',\n",
       " ' Pakhusvej 8, 3. tv.',\n",
       " ' Strandvejen 20B, 1. th.',\n",
       " ' Nordre Frihavnsgade 106, 3. tv.',\n",
       " ' Strandboulevarden 114, 5. tv',\n",
       " ' Viborggade 69, st.',\n",
       " ' Silkeborggade 38, 5.',\n",
       " ' Nordre Frihavnsgade 88, st. th.',\n",
       " ' Silkeborggade 32, 5.',\n",
       " ' Pakhusvej 10, 6. th.',\n",
       " ' Amerika Plads 3A, 6. mf',\n",
       " ' Dampfærgevej 14, st. 4',\n",
       " ' Dampfærgevej 14, st.. 4.',\n",
       " ' Indiakaj 3, 1. TV.',\n",
       " ' Strandvejen 20C, 1. tv',\n",
       " ' Silkeborggade 40, 5.',\n",
       " ' Vordingborggade 78, 5.',\n",
       " ' Willemoesgade 32A, st.',\n",
       " ' Saabyesvej 8, st. th',\n",
       " ' Kirsteinsgade 4, Mezz. th.',\n",
       " ' Bryggervangen 4, 5.',\n",
       " ' Faksegade 13, 3. th',\n",
       " ' Pakhusvej 10, 12. tv.',\n",
       " ' Willemoesgade 34, 4. th',\n",
       " ' Amerika Plads 23, 1. tv',\n",
       " ' Holsteinsgade 27, 1. tv.',\n",
       " ' Pakhusvej 10, 10. th',\n",
       " ' Holsteinsgade 11, 5.',\n",
       " ' Strandvænget 1, 1. tv.',\n",
       " ' Nordre Frihavnsgade 88, 3. tv.',\n",
       " ' Strandboulevarden 93, 4. th',\n",
       " ' Dampfærgevej 12, 2. 4 ]',\n",
       " '[ Holsteinsgade 57, 1. tv',\n",
       " ' Dampfærgevej 24B, 3. th',\n",
       " ' Langelinie Allé 3, 1.  nr. 3',\n",
       " ' Amerika Plads 32B, 5. 3',\n",
       " ' Svanevænget 4, 4. tv.',\n",
       " ' Nordre Frihavnsgade 88, 1. tv.',\n",
       " ' Helgesensgade 1, 2. th.',\n",
       " ' Strandvejen 63, 04 TV',\n",
       " ' Langelinie Allé 29, 1. mf',\n",
       " ' Amerika Plads 26B, 5. 1',\n",
       " ' Classensgade 19B, 3. th.',\n",
       " ' Stockholmsgade 61, 4. tv., Stockholmsgade 59',\n",
       " ' Classensgade 17, 5. th.',\n",
       " ' Ryvangs Allé 22A, 1.',\n",
       " ' Amerika Plads 3A, 7.',\n",
       " ' Øster Farimagsgade 12, 4. tv.',\n",
       " ' Østbanegade 5, mezz. th.',\n",
       " ' Østerbrogade 54A, 2. th.',\n",
       " ' Carl Johans Gade 1, 5. th.',\n",
       " ' Ribegade 6, mezz. tv.',\n",
       " ' Østerbrogade 84c, 3. tv',\n",
       " ' Strandboulevarden 35, 4. tv.',\n",
       " ' Dampfærgevej 24A, 1. tv',\n",
       " ' Bergensgade 5, 4.',\n",
       " ' Stockholmsgade 59, 4. mf.',\n",
       " ' Ribegade 6, 4. th.',\n",
       " ' Krausesvej 2, st. + kld',\n",
       " ' Sortedam Dossering 65A, 3.',\n",
       " ' Stockholmsgade 37, 4. th.',\n",
       " ' Rosenvængets Allé 20A, 5. tv.',\n",
       " ' Amerika Plads 10, 9.',\n",
       " ' Strandpromenaden 59, 1.',\n",
       " ' Trondhjemsgade 3, 2. th',\n",
       " ' Trondhjemsgade 15, 2.',\n",
       " ' Nyborggade 4A, 1.',\n",
       " ' Pakhusvej 10, 11.',\n",
       " ' Korsørgade 2, 1. 4',\n",
       " ' Randersgade 7, 3. tv',\n",
       " ' Randersgade 9, st. tv',\n",
       " ' Randersgade 11, st. th',\n",
       " ' Randersgade 9, 4. th',\n",
       " ' Sundkaj 71, st.. th.',\n",
       " ' Sundkaj 105, 1. th.',\n",
       " ' Sundkaj 103, 2. tv.',\n",
       " ' Sundkaj 105, st.. tv.',\n",
       " ' Sundkaj 105, 2. th.',\n",
       " ' Sundkaj 105, 1. tv.',\n",
       " ' Sundkaj 107, 1. th.',\n",
       " ' Sundkaj 107, st.. th.',\n",
       " ' Calaisgade 2, st.. th. ]',\n",
       " '[ Dunkerquegade 1, 3. mf.',\n",
       " ' Sundkaj 75, 3. th.',\n",
       " ' Dover Passage 3, 1. th.',\n",
       " ' Sundkaj 33, 1. tv',\n",
       " ' Sundkaj 91, 3. tv.',\n",
       " ' Sundkaj 109, 1. mf.',\n",
       " ' Sundkaj 91, st.. tv.',\n",
       " ' Dover Passage 3, 1. tv.',\n",
       " ' Århusgade 140, 2. th.',\n",
       " ' Calaisgade 2, 1. tv.',\n",
       " ' Calaisgade 2, 1. th.',\n",
       " ' Sundkaj 29, 2. th.',\n",
       " ' Sundkaj 101, 1. th.',\n",
       " ' Sundkaj 101, 2. th.',\n",
       " ' Sundkaj 31, 2. mf. C80., Copenhagen Square',\n",
       " ' Dover Passage 1, 1. tv.',\n",
       " ' Sundkaj 113, st.. tv.',\n",
       " ' Dover Passage 4, 2. tv',\n",
       " ' Sundkaj 115, st.. tv.',\n",
       " ' Fortkaj 22, 1. th.',\n",
       " ' Helsinkigade 23, 2. th.',\n",
       " ' Helsinkigade 15, 1. tv.',\n",
       " ' Calaisgade 4, 1. tv.',\n",
       " ' Dover Passage 1, 1. th.',\n",
       " ' Sundkaj 109, 1. tv.',\n",
       " ' Sundkaj 109, 1. th.',\n",
       " ' Helsinkigade 15, 1. th..',\n",
       " ' Helsinkigade 13, 1. tv.',\n",
       " ' Sundkaj 109, st.. th.',\n",
       " ' Sundkaj 109, st.. tv.',\n",
       " ' Sundkaj 69, 3. th.',\n",
       " ' Sundkaj 115, st.. th.',\n",
       " ' Helsinkigade 13, 1. th.',\n",
       " ' Göteborg Plads 8, 1. tv.',\n",
       " ' Calaisgade 4, 1. th.',\n",
       " ' Helsinkigade 20, 5. 2.',\n",
       " ' Sundkaj 39, 2. tv. A50., Copenhagen Square',\n",
       " ' Sundkaj 111, st.. tv.',\n",
       " ' Dover Passage 5, 1.',\n",
       " ' Sundkaj 33, 4. th. A15., Copenhagen Square',\n",
       " ' Sundkaj 111, 1. th.',\n",
       " ' Fortkaj 18, 1. tv.',\n",
       " ' Helsinkigade 23, 4. tv.',\n",
       " ' Calaisgade 4, 5. tv.',\n",
       " ' Fortkaj 18, 1. th.',\n",
       " ' Sundkaj 13',\n",
       " ' Sundkaj 115, 1. tv.',\n",
       " ' Fortkaj 20  4. TH.',\n",
       " ' Helsinkigade 29, 11. mf.',\n",
       " ' Sundkaj 109, 2. tv. ]',\n",
       " '[ Sundkaj 67, 4. th.',\n",
       " ' Sundkaj 109, 2. th.',\n",
       " ' Sundkaj 91, 5. th.',\n",
       " ' Helsinkigade 29, 15. th.',\n",
       " ' Dagmarsgade 34, 03',\n",
       " ' Julius Bloms Gade 1, 5. 6.',\n",
       " ' Jagtvej 141, 4. e',\n",
       " ' Hamletsgade 8, 3. 112.',\n",
       " ' Hamletsgade 8, 3. Dør/lejl. 105',\n",
       " ' Rantzausgade 54, 5. tv',\n",
       " ' Hamletsgade 8, 2. 87',\n",
       " ' Heimdalsgade 42, 4. 50',\n",
       " ' Husumgade 1, 1. 5',\n",
       " ' Slejpnersgade 6, 1. 3.',\n",
       " ' Hamletsgade 24, 2. Dør/lejl. 4',\n",
       " ' Krogerupgade 65, st.. tv.',\n",
       " ' Krogerupgade 51  1. TH.',\n",
       " ' Bjelkes Allé 8B, st..',\n",
       " ' Hamletsgade 24, 4. 4',\n",
       " ' Dagmarsgade 17, 1. 210',\n",
       " ' Sandbjerggade 54, 2. th',\n",
       " ' Ørholmgade 4, 3. th.',\n",
       " ' Hamletsgade 28, ST. TH.',\n",
       " ' Rantzausgade 50B, ST. TV.',\n",
       " ' Julius Bloms Gade 3, 5. 13',\n",
       " ' Hamletsgade 4, 4. 199',\n",
       " ' Esromgade 10, 5. th.',\n",
       " ' Bjelkes Allé 12, 4. 6',\n",
       " ' Esromgade 28, st. tv',\n",
       " ' Stengade 52A, 4. 4',\n",
       " ' Bjelkes Allé 12, 1. 3',\n",
       " ' Hamletsgade 4, 3. 187.',\n",
       " ' Farumgade 1, 3. tv.',\n",
       " ' Fredensborggade 2, 2. th',\n",
       " ' Ægirsgade 34, 3. tv',\n",
       " ' Dagmarsgade 19, 1. 214.',\n",
       " ' Tagensvej 94B, st..',\n",
       " ' Esromgade 10, 1. th',\n",
       " ' Esromgade 30, 2. tv',\n",
       " ' Fredensborggade 2, 4. th',\n",
       " ' Møllegade 24  2. tv.',\n",
       " ' Sigynsgade 52, st. th',\n",
       " ' Bjelkes Allé 34, 2.  nr. 36',\n",
       " ' Fredensborggade 2, 2. tv',\n",
       " ' Julius Bloms Gade 31, st. th',\n",
       " ' Peter Fabers Gade 38, 3. th.',\n",
       " ' Blågårdsgade 26, 1. 5',\n",
       " ' Husumgade 1  st. 1.',\n",
       " ' Vølundsgade 24, 2. th',\n",
       " ' Sankt Hans Gade 22, 1. tv. ]',\n",
       " '[ Bjelkes Allé 4, 2. 4',\n",
       " ...]"
      ]
     },
     "execution_count": 183,
     "metadata": {},
     "output_type": "execute_result"
    }
   ],
   "source": [
    "boligabiglist"
   ]
  },
  {
   "cell_type": "code",
   "execution_count": null,
   "metadata": {},
   "outputs": [],
   "source": []
  },
  {
   "cell_type": "code",
   "execution_count": 100,
   "metadata": {},
   "outputs": [
    {
     "data": {
      "text/plain": [
       "[]"
      ]
     },
     "execution_count": 100,
     "metadata": {},
     "output_type": "execute_result"
    },
    {
     "data": {
      "image/png": "[encoded data removed]",
      "text/plain": [
       "<Figure size 3600x2400 with 1 Axes>"
      ]
     },
     "metadata": {
      "needs_background": "light"
     },
     "output_type": "display_data"
    }
   ],
   "source": [
    "import matplotlib.pyplot as plt\n",
    "labels=[crazydic[i][\"size\"] for i in crazydic]\n",
    "values=[crazydic[i][\"ejerudgift\"] for i in crazydic]\n",
    "plt.figure(figsize=(30,20), dpi=120)\n",
    "plt.scatter(labels,values)\n",
    "plt.xlabel(\"størrelse\")\n",
    "plt.ylabel(\"pris\")\n",
    "plt.plot()"
   ]
  },
  {
   "cell_type": "code",
   "execution_count": null,
   "metadata": {},
   "outputs": [],
   "source": []
  },
  {
   "cell_type": "code",
   "execution_count": null,
   "metadata": {},
   "outputs": [],
   "source": []
  }
 ],
 "metadata": {
  "display_name": "Python 3",
  "kernelspec": {
   "display_name": "Python 3",
   "language": "python",
   "name": "python3"
  },
  "language_info": {
   "codemirror_mode": {
    "name": "ipython",
    "version": 3
   },
   "file_extension": ".py",
   "mimetype": "text/x-python",
   "name": "python",
   "nbconvert_exporter": "python",
   "pygments_lexer": "ipython3",
   "version": "3.7.4"
  },
  "toc": {
   "base_numbering": 1,
   "nav_menu": {},
   "number_sections": false,
   "sideBar": true,
   "skip_h1_title": false,
   "title_cell": "Table of Contents",
   "title_sidebar": "Contents",
   "toc_cell": false,
   "toc_position": {},
   "toc_section_display": true,
   "toc_window_display": true
  },
  "varInspector": {
   "cols": {
    "lenName": 16,
    "lenType": 16,
    "lenVar": 40
   },
   "kernels_config": {
    "python": {
     "delete_cmd_postfix": "",
     "delete_cmd_prefix": "del ",
     "library": "var_list.py",
     "varRefreshCmd": "print(var_dic_list())"
    },
    "r": {
     "delete_cmd_postfix": ") ",
     "delete_cmd_prefix": "rm(",
     "library": "var_list.r",
     "varRefreshCmd": "cat(var_dic_list()) "
    }
   },
   "types_to_exclude": [
    "module",
    "function",
    "builtin_function_or_method",
    "instance",
    "_Feature"
   ],
   "window_display": false
  }
 },
 "nbformat": 4,
 "nbformat_minor": 1
}
