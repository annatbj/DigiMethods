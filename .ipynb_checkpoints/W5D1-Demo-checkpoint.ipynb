{
 "cells": [
  {
   "cell_type": "markdown",
   "metadata": {},
   "source": [
    "# Demo W5D1: Basic Visualizations and Best Practices \n",
    "\n",
    "## 5.1.1 Basic Graph Types\n"
   ]
  },
  {
   "cell_type": "markdown",
   "metadata": {},
   "source": [
    "**5.1.1.1 Basic Line Graph:** "
   ]
  },
  {
   "cell_type": "code",
   "execution_count": 1,
   "metadata": {
    "scrolled": true
   },
   "outputs": [
    {
     "data": {
      "text/plain": [
       "<Figure size 640x480 with 1 Axes>"
      ]
     },
     "metadata": {},
     "output_type": "display_data"
    }
   ],
   "source": [
    "import matplotlib.pyplot as plt\n",
    "\n",
    "NY_flu_death_rates = [(1999, 28.4), (2000, 26.5), (2001, 25.5), (2002, 26.6), \n",
    "                      (2003, 26.1), (2004, 26.6), (2005, 26.3), (2006, 23.0), \n",
    "                      (2007, 20.5), (2008, 21.0), (2011, 21.4), (2012, 18.8),\n",
    "                      (2009, 20.5), (2010, 20.6), (2013, 20.5), (2014, 19.5),\n",
    "                      (2015, 20.0), (2016, 18.3)]\n",
    "\n",
    "values = [item[1] for item in NY_flu_death_rates]\n",
    "\n",
    "plt.plot(values)\n",
    "plt.show()"
   ]
  },
  {
   "cell_type": "markdown",
   "metadata": {},
   "source": [
    "**5.1.1.2 Basic Bar Graph:**"
   ]
  },
  {
   "cell_type": "code",
   "execution_count": 2,
   "metadata": {},
   "outputs": [
    {
     "data": {
      "image/png": "[encoded data removed]",
      "text/plain": [
       "<Figure size 432x288 with 1 Axes>"
      ]
     },
     "metadata": {
      "needs_background": "light"
     },
     "output_type": "display_data"
    }
   ],
   "source": [
    "flu_death_rates = [('Alabama', 17.1),('Alaska', 12.5),('Arizona', 10.4),\n",
    "                   ('Arkansas', 17.1),('Cali.', 14.0),('Colorado', 9.6),\n",
    "                   ('Conn.', 11.7),('Delaware', 10.7),('Florida', 9.3),\n",
    "                   ('Georgia', 14.3),('Hawaii', 24.4),('Idaho', 11.3),\n",
    "                   ('Illinois', 14.5),('Indiana', 12.6),('Iowa', 11.6),\n",
    "                   ('Kansas', 14.4),('Kentucky', 17.3),('Louisiana', 14.3),\n",
    "                   ('Maine', 12.0),('Maryland', 15.1),('Mass.', 14.1),\n",
    "                   ('Michigan', 13.7),('Minnesota', 7.8),('Miss.', 23.4),\n",
    "                   ('Missouri', 15.1),('Montana', 11.1),('Nebraska', 14.3),\n",
    "                   ('Nevada', 18.1),('New Hamp.', 11.8),('New Jer.', 10.7),\n",
    "                   ('New Mex.', 14.6),('New York', 18.3), ('N. Carolina', 16.5),\n",
    "                   ('N. Dakota', 14.5),('Ohio', 15.0),('Oklahoma', 12.4),\n",
    "                   ('Oregon', 8.9),('Penn.', 13.9),('Rhode Isl.', 11.0),\n",
    "                   ('S. Carolina', 12.0),('S. Dakota', 16.7),('Tennessee', 20.1),\n",
    "                   ('Texas', 11.1),('Utah', 15.5),('Vermont', 7.0),('Virginia', 12.7),\n",
    "                   ('Washington', 10.0),('W. Virginia', 17.3),('Wisconsin', 11.9),\n",
    "                   ('Wyoming', 15.0)]\n",
    "\n",
    "values = [item[1] for item in flu_death_rates]\n",
    "\n",
    "plt.bar(range(0,len(values)), values)\n",
    "plt.show()"
   ]
  },
  {
   "cell_type": "markdown",
   "metadata": {},
   "source": [
    "**5.1.1.3 Basic Scatter Plot:**"
   ]
  },
  {
   "cell_type": "code",
   "execution_count": null,
   "metadata": {},
   "outputs": [],
   "source": [
    "NY_flu_all_death_rates = [(1999, 28.4, 833.4), (2000, 26.5, 813.6), (2001, 25.5, 806.6),\n",
    "                          (2002, 26.6, 791.4),\n",
    "                          (2003, 26.1, 771.1), (2004, 26.6, 748.4), (2005, 26.3, 738), (2006, 23.0, 713.7),\n",
    "                          (2007, 20.5, 698.9), (2008, 21.0, 693.7), (2011, 21.4, 674.6), (2012, 18.8, 665.5),\n",
    "                          (2009, 20.5, 665.4), (2010, 20.6, 652.1), (2013, 20.5, 649.3), (2014, 19.5, 636.5),\n",
    "                          (2015, 20.0, 644), (2016, 18.3, 640.7)]\n",
    "\n",
    "values_flu = [item[1] for item in NY_flu_all_death_rates]\n",
    "values_all = [item[2] for item in NY_flu_all_death_rates]\n",
    "\n",
    "plt.plot(values_all, values_flu, 'o')"
   ]
  },
  {
   "cell_type": "markdown",
   "metadata": {},
   "source": [
    "**5.1.1.3 Basic Histogram:**"
   ]
  },
  {
   "cell_type": "code",
   "execution_count": null,
   "metadata": {},
   "outputs": [],
   "source": [
    "values = [item[1] for item in flu_death_rates]\n",
    "\n",
    "plt.hist(values)"
   ]
  },
  {
   "cell_type": "markdown",
   "metadata": {},
   "source": [
    "## 5.1.2 Formatting Graphs"
   ]
  },
  {
   "cell_type": "markdown",
   "metadata": {},
   "source": [
    "Adding a title, axis, and tick labels for comprehension"
   ]
  },
  {
   "cell_type": "code",
   "execution_count": null,
   "metadata": {},
   "outputs": [],
   "source": [
    "values = [item[1] for item in flu_death_rates]\n",
    "labels = [item[0] for item in flu_death_rates]\n",
    "\n",
    "plt.bar(labels, values)\n",
    "\n",
    "plt.title(\"Bar chart to show US 2016 flu/pneumonia death rates by state\")\n",
    "plt.xlabel(\"States\")\n",
    "plt.ylabel(\"Deaths per 100,000\")\n",
    "plt.xticks(rotation=90)\n",
    "\n",
    "plt.tight_layout()"
   ]
  },
  {
   "cell_type": "markdown",
   "metadata": {},
   "source": [
    "Adjusting the plot size"
   ]
  },
  {
   "cell_type": "code",
   "execution_count": null,
   "metadata": {
    "scrolled": false
   },
   "outputs": [],
   "source": [
    "values = [item[1] for item in flu_death_rates]\n",
    "labels = [item[0] for item in flu_death_rates]\n",
    "\n",
    "plt.figure(figsize=(10, 7), dpi= 120)\n",
    "\n",
    "plt.bar(labels, values)\n",
    "\n",
    "plt.title(\"Bar chart to show US 2016 flu/pneumonia death rates by state\")\n",
    "plt.xlabel(\"States\")\n",
    "plt.ylabel(\"Deaths per 100,000\")\n",
    "plt.xticks(rotation=90)\n",
    "\n",
    "plt.tight_layout()"
   ]
  },
  {
   "cell_type": "markdown",
   "metadata": {},
   "source": [
    "A self-contained scatter plot."
   ]
  },
  {
   "cell_type": "code",
   "execution_count": null,
   "metadata": {},
   "outputs": [],
   "source": [
    "flu_accident_death_rates = [('Alabama', 17.1, 55.5),('Alaska', 12.5, 63.1),('Arizona', 10.4, 54.2),\n",
    "                   ('Arkansas', 17.1, 51.8),('Cali.', 14.0, 32),('Colorado', 9.6, 51.2),\n",
    "                   ('Conn.', 11.7, 50.3),('Delaware', 10.7, 52.4),('Florida', 9.3, 54.9),\n",
    "                   ('Georgia', 14.3, 45.8),('Hawaii', 24.4, 35.3),('Idaho', 11.3, 49.5),\n",
    "                   ('Illinois', 14.5, 41),('Indiana', 12.6, 51.6),('Iowa', 11.6, 45.8),\n",
    "                   ('Kansas', 14.4, 45.7),('Kentucky', 17.3, 71),('Louisiana', 14.3, 57.4),\n",
    "                   ('Maine', 12.0, 62.4),('Maryland', 15.1, 35.7),('Mass.', 14.1, 52.8),\n",
    "                   ('Michigan', 13.7, 50.5),('Minnesota', 7.8, 43.8),('Miss.', 23.4, 59.2),\n",
    "                   ('Missouri', 15.1, 57),('Montana', 11.1, 54.1),('Nebraska', 14.3, 37),\n",
    "                   ('Nevada', 18.1, 46),('New Hamp.', 11.8, 66.6),('New Jer.', 10.7, 40.8),\n",
    "                   ('New Mex.', 14.6, 69.5),('New York', 18.3, 34.2), ('N. Carolina', 16.5, 52.2),\n",
    "                   ('N. Dakota', 14.5, 45.4),('Ohio', 15.0, 66.6),('Oklahoma', 12.4, 64.1),\n",
    "                   ('Oregon', 8.9, 46),('Penn.', 13.9, 61.8),('Rhode Isl.', 11.0, 56.6),\n",
    "                   ('S. Carolina', 12.0, 58.9),('S. Dakota', 16.7, 53.4),('Tennessee', 20.1, 61.1),\n",
    "                   ('Texas', 11.1, 38.6),('Utah', 15.5, 43.8),('Vermont', 7.0, 54.8),\n",
    "                   ('Virginia', 12.7, 42.4),('Washington', 10.0, 41.4),('W. Virginia', 17.3, 89.7),\n",
    "                   ('Wisconsin', 11.9, 55.6),('Wyoming', 15.0, 61.9)]\n",
    "\n",
    "\n",
    "values_flu = [item[1] for item in flu_accident_death_rates]\n",
    "values_accident = [item[2] for item in flu_accident_death_rates]\n",
    "\n",
    "\n",
    "plt.figure(figsize=(10, 7), dpi= 120)\n",
    "\n",
    "\n",
    "plt.title(\"Scatter plot showing US 2016 flu/pneumonia and accidental death rates by state\")\n",
    "plt.xlabel(\"Accidental deaths per 100,000\")\n",
    "plt.ylabel(\"Flu deaths per 100,000\")\n",
    "plt.xticks(rotation=90)\n",
    "\n",
    "plt.plot(values_accident, values_flu, 'o')"
   ]
  },
  {
   "cell_type": "markdown",
   "metadata": {},
   "source": [
    "## 5.1.3 Exporting / Saving Graphs"
   ]
  },
  {
   "cell_type": "markdown",
   "metadata": {},
   "source": [
    "A self-contained line plot."
   ]
  },
  {
   "cell_type": "code",
   "execution_count": null,
   "metadata": {
    "scrolled": false
   },
   "outputs": [],
   "source": [
    "values = [item[1] for item in NY_flu_death_rates]\n",
    "labels = [item[0] for item in NY_flu_death_rates]\n",
    "\n",
    "plt.figure(figsize=(10, 7), dpi= 120)\n",
    "\n",
    "plt.plot(values)\n",
    "\n",
    "plt.title(\"Graph to show NY flu/pneumonia death rates by year\")\n",
    "plt.xlabel(\"Year\")\n",
    "plt.ylabel(\"Deaths per 100,000\")\n",
    "plt.xticks(range(0,len(labels)), labels, rotation=90)\n",
    "\n",
    "plt.show()"
   ]
  },
  {
   "cell_type": "markdown",
   "metadata": {},
   "source": [
    "Exporting the line graph."
   ]
  },
  {
   "cell_type": "code",
   "execution_count": null,
   "metadata": {
    "scrolled": false
   },
   "outputs": [],
   "source": [
    "import os\n",
    "\n",
    "values = [item[1] for item in NY_flu_death_rates]\n",
    "labels = [item[0] for item in NY_flu_death_rates]\n",
    "\n",
    "plt.figure(figsize=(10, 7), dpi= 120)\n",
    "\n",
    "plt.plot(values)\n",
    "\n",
    "plt.title(\"Graph to show NY flu/pneumonia death rates by year\")\n",
    "plt.xlabel(\"Year\")\n",
    "plt.ylabel(\"Deaths per 100,000\")\n",
    "plt.xticks(range(0,len(labels)), labels, rotation=90)\n",
    "\n",
    "file_dir = os.getcwd()\n",
    "\n",
    "if '/' in file_dir:\n",
    "    print(\"I am a Mac.\")\n",
    "    plt.savefig(file_dir + \"/Flu_Deaths_NY_2016.png\")\n",
    "else:\n",
    "    print(\"I am a Windows PC.\")\n",
    "    plt.savefig(file_dir + \"\\\\Flu_Deaths_NY_2016.png\")"
   ]
  }
 ],
 "metadata": {
  "kernelspec": {
   "display_name": "Python 3",
   "language": "python",
   "name": "python3"
  },
  "language_info": {
   "codemirror_mode": {
    "name": "ipython",
    "version": 3
   },
   "file_extension": ".py",
   "mimetype": "text/x-python",
   "name": "python",
   "nbconvert_exporter": "python",
   "pygments_lexer": "ipython3",
   "version": "3.7.4"
  }
 },
 "nbformat": 4,
 "nbformat_minor": 2
}
