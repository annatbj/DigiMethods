{
 "cells": [
  {
   "cell_type": "markdown",
   "metadata": {},
   "source": [
    "# Exercise 2: Basic Python 2\n",
    "\n",
    "Builds on exercises provided with Programming with Python for Social Science by Phillip Brooker and from Social Data Science 2019 by Andreas Bjerre-Nielson\n",
    "\n",
    "## 2.1 Lists\n",
    "\n",
    "**Question 2.1.1**: make two lists, `mammals` and `reptiles`with respectively \"dog\",\"cat\",\"dolphin\" and \"gecko\",\"monitor lizard\",\"iguana\". What is the index of \"iguana\" in `reptiles`?"
   ]
  },
  {
   "cell_type": "code",
   "execution_count": 2,
   "metadata": {},
   "outputs": [
    {
     "data": {
      "text/plain": [
       "2"
      ]
     },
     "execution_count": 2,
     "metadata": {},
     "output_type": "execute_result"
    }
   ],
   "source": [
    "#Answer to question 2.1.1\n",
    "mammals=[\"dog\",\"cat\",\"dolphin\"]\n",
    "reptiles=[\"gecko\",\"monitor lizard\",\"iguana\"]\n",
    "reptiles.index(\"iguana\")"
   ]
  },
  {
   "cell_type": "code",
   "execution_count": 3,
   "metadata": {},
   "outputs": [],
   "source": [
    "#the method \".index\" shows that iguana's index is 2, because the list starts counting at 0"
   ]
  },
  {
   "cell_type": "markdown",
   "metadata": {},
   "source": [
    "**Question 2.1.2**: make a list `animals` which consist of first `mammals`, then `reptiles`. \n",
    "Hint: See what happens when you `+` two lists together. "
   ]
  },
  {
   "cell_type": "code",
   "execution_count": 4,
   "metadata": {},
   "outputs": [],
   "source": [
    "#Answer to question 2.1.2\n",
    "animals=mammals+reptiles"
   ]
  },
  {
   "cell_type": "code",
   "execution_count": 5,
   "metadata": {},
   "outputs": [
    {
     "name": "stdout",
     "output_type": "stream",
     "text": [
      "['dog', 'cat', 'dolphin', 'gecko', 'monitor lizard', 'iguana']\n"
     ]
    }
   ],
   "source": [
    "print(animals)"
   ]
  },
  {
   "cell_type": "code",
   "execution_count": 6,
   "metadata": {},
   "outputs": [],
   "source": [
    "#easy peasy carolpleasy"
   ]
  },
  {
   "cell_type": "markdown",
   "metadata": {},
   "source": [
    "**Question 2.1.3**: Create list `some_reptiles` that contains only the second and third elements of `reptiles`. "
   ]
  },
  {
   "cell_type": "code",
   "execution_count": 7,
   "metadata": {},
   "outputs": [],
   "source": [
    "#Answer to question 2.1.3"
   ]
  },
  {
   "cell_type": "code",
   "execution_count": 23,
   "metadata": {},
   "outputs": [],
   "source": [
    "some_reptiles=reptiles[1:3]"
   ]
  },
  {
   "cell_type": "code",
   "execution_count": 22,
   "metadata": {},
   "outputs": [
    {
     "name": "stdout",
     "output_type": "stream",
     "text": [
      "['monitor lizard', 'iguana']\n"
     ]
    }
   ],
   "source": [
    "print(some_reptiles)"
   ]
  },
  {
   "cell_type": "code",
   "execution_count": 20,
   "metadata": {},
   "outputs": [],
   "source": [
    "#it has to be 1:3 because the counter starts at 0, 1:2 would also only give back mon.liz.\n",
    "#--- because it somehow NOT includes the endppoint in giving back the range"
   ]
  },
  {
   "cell_type": "markdown",
   "metadata": {},
   "source": [
    "**Question 2.1.4**: replace the second element of `reptiles` with \"komodo dragon\". What are the values of `some_reptiles` now?"
   ]
  },
  {
   "cell_type": "code",
   "execution_count": 24,
   "metadata": {},
   "outputs": [
    {
     "name": "stdout",
     "output_type": "stream",
     "text": [
      "['komodo dragon', 'iguana']\n"
     ]
    }
   ],
   "source": [
    "#Answer to question 2.1.4\n",
    "reptiles[1]=\"komodo dragon\"\n",
    "print(some_reptiles)\n",
    "#the value of some_reptiles have changed (but only if I run through\n",
    "#some_reptiles=reptiles[1:3] again!)\n"
   ]
  },
  {
   "cell_type": "markdown",
   "metadata": {},
   "source": [
    "**Question 2.1.5**: Create a list `animals2` that contains nested lists `mammals` and `reptiles`. How would you access the element \"dolphin\"?"
   ]
  },
  {
   "cell_type": "code",
   "execution_count": 20,
   "metadata": {},
   "outputs": [],
   "source": [
    "#Answer to question 2.1.5 - nested list is in brackets!\n",
    "animals2=[mammals,reptiles]"
   ]
  },
  {
   "cell_type": "code",
   "execution_count": 21,
   "metadata": {},
   "outputs": [
    {
     "data": {
      "text/plain": [
       "[['dog', 'cat', 'dolphin'], ['gecko', 'komodo dragon', 'iguana']]"
      ]
     },
     "execution_count": 21,
     "metadata": {},
     "output_type": "execute_result"
    }
   ],
   "source": [
    "animals2"
   ]
  },
  {
   "cell_type": "code",
   "execution_count": 28,
   "metadata": {},
   "outputs": [
    {
     "data": {
      "text/plain": [
       "'dolphin'"
      ]
     },
     "execution_count": 28,
     "metadata": {},
     "output_type": "execute_result"
    }
   ],
   "source": [
    "animals2[0][2]\n"
   ]
  },
  {
   "cell_type": "code",
   "execution_count": null,
   "metadata": {},
   "outputs": [],
   "source": []
  },
  {
   "cell_type": "markdown",
   "metadata": {},
   "source": [
    "**Question 2.1.6**: What is the length of `animals` versus `animals2`? Why? "
   ]
  },
  {
   "cell_type": "code",
   "execution_count": 29,
   "metadata": {},
   "outputs": [
    {
     "data": {
      "text/plain": [
       "6"
      ]
     },
     "execution_count": 29,
     "metadata": {},
     "output_type": "execute_result"
    }
   ],
   "source": [
    "#Answer to question 2.1.6\n",
    "len(animals)"
   ]
  },
  {
   "cell_type": "code",
   "execution_count": 30,
   "metadata": {},
   "outputs": [
    {
     "data": {
      "text/plain": [
       "2"
      ]
     },
     "execution_count": 30,
     "metadata": {},
     "output_type": "execute_result"
    }
   ],
   "source": [
    "len(animals2)"
   ]
  },
  {
   "cell_type": "code",
   "execution_count": null,
   "metadata": {},
   "outputs": [],
   "source": [
    "#because animals2 contains two lists, it is seen as having only 2 elements"
   ]
  },
  {
   "cell_type": "markdown",
   "metadata": {},
   "source": [
    "**Question 2.1.7**: Take the list below (it is the population of Denmark on Jan 1 from 1901 to 2020 in 1000s).\n",
    "\n",
    "How many elements are in the list? \n",
    "\n",
    "What is the range of the first 10 items? \n",
    "\n",
    "What is the range for elements between indices 80 and 90 (i.e. 1981 - 1991)? \n",
    "\n",
    "What was the population in 1904 (Hint: This is the fourth element in the list)"
   ]
  },
  {
   "cell_type": "code",
   "execution_count": 35,
   "metadata": {},
   "outputs": [
    {
     "data": {
      "text/plain": [
       "120"
      ]
     },
     "execution_count": 35,
     "metadata": {},
     "output_type": "execute_result"
    }
   ],
   "source": [
    "#Data from https://www.statbank.dk/10021\n",
    "DK_population =[2447,2477,2506,2532,2560,2589,2621,2652,2687,2722,\n",
    "                2757,2788,2820,2851,2886,2921,2958,2991,3027,3061,\n",
    "                3265,3306,3340,3372,3406,3439,3467,3487,3510,3531,\n",
    "                3557,3590,3620,3651,3683,3711,3738,3765,3794,3826,\n",
    "                3849,3882,3926,3973,4023,4075,4123,4168,4211,4252,\n",
    "                4285,4315,4349,4389,4424,4454,4479,4501,4532,4566,\n",
    "                4601,4630,4666,4703,4741,4779,4820,4855,4879,4907,\n",
    "                4951,4976,5008,5036,5054,5065,5080,5097,5112,5122,\n",
    "                5124,5119,5116,5112,5111,5116,5125,5129,5130,5135,\n",
    "                5146,5162,5181,5197,5216,5251,5275,5295,5314,5330,\n",
    "                5349,5368,5384,5398,5411,5427,5447,5476,5511,5535,\n",
    "                5561,5581,5603,5627,5660,5707,5749,5781,5806,5823]\n",
    "\n",
    "#Answer to Question 2.1.8\n",
    "\n",
    "#1:\n",
    "len(DK_population)"
   ]
  },
  {
   "cell_type": "code",
   "execution_count": 41,
   "metadata": {},
   "outputs": [
    {
     "name": "stdout",
     "output_type": "stream",
     "text": [
      "275\n"
     ]
    }
   ],
   "source": [
    "#2\n",
    "max_DK=max(DK_population[:10])\n",
    "min_DK=min(DK_population[:10])\n",
    "DK_range=max_DK-min_DK\n",
    "print(DK_range)"
   ]
  },
  {
   "cell_type": "code",
   "execution_count": 42,
   "metadata": {},
   "outputs": [
    {
     "name": "stdout",
     "output_type": "stream",
     "text": [
      "24\n"
     ]
    }
   ],
   "source": [
    "#3\n",
    "DK_80min=min(DK_population[80:90])\n",
    "DK_80max=max(DK_population[80:90])\n",
    "print(DK_80max-DK_80min)\n",
    "#men Runa siger at der er simplere måder..."
   ]
  },
  {
   "cell_type": "code",
   "execution_count": 46,
   "metadata": {},
   "outputs": [
    {
     "data": {
      "text/plain": [
       "2532"
      ]
     },
     "execution_count": 46,
     "metadata": {},
     "output_type": "execute_result"
    }
   ],
   "source": [
    "#4\n",
    "DK_population[3]\n"
   ]
  },
  {
   "cell_type": "markdown",
   "metadata": {},
   "source": [
    "## 2.2 More Strings\n",
    "\n",
    "**Question 2.2.1**: Let `s1 = 'Chameleon`. From the string `s1` select the last four characters. What is the index of the character `a` in `s1`?\n",
    "\n",
    "*Hint*: We can selecting a substring by slicing it with the `[]` notation, from the start to end where start is included and end is excluded. Recall that Python has zero-based indexing, see explanation [here](https://softwareengineering.stackexchange.com/questions/110804/why-are-zero-based-arrays-the-norm).   "
   ]
  },
  {
   "cell_type": "code",
   "execution_count": 47,
   "metadata": {},
   "outputs": [],
   "source": [
    "#Answer to question 2.2.1\n",
    "s1=\"Chameleon\""
   ]
  },
  {
   "cell_type": "code",
   "execution_count": 53,
   "metadata": {},
   "outputs": [
    {
     "data": {
      "text/plain": [
       "2"
      ]
     },
     "execution_count": 53,
     "metadata": {},
     "output_type": "execute_result"
    }
   ],
   "source": [
    "s1.index(\"a\")\n"
   ]
  },
  {
   "cell_type": "code",
   "execution_count": 52,
   "metadata": {},
   "outputs": [
    {
     "data": {
      "text/plain": [
       "'l'"
      ]
     },
     "execution_count": 52,
     "metadata": {},
     "output_type": "execute_result"
    }
   ],
   "source": [
    "s1[-4]\n",
    "#I don't quite get if thats what they want though.."
   ]
  },
  {
   "cell_type": "markdown",
   "metadata": {},
   "source": [
    "**Quesion 2.2.2**: Let `my_url` be a url of your choice. Retrieve the part of a string before a specified character. \n",
    "For example, if your URL is the link for our course: https://kurser.ku.dk/course/aana18119u/2019-2020 and specific character is '/', then you should retrieve https://kurser.ku.dk/course/aana18119u. \n",
    "\n",
    "Remember that you can consult the [documentation for strings](https://docs.python.org/2.5/lib/string-methods.html) to find relevant methods "
   ]
  },
  {
   "cell_type": "code",
   "execution_count": 33,
   "metadata": {},
   "outputs": [
    {
     "name": "stdout",
     "output_type": "stream",
     "text": [
      "https://kurser.ku.dk/course/aana18119u\n"
     ]
    },
    {
     "data": {
      "text/plain": [
       "str"
      ]
     },
     "execution_count": 33,
     "metadata": {},
     "output_type": "execute_result"
    }
   ],
   "source": [
    "#Answer to question 2.2.2\n",
    "#I am using .rsplit because it retrieves the right-most split (instead of .split,\n",
    "#which would return https: split up!)\n",
    "my_url=\"https://kurser.ku.dk/course/aana18119u/2019-2020\"\n",
    "my_url_split=my_url.rsplit('/',1)[0]\n",
    "print(my_url_split)\n",
    "type(my_url_split)"
   ]
  },
  {
   "cell_type": "code",
   "execution_count": 75,
   "metadata": {},
   "outputs": [
    {
     "name": "stdout",
     "output_type": "stream",
     "text": [
      "https://kurser.ku.dk/course/aana18119u\n"
     ]
    },
    {
     "data": {
      "text/plain": [
       "str"
      ]
     },
     "execution_count": 75,
     "metadata": {},
     "output_type": "execute_result"
    }
   ],
   "source": [
    "#the following defines then just one element from the list, now changed to a string!\n",
    "shorter_url=my_url_split[0]\n",
    "print(shorter_url)\n",
    "type(shorter_url)"
   ]
  },
  {
   "cell_type": "markdown",
   "metadata": {},
   "source": [
    "## 2.3 Conditions and Loops\n",
    "\n",
    "**Question 2.3.1**: Revisit your script workflow from the previous assignment (Question 1.4.3). For which part of your script would you need to use a loop? What kind of loop would you use?"
   ]
  },
  {
   "cell_type": "code",
   "execution_count": 181,
   "metadata": {},
   "outputs": [],
   "source": [
    "#Answer to question 2.3.1\n",
    "\"\"\"we are talking about the tea-making script here. The script would look like this:\n",
    "MAKE TEA:\n",
    "do I want tea?\n",
    "    If yes:\n",
    "        if water is cold, boil water\n",
    "        poor water in cup\n",
    "        put in tea bag\n",
    "        wait 5 minutes\n",
    "        take tea bag out\n",
    "        drink\n",
    "    If no:\n",
    "wait 30 minutes and then go back\n",
    "- here the last command would be in a loop, a while loop i suppose\"\"\""
   ]
  },
  {
   "cell_type": "markdown",
   "metadata": {},
   "source": [
    "**Question 2.3.2**: Using the list of population size `DK_population` from above, calculate the average population of Denmark from year 1901 to 2020 (the whole list) using a loop. Round to the nearest whole number."
   ]
  },
  {
   "cell_type": "code",
   "execution_count": 38,
   "metadata": {},
   "outputs": [
    {
     "name": "stdout",
     "output_type": "stream",
     "text": [
      "4363\n"
     ]
    }
   ],
   "source": [
    "#Answer to question 2.3.2\n",
    "def avg_population(stuff_list):\n",
    "    avg=0\n",
    "    for element in stuff_list:\n",
    "        avg+=element\n",
    "    an_average=avg/len(stuff_list)\n",
    "    print(round(an_average))\n",
    "#trying out the function with DK_population:\n",
    "avg_population(DK_population)\n",
    "#Here, I've made a function doing the same thing as requested - note the round()-function\n",
    "#that makes sure to print out a whole number\n",
    "#it thus keeps looping the elements to add it to 0 in order to get the average"
   ]
  },
  {
   "cell_type": "code",
   "execution_count": 104,
   "metadata": {},
   "outputs": [
    {
     "name": "stdout",
     "output_type": "stream",
     "text": [
      "4363\n"
     ]
    }
   ],
   "source": [
    "#another way to do it could be without a function:\n",
    "avg=0\n",
    "\n",
    "for element in DK_population:\n",
    "    avg+=element\n",
    "avg/=len(DK_population)\n",
    "print(round(avg))"
   ]
  },
  {
   "cell_type": "markdown",
   "metadata": {},
   "source": [
    "**Question 2.3.3**: Suppose you want your population size list to show the full population, not represented in the 1000s (i.e. 2447 should really be 2447000). Using a loop, create a new list `DK_population_long` where the elements show the full population. If you used a for loop for Question 2.3.2 then use a while loop for this question, or vice versa. "
   ]
  },
  {
   "cell_type": "code",
   "execution_count": 46,
   "metadata": {},
   "outputs": [
    {
     "name": "stdout",
     "output_type": "stream",
     "text": [
      "[2447000, 2477000, 2506000, 2532000, 2560000, 2589000, 2621000, 2652000, 2687000, 2722000, 2757000, 2788000, 2820000, 2851000, 2886000, 2921000, 2958000, 2991000, 3027000, 3061000, 3265000, 3306000, 3340000, 3372000, 3406000, 3439000, 3467000, 3487000, 3510000, 3531000, 3557000, 3590000, 3620000, 3651000, 3683000, 3711000, 3738000, 3765000, 3794000, 3826000, 3849000, 3882000, 3926000, 3973000, 4023000, 4075000, 4123000, 4168000, 4211000, 4252000, 4285000, 4315000, 4349000, 4389000, 4424000, 4454000, 4479000, 4501000, 4532000, 4566000, 4601000, 4630000, 4666000, 4703000, 4741000, 4779000, 4820000, 4855000, 4879000, 4907000, 4951000, 4976000, 5008000, 5036000, 5054000, 5065000, 5080000, 5097000, 5112000, 5122000, 5124000, 5119000, 5116000, 5112000, 5111000, 5116000, 5125000, 5129000, 5130000, 5135000, 5146000, 5162000, 5181000, 5197000, 5216000, 5251000, 5275000, 5295000, 5314000, 5330000, 5349000, 5368000, 5384000, 5398000, 5411000, 5427000, 5447000, 5476000, 5511000, 5535000, 5561000, 5581000, 5603000, 5627000, 5660000, 5707000, 5749000, 5781000, 5806000, 5823000]\n"
     ]
    }
   ],
   "source": [
    "#Answer to Question 2.3.3\n",
    "def longifying(some_list):\n",
    "    listing=[]\n",
    "    count=0\n",
    "    while count<len(some_list):\n",
    "        nytnumb=(some_list[count]*1000)\n",
    "        listing.append(nytnumb)\n",
    "        count+=1\n",
    "    print(listing)\n",
    "    \n",
    "longifying(DK_population)"
   ]
  },
  {
   "cell_type": "code",
   "execution_count": 134,
   "metadata": {},
   "outputs": [],
   "source": [
    "#uden funktion:\n",
    "tæl=0\n",
    "DKs_lang_popul=[]\n",
    "\n",
    "while tæl<len(DK_population):\n",
    "    DKs_lang_popul.append(DK_population[tæl]*1000)\n",
    "    tæl+=1\n",
    "\n",
    "    "
   ]
  },
  {
   "cell_type": "code",
   "execution_count": 139,
   "metadata": {},
   "outputs": [
    {
     "data": {
      "text/plain": [
       "2506000"
      ]
     },
     "execution_count": 139,
     "metadata": {},
     "output_type": "execute_result"
    }
   ],
   "source": [
    "DKs_lang_popul[2]"
   ]
  },
  {
   "cell_type": "code",
   "execution_count": 47,
   "metadata": {},
   "outputs": [],
   "source": [
    "#Jeg forstår nu stadig ikke helt den her ... [tæl]?? Hvorfor det??\n",
    "#fordi tæl er counteren af hvert element, den er ikke elementet i sig selv"
   ]
  },
  {
   "cell_type": "markdown",
   "metadata": {},
   "source": [
    "## 2.4 Dictionaries\n",
    "**Question 2.4.1**: Take the list of population size `DK_population` above and make a Dictionary called `DK_population_dict` with keys year and population (with the appropriate values). Recall that the data represents 1901 to 2020.  "
   ]
  },
  {
   "cell_type": "code",
   "execution_count": 152,
   "metadata": {},
   "outputs": [
    {
     "name": "stdout",
     "output_type": "stream",
     "text": [
      "{1901: 2447, 1902: 2477, 1903: 2506, 1904: 2532, 1905: 2560, 1906: 2589, 1907: 2621, 1908: 2652, 1909: 2687, 1910: 2722, 1911: 2757, 1912: 2788, 1913: 2820, 1914: 2851, 1915: 2886, 1916: 2921, 1917: 2958, 1918: 2991, 1919: 3027, 1920: 3061, 1921: 3265, 1922: 3306, 1923: 3340, 1924: 3372, 1925: 3406, 1926: 3439, 1927: 3467, 1928: 3487, 1929: 3510, 1930: 3531, 1931: 3557, 1932: 3590, 1933: 3620, 1934: 3651, 1935: 3683, 1936: 3711, 1937: 3738, 1938: 3765, 1939: 3794, 1940: 3826, 1941: 3849, 1942: 3882, 1943: 3926, 1944: 3973, 1945: 4023, 1946: 4075, 1947: 4123, 1948: 4168, 1949: 4211, 1950: 4252, 1951: 4285, 1952: 4315, 1953: 4349, 1954: 4389, 1955: 4424, 1956: 4454, 1957: 4479, 1958: 4501, 1959: 4532, 1960: 4566, 1961: 4601, 1962: 4630, 1963: 4666, 1964: 4703, 1965: 4741, 1966: 4779, 1967: 4820, 1968: 4855, 1969: 4879, 1970: 4907, 1971: 4951, 1972: 4976, 1973: 5008, 1974: 5036, 1975: 5054, 1976: 5065, 1977: 5080, 1978: 5097, 1979: 5112, 1980: 5122, 1981: 5124, 1982: 5119, 1983: 5116, 1984: 5112, 1985: 5111, 1986: 5116, 1987: 5125, 1988: 5129, 1989: 5130, 1990: 5135, 1991: 5146, 1992: 5162, 1993: 5181, 1994: 5197, 1995: 5216, 1996: 5251, 1997: 5275, 1998: 5295, 1999: 5314, 2000: 5330, 2001: 5349, 2002: 5368, 2003: 5384, 2004: 5398, 2005: 5411, 2006: 5427, 2007: 5447, 2008: 5476, 2009: 5511, 2010: 5535, 2011: 5561, 2012: 5581, 2013: 5603, 2014: 5627, 2015: 5660, 2016: 5707, 2017: 5749, 2018: 5781, 2019: 5806}\n"
     ]
    }
   ],
   "source": [
    "#Answer to question 2.4.1\n",
    "DK_popu_years=list(range(1901,2020))\n",
    "type(DK_popu_years)\n",
    "\n",
    "DK_population_dict=dict(zip(DK_popu_years,DK_population))\n",
    "print(DK_population_dict)"
   ]
  },
  {
   "cell_type": "code",
   "execution_count": null,
   "metadata": {},
   "outputs": [],
   "source": [
    "#SYGT! Det her kunne jeg bare lige sådan!!!! Det giver jo mening!\n"
   ]
  },
  {
   "cell_type": "markdown",
   "metadata": {},
   "source": [
    "**Question 2.4.2**: What was the population in the year 1950?"
   ]
  },
  {
   "cell_type": "code",
   "execution_count": 155,
   "metadata": {},
   "outputs": [
    {
     "name": "stdout",
     "output_type": "stream",
     "text": [
      "4252\n"
     ]
    }
   ],
   "source": [
    "#Answer to question 2.4.2\n",
    "print(DK_population_dict[1950])"
   ]
  },
  {
   "cell_type": "code",
   "execution_count": null,
   "metadata": {},
   "outputs": [],
   "source": [
    "#dvs at the population var 4.252.000 mennesker! SHÅLÅ"
   ]
  },
  {
   "cell_type": "markdown",
   "metadata": {},
   "source": [
    "**Question 2.4.3**: Write a dictionary called `my_dictionary` that stores:\n",
    "- Your favourite animal\n",
    "- Your favourite colour\n",
    "- Your favourite TV Show\n",
    "- Your favourite film"
   ]
  },
  {
   "cell_type": "code",
   "execution_count": 166,
   "metadata": {},
   "outputs": [],
   "source": [
    "#Answer to question 2.4.3\n",
    "my_dictionary={\"animal\":\"dolphin\",\"colour\":\"orange\",\"TV Show\":\"Flight of the Concords\",\"Movie\":\"Amelie\"}"
   ]
  },
  {
   "cell_type": "markdown",
   "metadata": {},
   "source": [
    "**Question 2.4.4**: Add a key and value to the your dictionary from 2.4.3 with your favourite band or artist. "
   ]
  },
  {
   "cell_type": "code",
   "execution_count": 162,
   "metadata": {},
   "outputs": [
    {
     "name": "stdout",
     "output_type": "stream",
     "text": [
      "{'animal': 'dolphin', 'colour': 'orange', 'TV Show': 'Flight of the Concords', 'Movie': 'Amelie', 'artist': 'Joanna Newsom'}\n"
     ]
    }
   ],
   "source": [
    "#Answer to question 2.4.4\n",
    "my_dictionary[\"artist\"]=\"Joanna Newsom\"\n",
    "print(my_dictionary)"
   ]
  },
  {
   "cell_type": "markdown",
   "metadata": {},
   "source": [
    "**Question 2.4.5**: \n",
    "1. Delete the favourite film field.\n",
    "2. Create an empty dictionary with the variable name as your favourite movie \n",
    "3. Populate the dictionary with the following keys (and give them values): \n",
    "    - Year\n",
    "    - Genre\n",
    "4. Do steps 2 and 3 for a two or three movies. \n",
    "5. Add the dictionaries of movies to a new dictionary called `favourite_movies` with the movie title as the key for each entry. \n",
    "6. Add `favourite_movies` to your `my_dictionary` under the key \"Favourite movies\"\n",
    "\n"
   ]
  },
  {
   "cell_type": "code",
   "execution_count": 167,
   "metadata": {},
   "outputs": [
    {
     "data": {
      "text/plain": [
       "'Amelie'"
      ]
     },
     "execution_count": 167,
     "metadata": {},
     "output_type": "execute_result"
    }
   ],
   "source": [
    "#Answer to question 2.4.5\n",
    "my_dictionary.pop(\"Movie\")"
   ]
  },
  {
   "cell_type": "code",
   "execution_count": 164,
   "metadata": {},
   "outputs": [
    {
     "data": {
      "text/plain": [
       "{'animal': 'dolphin',\n",
       " 'colour': 'orange',\n",
       " 'TV Show': 'Flight of the Concords',\n",
       " 'artist': 'Joanna Newsom'}"
      ]
     },
     "execution_count": 164,
     "metadata": {},
     "output_type": "execute_result"
    }
   ],
   "source": [
    "my_dictionary"
   ]
  },
  {
   "cell_type": "code",
   "execution_count": 168,
   "metadata": {},
   "outputs": [],
   "source": [
    "Amelie={}"
   ]
  },
  {
   "cell_type": "code",
   "execution_count": 171,
   "metadata": {},
   "outputs": [],
   "source": [
    "Amelie[\"Year\"]=2011\n",
    "Amelie[\"Genre\"]=\"Romantic comedy\""
   ]
  },
  {
   "cell_type": "code",
   "execution_count": 172,
   "metadata": {},
   "outputs": [
    {
     "data": {
      "text/plain": [
       "{'Year': '2011', 'Genre': 'Romantic comedy'}"
      ]
     },
     "execution_count": 172,
     "metadata": {},
     "output_type": "execute_result"
    }
   ],
   "source": [
    "Amelie"
   ]
  },
  {
   "cell_type": "code",
   "execution_count": 173,
   "metadata": {},
   "outputs": [],
   "source": [
    "What_we_do_in_the_shadows={}"
   ]
  },
  {
   "cell_type": "code",
   "execution_count": 175,
   "metadata": {},
   "outputs": [],
   "source": [
    "What_we_do_in_the_shadows[\"Year\"]=2018\n",
    "What_we_do_in_the_shadows[\"Genre\"]=\"Black comedy\"\n",
    "ET={}\n",
    "ET[\"Year\"]=1994\n",
    "ET[\"Genre\"]=\"Science Fiction\""
   ]
  },
  {
   "cell_type": "code",
   "execution_count": 176,
   "metadata": {},
   "outputs": [],
   "source": [
    "Titanic={\"Year\":1993,\n",
    "        \"Genre\":\"Romancy\"}"
   ]
  },
  {
   "cell_type": "code",
   "execution_count": 180,
   "metadata": {},
   "outputs": [],
   "source": [
    "some_movies={\"Titanic\":Titanic,\n",
    "            \"What we do in the Shadows\":What_we_do_in_the_shadows,\n",
    "            \"ET\":ET, \"Amelie\":Amelie}"
   ]
  },
  {
   "cell_type": "code",
   "execution_count": 178,
   "metadata": {},
   "outputs": [
    {
     "data": {
      "text/plain": [
       "{'Titanic': {'Year': 1993, 'Genre': 'Romancy'},\n",
       " 'What we do in the Shadows': {'Year': 2018, 'Genre': 'Black comedy'},\n",
       " 'ET': {'Year': 1994, 'Genre': 'Science Fiction'}}"
      ]
     },
     "execution_count": 178,
     "metadata": {},
     "output_type": "execute_result"
    }
   ],
   "source": [
    "some_movies"
   ]
  },
  {
   "cell_type": "code",
   "execution_count": 181,
   "metadata": {},
   "outputs": [],
   "source": [
    "my_dictionary[\"Movies\"]=some_movies"
   ]
  },
  {
   "cell_type": "code",
   "execution_count": 182,
   "metadata": {},
   "outputs": [
    {
     "data": {
      "text/plain": [
       "{'animal': 'dolphin',\n",
       " 'colour': 'orange',\n",
       " 'TV Show': 'Flight of the Concords',\n",
       " 'Movies': {'Titanic': {'Year': 1993, 'Genre': 'Romancy'},\n",
       "  'What we do in the Shadows': {'Year': 2018, 'Genre': 'Black comedy'},\n",
       "  'ET': {'Year': 1994, 'Genre': 'Science Fiction'},\n",
       "  'Amelie': {'Year': '2011', 'Genre': 'Romantic comedy'}}}"
      ]
     },
     "execution_count": 182,
     "metadata": {},
     "output_type": "execute_result"
    }
   ],
   "source": [
    "my_dictionary"
   ]
  },
  {
   "cell_type": "code",
   "execution_count": null,
   "metadata": {},
   "outputs": [],
   "source": []
  },
  {
   "cell_type": "markdown",
   "metadata": {},
   "source": [
    "**Question 2.4.6**: See if you can print out different keys and values from `my_dictionary`. "
   ]
  },
  {
   "cell_type": "code",
   "execution_count": 202,
   "metadata": {},
   "outputs": [
    {
     "data": {
      "text/plain": [
       "dict_keys(['animal', 'colour', 'TV Show', 'Movies'])"
      ]
     },
     "execution_count": 202,
     "metadata": {},
     "output_type": "execute_result"
    }
   ],
   "source": [
    "#Answer to question 2.4.6\n",
    "my_dictionary.keys()\n"
   ]
  },
  {
   "cell_type": "markdown",
   "metadata": {},
   "source": [
    "## 2.5 Reflection\n",
    "**Question 2.5.1**: Write a brief paragraph reflecting on your experience learning programming today. What did you struggle with? What did you enjoy? What surprised you?"
   ]
  },
  {
   "cell_type": "code",
   "execution_count": null,
   "metadata": {},
   "outputs": [],
   "source": [
    "#Answer to question 2.5.1"
   ]
  }
 ],
 "metadata": {
  "kernelspec": {
   "display_name": "Python 3",
   "language": "python",
   "name": "python3"
  },
  "language_info": {
   "codemirror_mode": {
    "name": "ipython",
    "version": 3
   },
   "file_extension": ".py",
   "mimetype": "text/x-python",
   "name": "python",
   "nbconvert_exporter": "python",
   "pygments_lexer": "ipython3",
   "version": "3.7.4"
  }
 },
 "nbformat": 4,
 "nbformat_minor": 2
}
