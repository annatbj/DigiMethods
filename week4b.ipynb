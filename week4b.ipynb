{
 "cells": [
  {
   "cell_type": "markdown",
   "metadata": {},
   "source": [
    "# Data formats and open data\n",
    "**Exercises for week 4B** in Digital Methods, University of Copenhagen"
   ]
  },
  {
   "cell_type": "markdown",
   "metadata": {},
   "source": [
    "## 1. Data formats"
   ]
  },
  {
   "cell_type": "markdown",
   "metadata": {},
   "source": [
    "We will be working with two main types of data formats: tabular and non-tabular. In 99% of practical scenarios\n",
    "that translates to files in either CSV format (tabular) or JSON format (non-tabular)."
   ]
  },
  {
   "cell_type": "markdown",
   "metadata": {},
   "source": [
    "### 1.1 Tabular data"
   ]
  },
  {
   "cell_type": "markdown",
   "metadata": {},
   "source": [
    "> **Ex. 1**: Download [this file](https://www.dropbox.com/s/8ntns0td580be3i/output_got.csv?dl=0) and load it as a list\n",
    "of lists. Print the first 10 lines, as well as the total number of lines."
   ]
  },
  {
   "cell_type": "code",
   "execution_count": 2,
   "metadata": {},
   "outputs": [
    {
     "name": "stdout",
     "output_type": "stream",
     "text": [
      "username SKREV text.\n",
      "raebengala SKREV Per tranquillizzarci ci dicono che morti #coronavirus sono quasi tutti 80enni. Ci chiedono di tornare normalità, come se questi #anziani non contassero nulla. Pochi giorni fa parlavamo di come si viva più a lungo. Oggi ci sembra una fortuna che muoiano \"solo\" anziani #COVID2019.\n",
      "martin_lainez SKREV El sevillano con coronavirus: «Mando un mensaje de tranquilidad, tenemos una sanidad preparada» https://sevilla.abc.es/sevilla/sevi-sevillano-coronavirus-mando-mensaje-tranquilidad-tenemos-sanidad-preparada-202002272347_noticia.html#vca=rrss-inducido&vmc=abcdesevilla-es&vso=tw&vli=noticia-entrevista … vía @abcdesevilla @RamonRomanR.\n",
      "Davenews5 SKREV #HDPROS Frontières/coronavirus : contrôler les frontières c'est prévenir et tenter d'endiguer la propagation en amont. Les autorités ont renoncé à cela et tentent seulement de réagir localement sans empêcher de nouveaux cas potentiels de venir en France. #Minable #Irresponsable.\n",
      "nnoeliaperez SKREV No quiero ser alarmista pero VAMOS A MORIR ALFODFK jaja jk jk dudes! Este año he tenido gripe y resfriado, el coronavirus no me preocupa xD.\n",
      "paulstpancras SKREV Why Trump is secretly terrified of coronavirus • https://www.independent.co.uk/voices/coronavirus-trump-vaccine-ebola-stock-market-pandemic-economy-election-november-a9359301.html … •.\n",
      "Nova153 SKREV L’Italie enquête sur les prix élevés des masques et des gels antibactériens contre le coronavirus https://www.nouvelordremondial.cc/2020/02/28/litalie-enquete-sur-les-prix-eleves-des-masques-et-des-gels-antibacteriens-contre-le-coronavirus/ ….\n",
      "74_CortoMaltese SKREV @francescatotolo ti vorrei ricordare che Burioni il 2 Febbraio diceva che in Italia il rischio di coronavirus era Zero. La gismondo ha ragione, parla sencondo dati, i morti avevano già patologie importanti il coronavirus è stata un aggravante..\n",
      "Official_Jo_El SKREV the corona virus dier if ereach here paaa ego regret o nbs taabea then rooter mixture we go take kill am.\n",
      "mmusa5053 SKREV Coronavirus in Africa: These are the 3 countries with the highest risk https://www.pulselive.co.ke/bi/lifestyle/coronavirus-in-africa-these-are-the-3-countries-with-the-highest-risk/rzveer1 … via @Twitter.\n",
      "OccopioView SKREV Rumour: Rain water cures corona virus. From a study conducted somewhere in Africa, it was discovered that the deadly disease could not survive for long under the condition of rain water. This discovery has made scientist wonder why?.\n",
      "benonicitytimes SKREV Nigeria reported the first new #Coronavirus case in sub-Saharan Africa > https://benonicitytimes.co.za/afp/939032/video-virus-detected-in-sub-saharan-africa-global-stocks-tank … #InternationalNews #CoronaVirusUpdatespic.twitter.com/hhTic6Wswe.\n",
      "Millet10502462 SKREV Zohra raconte des conneries ce matin. combien de cas de coronavirus en France, combien de morts ? est ce proportionnel avec la grippe ?.\n",
      "ComteSarmento SKREV Que beleza, coitado do coronavirus, não merece esse fim. Que morra. https://twitter.com/RaquelStasiaki/status/1233136003147345932 ….\n",
      "darestix SKREV Bros Corona virus isn't deadlier than Ebola .....the fatality rate is low compared to Ebola.\n",
      "cnnphilippines SKREV Asia Pacific markets are falling Friday as fears about the novel coronavirus continue to spur a global sell-off. https://bit.ly/2TohYOh.\n",
      "GTScholars SKREV UK schools could be closed for eight weeks and sporting fixtures like FA Cup, Grand National and London Marathon postponed under emergency plan to contain coronavirus as three new cases are confirmed in Britain. #Fridayfeeling #TGIFhttp://amp.gs/J9Co.\n",
      "chukydyk2 SKREV Coronavirus Facts pic.twitter.com/9OPti6x18o.\n",
      "SammyMavision SKREV Corona Virus is hunting down Top Iran leadership, I smell something fishy...\n",
      "emmaxtrbl SKREV Do none of you see how ridiculous you look getting angry as if Bighit and the Coronavirus collabed and planned this as some kind of conspiracy? People are dying and y’all can only focus on ‘oh poor me I don’t get to go to this concert where the disease could probably spread’?.\n",
      "samuel_virgile SKREV CORONAVIRUS AU NIGERIA .. SEIGNEUR PROTÈGE NOUS.\n",
      "jjbrou1 SKREV Wondering if a mask would protect you from COVID-19? CDC does not currently recommend the general American public use a facemask to protect against novel coronavirus. Only healthcare professionals caring for COVID-19 patients. http://bit.ly/3ceEJwP.\n",
      "NwaAdaMazii SKREV If the criminal Sars stops you and try to search your phone Panic not. Just 1: sneeze heavily on your phone 2: start coughing uncontrollably 3: Ask them for the nearest corona virus treatment center And then sit back and watch them run away.. Too much sense no go kill me oo.\n",
      "OlaWayn SKREV Corona virus ti wo Lagos otun no Soapy.\n",
      "toshiro__geeko SKREV Et jusqu’à preuve du contraire le VIH c’est largement quelque chose de maîtrisé, des traitements de moins en moins lourd, on peut vivre avec sans problème. Tant-dis que le coronavirus aucun traitement efficace voir inexistant..\n",
      "makoto_au_japon SKREV Senate probe how #China Southern flight found its way in #Kenya in the wake of #coronavirus https://youtu.be/XiRLI6mI0u8 #covid19 #pneumonia #KTNNews #KTNPrime via @KTNNewsKE.\n",
      "BedfordEdenvale SKREV Nigeria reported the first new #Coronavirus case in sub-Saharan Africa > https://bedfordviewedenvalenews.co.za/afp/939032/video-virus-detected-in-sub-saharan-africa-global-stocks-tank … #InternationalNews #CoronaVirusUpdatespic.twitter.com/8XJK31Puxj.\n",
      "otosia SKREV Mobil dengan Fitur Coronavirus Protection Dijual, Harga Rp200 Jutaan https://www.otosia.com/berita/mobil-dengan-fitur-coronavirus-protection-dijual-harga-rp200-jutaan.html ….\n",
      "taegidaizykook SKREV As much as it's a crazy idea but I think bh should put a pause in the whole tour until the world is clear from the Corona virus! No where is safe now! The Boys' safety is no. 1 priority!.\n",
      "Hysteric_Bar SKREV SARS-CoV-2←ウイルスのお名前。 Severe Acute Repiratory Syndrome CoronaVirus 2さん。 2019-nCoV←ウイルスの別名。 2019 novel CoronaVirusさん。 COVID-19←呼吸器疾患のお名前。 COronaVIrus Disease 2019。.\n",
      "drewski334 SKREV Here are the numbers compared to the 2019/20 influenza stats. Worldwide: Coronavirus cases: 80k Influenza cases: 5 million Est. Coronavirus deaths: 2800 Est. Influenza deaths: up to 650k U.S.: Coronavirus cases: 54, no deaths Influenza: 13 million cases, up to 16k deaths.\n",
      "Queen_Absterr SKREV \"Two more coronavirus cases confirmed in the UK\" https://twitter.com/i/events/1232960535831830528 ….\n",
      "Pabloneruda54 SKREV Après avoir interpellé le chef de l'état, #FrancoisSalachas médecin neurologue à la #PitieSalpetriere se confie ce soir à @brutofficiel #Soignants #hopitalpublic #Medecins #Infirmieres #CoronaVirus https://m.facebook.com/brutofficiel/videos/806151566557846/ ….\n",
      "DrBellyButton SKREV Much reporting of #covid19 is using unnecessarily inflammatory language. This issue touches all of us & we all need to work as one. China has shown us the value of that. We can deal with this if we look after ourselves AND each other. #CollectiveAction #coronavirus.\n",
      "Debbie__oz SKREV Corona virus to Nigeria: pic.twitter.com/OD2BW7fQpX.\n",
      "iqraguriya_ SKREV I’m so stressed because of the ban due to coronavirus. I’m supposed to go for Umrah on Monday. But thank u for reminding me “When you come for Umrah it’s because Allah has called you to come specifically. Nothing & no one can stop you from going.” https://twitter.com/planetzaiinab/status/1233129916197220372 ….\n",
      "EpochTimesDE SKREV #Coronavirus erreicht #Norddeutschland – Hamburger Kinderklinik-Mitarbeiter infizierthttps://www.epochtimes.de/politik/deutschland/coronavirus-erreicht-norddeutschland-hamburger-kinderklinik-mitarbeiter-infiziert-a3169447.html ….\n",
      "alaricalbarda SKREV Hi ha qui no viu per por a morir. Ser és aprendre Viure Morir Respirar Etern Estimar Res ha canviat Sense llum a l'horitzó No tem la foscor A la claror de l'alba No tem pas la llibertat #Covid_19 #Covid19 #SARSCoV2 #Coronavirus #HumanBeinghttps://twitter.com/alex_verbeek/status/1233300061154664453 ….\n",
      "hirnduebel SKREV In #Nürnberg wird die interntionale Waffenmesse wegen des #Corona-Virus verschoben. Erschießen ist demnach keine Option..\n",
      "Xirocommlimited SKREV Coronavirus: What We Know And What We Don’t https://xirocomm.net/coronavirus-what-we-know-and-what-we-dont/ …pic.twitter.com/myEWUAOog8.\n",
      "HHjones55 SKREV The year Liverpool look set to win the league and the end of the season will be cancelled because we’ll all have corona virus happy days.\n",
      "KEVINLYONS61 SKREV Ciara -Dennis and now Jorge on the way ,storms galore ,attempting to get a Roof Leak sorted for the past two months . Trees opposite look like they may come down - plus the Coronavirus the biggest storm of the lot , but we can depend on Simon and the HSE ?.\n",
      "Uditgupta_ug SKREV India cancels all flight operations from Iran amid Coronavirus threat | India News https://news.asksmarty.in/?p=31939.\n",
      "joseph_jans SKREV Elle est surtout porteuse d'un virus bien plus dangereux que celui du coronavirus, celui du haineux ! https://twitter.com/fort_a_propos/status/1232982628246204416 ….\n",
      "takecharuru SKREV corona virusに負けずに行きます！ https://twitter.com/JAL_Official_jp/status/1232591128806985728 ….\n",
      "FxView_ SKREV #Oil prices fell for a sixth straight session on Friday and hit its 14-month low level of $45.81 per barrel. Read Full Report Here: https://www.facebook.com/fxviewdotcom/photos/a.126892358853139/133328018209573 … #forextrader #CrudeOil #forextrading #charts #coronavirus #forexeducation #currencypic.twitter.com/pQKRqIOhso.\n",
      "MichaelArthur10 SKREV New Yorker Slaps Donald Trump With Sarcastic Coronavirus Cover https://www.yahoo.com/huffpost/new-yorker-cover-donald-trump-coronavirus-080349799.html ….\n",
      "RedfireBlueice SKREV There are a few people helping the #Pets that were left behind! These pets also needs as much attention as humans because they suffer in silence. #Coronavirus https://www.nbcnews.com/news/amp/ncna1131456?__twitter_impression=true ….\n",
      "balmof_gilead SKREV Please note that these symptoms can also be experienced if you have fever. That doesn’t mean you have #coronavirus. Just take precautionary measures and stay safe! #coronavirusnigeria #CoronavirusOutbreakpic.twitter.com/USYJyCYjL5.\n",
      "micheleperli SKREV Basta odio su base etnica: ora la gente ha paura anche del vicino di casa. Nelle psicosi l'umanità dà il meglio di sé. Coronavirus, il papà della bimba di Padova: \"Mia figlia di 8 anni contagiata e messa alla gogna nel… https://www.repubblica.it/cronaca/2020/02/28/news/coronavirus_-249762194/ … di @repubblica.\n",
      "paksgt SKREV Pernyataan Mbahyai Ma'ruf Amin mengenai Indonesia terhindar dari virus Covid-19 / Corona disebabkan oleh bacaan Doa Qunut menuai banyak reaksi dan nyinyiran. Sungguh saya heran kepada yang nyinyir tersebut, apakah mereka tidak percaya tentang fadhilah dan barokah dari sebuah doa? pic.twitter.com/IBGelg2lIT.\n",
      "chineme35 SKREV Just got to the office. Me to the cleaners: Coronavirus is in Nigeria Cleaners: What’s that? Me: It’s a virus spreading fast around the world and now we need to be careful. Please wash your hands with sanitizers, avoid those with flu and crowded areas..\n",
      "Gordocincuentn SKREV Lo malo de los tuiteros es que al relacionarnos poco físicamente con el resto de la humanidad, tenemos muy pocas posibilidades de reproducirnos. Lo bueno es que tenemos menos posibilidades de contraer el Coronavirus..\n",
      "Elisabeth92390 SKREV \"Coronavirus : des masques pour le personnel de la SNCF qui se rend en Italie du Nord\" http://va.newsrepublic.net/s/MNmsUM.\n",
      "KofiGadget SKREV The Health Service should educate the Public about the corona virus , otherwise the citizens will create fear and panic , the chances of you dying a car crash is higher than contracting corona virus #CoronavirusOutbreak.\n",
      "suRya_trader SKREV Latest reports - Total of 571 new coronavirus cases in South Korea today First case of coronavirus in Belarus First case of coronavirus in New Zealand First case of coronavirus in Lithuania First case of coronavirus in Nigeria.\n",
      "BaptisteTeddy SKREV na un i sa dit a ou \"toi gagner coronavirus\" ptdr pardon.\n",
      "KeepKoh SKREV The world is in dire need of heroes, Corona virus is not a movie; it is happening. People are dying, Historically, humans have always won, if they have wanted to. Someone knows what is going on. My guess, this is WWIII, There will be many casualties; generations will be wiped.\n",
      "Rover829 SKREV Reuters: \"The coronavirus now looks like a pandemic. Markets can cope even if there is big risk as long as we can see the end of the tunnel,\" said Norihiro Fujito, chief investment strategist at Mitsubishi UFJ Morgan Stanley Securities..\n",
      "CleanTotaal SKREV Wat betekent het #coronavirus voor u als schoonmaakondernemer? Een beknopt overzicht, met dank aan @OSBNieuwshttps://cleantotaal.nl/nieuws/coronavirus-wat-betekent-dit/ ….\n",
      "PinkLot12325041 SKREV Invece i nostri porti sono aperti per i trogloditi che arrivano comunque infetti a causa di tubercolosi, meningite, aids, sifilide e sicuramente Corona Virus anche se non ce lo dicono. Che schifo! di governo! http://www.ilgiornale.it/news/mondo/israele-vieta-lingresso-agli-italiani-1832841.html … di @ilGiornale.\n",
      "Vikitor_calero SKREV Y el Inter con coronavirus pic.twitter.com/cV0vsurDdw.\n",
      "mariejansj SKREV Is al bekend waardoor het coronavirus in China is ontstaan? Enig idee wat de Chinese autoriteiten hier aan doen? Verbod op iets? Strengere voorschriften? Straffen? Het heeft wereldwijd grote negatieve consequenties. @bruno_bruins @MinBZ @MinVWS.\n",
      "6NewsCTX SKREV Nigeria, New Zealand confirm first coronavirus patients https://www.kcentv.com/article/news/health/coronavirus/coronavirus-nigeria-new-zealand-first-cases/507-1aa2bb18-44c3-4a57-95dc-ffcfb68acf35 ….\n",
      "Mare84316453 SKREV Croatia 2 new cases, total infected persons 5 #BREAKING #BreakingNews #coronavirus #Covid_19 #COVID19 #CoronavirusOutbreak #coronaviruscroatia #coronaviruseurope.\n",
      "forddyce92 SKREV Pasien yang Dinyatakan Sembuh Virus Corona dapat Terjangkit Kembali https://indozone.id/s/DNs8OA pic.twitter.com/dM0QzvAhR2.\n",
      "86Monik37 SKREV Y a este dolor de cabeza le llamaré, coronavirus que me estás haciendo..\n",
      "MikeSouthon SKREV Some outstanding advice and guidance about Coronavirus! https://twitter.com/alimanfoo/status/1232693018295250946 ….\n",
      "AMsambul SKREV When the leaders of other countries are seeing the danger of coronavirus ,our Kenya leaders are seeing a lucrative tender incase of an outbreak? What they don't know is,they can as well be victims. #CoronaVirusUpdates #coronavirusInkenyapic.twitter.com/uf1ZWiVzfT.\n",
      "jiseulbv SKREV 31. Red Velvet as a group donated a total of 230 million won to help support those affected with corona virus pic.twitter.com/eyyI60UArX.\n",
      "humassukalarang SKREV “Aksi Kemanusiaan mengantisipasi virus corona, TNI-POLRI-Pemda Bersinergi tinjau kesiapan Fasilitas dan keamanan Pulau Sebaru untuk Observasi WNI ABK World Dream” #BersamaCegahCorona https://www.instagram.com/p/B9Gn3fMlYnX/?igshid=1deazvs0wm5ib ….\n",
      "iamsammeamor SKREV Someone should kindly remind @patapaa_amisty not to bring #coronavirus to Ghana from Germany... Nigeria just got theirs from Italy ooo #coronavirusnigeria @dkbghana @sarkodie @thenanaaba @ni.\n",
      "Emeka_talks SKREV My colleague's kid just said this to her: Mummy, Corona Schools will shut down very soon. How can a school have the same name as a virus?.\n",
      "shedoverheels SKREV @BorisJohnson get your act together and get a Government minister to front-up an interview on #CoronaVirus on @BBCr4today.\n",
      "MrThadee SKREV North Korea's first confirmed Coronavirus COVID 19 patient shot dead: report https://www.ibtimes.sg/north-koreas-first-confirmed-coronavirus-covid-19-patient-shot-dead-report-40042 ….\n",
      "lena21th SKREV Ich habe eine Frage zum #CoronaVirus: Wer gehört nun zu den Risikogruppen?.\n",
      "JordanSoares05 SKREV Pour choper le coronavirus grosse flemme total https://twitter.com/renard_afro/status/1233290574389751808 ….\n",
      "adukay21 SKREV Like joke like joke this Corona virus thing they turn like world War Z kinda movie... Eeeiii.. No where cool.\n",
      "dawei966 SKREV Happening now. @EuropeanChamber group of companies led by President #JoergWuttke and @ChinaEUMission Ambassador Zhang Ming in videocall to continue to work closely on #coronavirus crisis and on upcoming EU-China Summit pic.twitter.com/zIGN871TUR.\n",
      "chouchou_ddadda SKREV there are 2337 cases of coronavirus now and still no information from @TOPmedia_Kr about postponing Wooseok's fanmeeting?https://twitter.com/JTBC_news/status/1233301600950571008 ….\n",
      "irinamow SKREV Masoumeh Ebtekar, Iran's vice president for women and family affairs, has tested positive for the novel coronavirus, according to Islamic Republic News Agency (IRNA). #伊朗副总统新型冠状病毒检测呈阳#https://weibointl.api.weibo.cn/share/127204622.html?weibo_id=4476708629657831 ….\n",
      "Billyavrian1 SKREV もたもたしすぎた草加 . . #KamenRiderZeroOne #KamenRider #kamenriderfaiz #tokusatsu #supersentai #PowerRangers #powerrangersbeastmorphers #KADOKAWA #KADOKAWAサクラナイツ #TOEIC #TOEI #CoronaVirusUpdates #coronavirus #DelhiViolance #memeindo #otaku #OtakuSing #OtakuQuotes #animepic.twitter.com/6Hyytuuh9X.\n",
      "BitMarvel SKREV Baidu warns of big hit from coronavirus outbreak https://bitmarvel.co/baidu-warns-of-big-hit-from-coronavirus-outbreak/ ….\n",
      "RTLlu SKREV Ugespaante Situatioun zu Teneriffa: Touriste beschwéiere sech iwwer Quarantän a fuerderen Evakuéierung vun Hotel. #coronavirus #rtlluhttps://www.rtl.lu/news/international/a/1476270.html ….\n",
      "PearsonHards SKREV Our latest blog about the Coronavirus discusses whether businesses are ready for any potential interruption that might be caused by this outbreak and what things companies should be considering - http://ow.ly/FuKf50yxWLM.\n",
      "citizentvkenya SKREV Nigeria confirms first case of coronavirus – health ministry http://ow.ly/AIck30qlpJF pic.twitter.com/Mhu0RHHAVz.\n",
      "ChrisDod1 SKREV Why whenever I do a search on what is happening over Corona virus in the UK do I always get a big fat banner at the top of the screen from the Dept of Health and Social Care? I don't want to reminded of their website yet again. I want info elsewhere #covid19uk #coronavirusuk.\n",
      "ChinaDaily SKREV \"If you can count on the reports coming out of China, that spread has gone down quite bit,\" said US President Donald Trump at the US coronavirus outbreak briefing. #coronavirus #COVID19pic.twitter.com/2FrxRiojlX.\n",
      "ntvkenya SKREV Coronavirus: WHO says situation at a decisive point http://ow.ly/sPXY50yydrM pic.twitter.com/E9XUrs9zeH.\n",
      "AllIndi34385684 SKREV Sensex Tumbles 1,200 Points as Coronavirus Fears Grip Markets; Here’s a Look at Top Losers https://allindianews.com.bingnewsquiz.com/sensex-tumbles-1200-points-as-coronavirus-fears-grip-markets-heres-a-look-at-top-losers/ ….\n",
      "aissofiah SKREV dahlah ko memang babi coronavirus https://twitter.com/MONBEBEnt/status/1233292228648411141 ….\n",
      "zugetti SKREV #saunazelt #coronavirus #schnee wer zu Hause ein schönes #sauna wochenende geniessen möchte kann das ich bin 1 h von zürich/ basel / bern entfernt #saunaamsee https://www.instagram.com/p/B9Gn3G2g_E2/?igshid=apfesxwjv5nl ….\n",
      "inessou_e__ SKREV Mais si les gens y vont au Maghreb , le Maroc est un pays très touristique, des gens partent en Afrique pour le voyage, vous n'avez rien compris au coronavirus, il s'attrape dans le pays même pas en voyageant..\n",
      "thaimythbuster SKREV Once bustling, Chiang Mai tourist areas are now deserted Thai news agency MCOT has become the latest media outlet to bemoan the devastating effect of the coronavirus (Covid-19) on Thai tourism, after their reporters went to the once thriving area of Nimmanhaemin..\n",
      "mallorcainforma SKREV El País más leídas: Últimas noticias del coronavirus, en directo | Nigeria confirma el primer contagio en el África subsahariana http://dlvr.it/RQvXjz @elpais_espanapic.twitter.com/WqbV5PiqxT.\n",
      "CGTNFrancais SKREV Le labour de printemps est en cours dans de nombreuses régions de Chine dans le contexte de lutte contre l'épidémie de nouveau coronavirus (COVID-19). pic.twitter.com/6EcFE8c25b.\n",
      "92Andrianiutari SKREV “Aksi Kemanusiaan mengantisipasi virus corona, TNI-POLRI-Pemda Bersinergi tinjau kesiapan Fasilitas dan keamanan Pulau Sebaru untuk Observasi WNI ABK World Dream” #BersamaCegahCoronapic.twitter.com/RnirqNT6HT.\n",
      "TheRealOlaDiab SKREV No coronavirus cases in #Qatar and risk is currently low: GCO - The Peninsula Qatarhttps://www.thepeninsulaqatar.com/article/26/02/2020/No-coronavirus-cases-in-Qatar-and-risk-is-currently-low-GCO ….\n",
      "TMZ SKREV Ski World Cup Finals In Italy Bans Spectators Due To Coronavirus http://tmz.me/LLUsRLK.\n",
      "SpeedBird_NCL SKREV Spreading coronavirus is making some American Airlines crews nervous about flying abroad: http://ow.ly/vsgr30qlpuO #Aviation #Airlines #COVID19 #Coronavirus pic.twitter.com/CnKC7jIq54.\n",
      "blueit_news SKREV #Smart_working, da necessità a #chance di #innovazione per l’ #Italia L’emergenza #Coronavirus ha portato alla ribalta il #lavoro_agile e contribuito alla diffusione di nuovi modelli organizzativi e culturali al passo con la #rivoluzione_digitale @Cor_Comhttps://www.corrierecomunicazioni.it/lavoro-carriere/smart-working/smart-working-da-necessita-a-chance-di-innovazione-per-litalia/ ….\n"
     ]
    }
   ],
   "source": [
    "import csv\n",
    "Ulfsfil=open(\"output_got.csv\",\"r\")\n",
    "csv_læst_fil=csv.reader(Ulfsfil)\n",
    "for rækker in csv_læst_fil:\n",
    "    print(rækker[1]+\" SKREV \"+rækker[6]+\".\")\n",
    "Ulfsfil.close()"
   ]
  },
  {
   "cell_type": "code",
   "execution_count": 3,
   "metadata": {},
   "outputs": [],
   "source": [
    "Ulfsfil=open(\"output_got.csv\",\"r\")\n",
    "csv_læst_fil=csv.reader(Ulfsfil)\n",
    "liste_af_lister=[]\n",
    "for row in csv_læst_fil:\n",
    "    liste_af_lister.append(row)\n",
    "Ulfsfil.close()"
   ]
  },
  {
   "cell_type": "code",
   "execution_count": 4,
   "metadata": {},
   "outputs": [
    {
     "data": {
      "text/plain": [
       "101"
      ]
     },
     "execution_count": 4,
     "metadata": {},
     "output_type": "execute_result"
    }
   ],
   "source": [
    "len(liste_af_lister)"
   ]
  },
  {
   "cell_type": "code",
   "execution_count": 5,
   "metadata": {},
   "outputs": [
    {
     "data": {
      "text/plain": [
       "['date',\n",
       " 'username',\n",
       " 'to',\n",
       " 'replies',\n",
       " 'retweets',\n",
       " 'favorites',\n",
       " 'text',\n",
       " 'geo',\n",
       " 'mentions',\n",
       " 'hashtags',\n",
       " 'id',\n",
       " 'permalink']"
      ]
     },
     "execution_count": 5,
     "metadata": {},
     "output_type": "execute_result"
    }
   ],
   "source": [
    "liste_af_lister[0]\n",
    "#here is the first table-information from the csv file to see what kind of data available"
   ]
  },
  {
   "cell_type": "code",
   "execution_count": 6,
   "metadata": {},
   "outputs": [
    {
     "data": {
      "text/plain": [
       "['2020-02-28 08:15:18',\n",
       " 'Nova153',\n",
       " '',\n",
       " '0',\n",
       " '0',\n",
       " '0',\n",
       " 'L’Italie enquête sur les prix élevés des masques et des gels antibactériens contre le coronavirus https://www.nouvelordremondial.cc/2020/02/28/litalie-enquete-sur-les-prix-eleves-des-masques-et-des-gels-antibacteriens-contre-le-coronavirus/ …',\n",
       " '',\n",
       " '',\n",
       " '',\n",
       " '1233304658237628417',\n",
       " 'https://twitter.com/Nova153/status/1233304658237628417']"
      ]
     },
     "execution_count": 6,
     "metadata": {},
     "output_type": "execute_result"
    }
   ],
   "source": [
    "liste_af_lister[6]"
   ]
  },
  {
   "cell_type": "code",
   "execution_count": 7,
   "metadata": {},
   "outputs": [],
   "source": [
    "#Ulfsfil.close() skal ALTID bruges når man har brugt en fil, man kan ikke beholde dem åbne\n",
    "#Når man har brugt filen én gang, SKAL man spoole tilbage eller starte forfra for at køre den\n",
    "#Man kan sige - det bliver en smule svært at bruge csv-filen uden pandas (men ikke umuligt)"
   ]
  },
  {
   "cell_type": "markdown",
   "metadata": {},
   "source": [
    "> **Ex. 2**: Load the same file into a `pandas.DataFrame`. What do you think it describes, and can you characterize\n",
    "it just from a glance? What would be some things we could investigate about this data?\n",
    ">\n",
    "> *Hint: To load a csv as a pandas dataframe you can `import pandas as pd` (if you do not have it installed, run `pip install pandas`\n",
    "in your terminal/command prompt) and load it using [`pd.read_csv`](https://pandas.pydata.org/pandas-docs/stable/reference/api/pandas.read_csv.html).*"
   ]
  },
  {
   "cell_type": "code",
   "execution_count": 8,
   "metadata": {},
   "outputs": [
    {
     "data": {
      "text/html": [
       "<div>\n",
       "<style scoped>\n",
       "    .dataframe tbody tr th:only-of-type {\n",
       "        vertical-align: middle;\n",
       "    }\n",
       "\n",
       "    .dataframe tbody tr th {\n",
       "        vertical-align: top;\n",
       "    }\n",
       "\n",
       "    .dataframe thead th {\n",
       "        text-align: right;\n",
       "    }\n",
       "</style>\n",
       "<table border=\"1\" class=\"dataframe\">\n",
       "  <thead>\n",
       "    <tr style=\"text-align: right;\">\n",
       "      <th></th>\n",
       "      <th>date</th>\n",
       "      <th>username</th>\n",
       "      <th>to</th>\n",
       "      <th>replies</th>\n",
       "      <th>retweets</th>\n",
       "      <th>favorites</th>\n",
       "      <th>text</th>\n",
       "      <th>geo</th>\n",
       "      <th>mentions</th>\n",
       "      <th>hashtags</th>\n",
       "      <th>id</th>\n",
       "      <th>permalink</th>\n",
       "    </tr>\n",
       "  </thead>\n",
       "  <tbody>\n",
       "    <tr>\n",
       "      <td>0</td>\n",
       "      <td>2020-02-28 08:15:19</td>\n",
       "      <td>raebengala</td>\n",
       "      <td>NaN</td>\n",
       "      <td>0</td>\n",
       "      <td>0</td>\n",
       "      <td>0</td>\n",
       "      <td>Per tranquillizzarci ci dicono che morti #coro...</td>\n",
       "      <td>NaN</td>\n",
       "      <td>NaN</td>\n",
       "      <td>#coronavirus #anziani #COVID2019</td>\n",
       "      <td>1233304662671069184</td>\n",
       "      <td>https://twitter.com/raebengala/status/12333046...</td>\n",
       "    </tr>\n",
       "    <tr>\n",
       "      <td>1</td>\n",
       "      <td>2020-02-28 08:15:19</td>\n",
       "      <td>martin_lainez</td>\n",
       "      <td>NaN</td>\n",
       "      <td>0</td>\n",
       "      <td>0</td>\n",
       "      <td>0</td>\n",
       "      <td>El sevillano con coronavirus: «Mando un mensaj...</td>\n",
       "      <td>NaN</td>\n",
       "      <td>@abcdesevilla @RamonRomanR</td>\n",
       "      <td>#vca</td>\n",
       "      <td>1233304662092152832</td>\n",
       "      <td>https://twitter.com/martin_lainez/status/12333...</td>\n",
       "    </tr>\n",
       "    <tr>\n",
       "      <td>2</td>\n",
       "      <td>2020-02-28 08:15:19</td>\n",
       "      <td>Davenews5</td>\n",
       "      <td>NaN</td>\n",
       "      <td>0</td>\n",
       "      <td>0</td>\n",
       "      <td>0</td>\n",
       "      <td>#HDPROS Frontières/coronavirus : contrôler les...</td>\n",
       "      <td>NaN</td>\n",
       "      <td>NaN</td>\n",
       "      <td>#HDPROS #Minable #Irresponsable</td>\n",
       "      <td>1233304660473151488</td>\n",
       "      <td>https://twitter.com/Davenews5/status/123330466...</td>\n",
       "    </tr>\n",
       "    <tr>\n",
       "      <td>3</td>\n",
       "      <td>2020-02-28 08:15:19</td>\n",
       "      <td>nnoeliaperez</td>\n",
       "      <td>NaN</td>\n",
       "      <td>0</td>\n",
       "      <td>0</td>\n",
       "      <td>0</td>\n",
       "      <td>No quiero ser alarmista pero VAMOS A MORIR ALF...</td>\n",
       "      <td>NaN</td>\n",
       "      <td>NaN</td>\n",
       "      <td>NaN</td>\n",
       "      <td>1233304660188041216</td>\n",
       "      <td>https://twitter.com/nnoeliaperez/status/123330...</td>\n",
       "    </tr>\n",
       "    <tr>\n",
       "      <td>4</td>\n",
       "      <td>2020-02-28 08:15:19</td>\n",
       "      <td>paulstpancras</td>\n",
       "      <td>NaN</td>\n",
       "      <td>0</td>\n",
       "      <td>0</td>\n",
       "      <td>0</td>\n",
       "      <td>Why Trump is secretly terrified of coronavirus...</td>\n",
       "      <td>NaN</td>\n",
       "      <td>NaN</td>\n",
       "      <td>NaN</td>\n",
       "      <td>1233304659156180994</td>\n",
       "      <td>https://twitter.com/paulstpancras/status/12333...</td>\n",
       "    </tr>\n",
       "    <tr>\n",
       "      <td>...</td>\n",
       "      <td>...</td>\n",
       "      <td>...</td>\n",
       "      <td>...</td>\n",
       "      <td>...</td>\n",
       "      <td>...</td>\n",
       "      <td>...</td>\n",
       "      <td>...</td>\n",
       "      <td>...</td>\n",
       "      <td>...</td>\n",
       "      <td>...</td>\n",
       "      <td>...</td>\n",
       "      <td>...</td>\n",
       "    </tr>\n",
       "    <tr>\n",
       "      <td>95</td>\n",
       "      <td>2020-02-28 08:15:04</td>\n",
       "      <td>92Andrianiutari</td>\n",
       "      <td>NaN</td>\n",
       "      <td>0</td>\n",
       "      <td>0</td>\n",
       "      <td>0</td>\n",
       "      <td>“Aksi Kemanusiaan mengantisipasi virus corona,...</td>\n",
       "      <td>NaN</td>\n",
       "      <td>NaN</td>\n",
       "      <td>#BersamaCegahCoronapic</td>\n",
       "      <td>1233304599550758913</td>\n",
       "      <td>https://twitter.com/92Andrianiutari/status/123...</td>\n",
       "    </tr>\n",
       "    <tr>\n",
       "      <td>96</td>\n",
       "      <td>2020-02-28 08:15:04</td>\n",
       "      <td>TheRealOlaDiab</td>\n",
       "      <td>NaN</td>\n",
       "      <td>0</td>\n",
       "      <td>0</td>\n",
       "      <td>0</td>\n",
       "      <td>No coronavirus cases in #Qatar and risk is cur...</td>\n",
       "      <td>NaN</td>\n",
       "      <td>NaN</td>\n",
       "      <td>#Qatar</td>\n",
       "      <td>1233304598305214464</td>\n",
       "      <td>https://twitter.com/TheRealOlaDiab/status/1233...</td>\n",
       "    </tr>\n",
       "    <tr>\n",
       "      <td>97</td>\n",
       "      <td>2020-02-28 08:15:04</td>\n",
       "      <td>TMZ</td>\n",
       "      <td>NaN</td>\n",
       "      <td>0</td>\n",
       "      <td>0</td>\n",
       "      <td>1</td>\n",
       "      <td>Ski World Cup Finals In Italy Bans Spectators ...</td>\n",
       "      <td>NaN</td>\n",
       "      <td>NaN</td>\n",
       "      <td>NaN</td>\n",
       "      <td>1233304597650956290</td>\n",
       "      <td>https://twitter.com/TMZ/status/123330459765095...</td>\n",
       "    </tr>\n",
       "    <tr>\n",
       "      <td>98</td>\n",
       "      <td>2020-02-28 08:15:04</td>\n",
       "      <td>SpeedBird_NCL</td>\n",
       "      <td>NaN</td>\n",
       "      <td>0</td>\n",
       "      <td>0</td>\n",
       "      <td>0</td>\n",
       "      <td>Spreading coronavirus is making some American ...</td>\n",
       "      <td>NaN</td>\n",
       "      <td>NaN</td>\n",
       "      <td>#Aviation #Airlines #COVID19 #Coronavirus</td>\n",
       "      <td>1233304597172772865</td>\n",
       "      <td>https://twitter.com/SpeedBird_NCL/status/12333...</td>\n",
       "    </tr>\n",
       "    <tr>\n",
       "      <td>99</td>\n",
       "      <td>2020-02-28 08:15:03</td>\n",
       "      <td>blueit_news</td>\n",
       "      <td>NaN</td>\n",
       "      <td>0</td>\n",
       "      <td>0</td>\n",
       "      <td>0</td>\n",
       "      <td>#Smart_working, da necessità a #chance di #inn...</td>\n",
       "      <td>NaN</td>\n",
       "      <td>@Cor_Comhttps</td>\n",
       "      <td>#Smart_working #chance #innovazione #Italia #C...</td>\n",
       "      <td>1233304595016888320</td>\n",
       "      <td>https://twitter.com/blueit_news/status/1233304...</td>\n",
       "    </tr>\n",
       "  </tbody>\n",
       "</table>\n",
       "<p>100 rows × 12 columns</p>\n",
       "</div>"
      ],
      "text/plain": [
       "                   date         username   to  replies  retweets  favorites  \\\n",
       "0   2020-02-28 08:15:19       raebengala  NaN        0         0          0   \n",
       "1   2020-02-28 08:15:19    martin_lainez  NaN        0         0          0   \n",
       "2   2020-02-28 08:15:19        Davenews5  NaN        0         0          0   \n",
       "3   2020-02-28 08:15:19     nnoeliaperez  NaN        0         0          0   \n",
       "4   2020-02-28 08:15:19    paulstpancras  NaN        0         0          0   \n",
       "..                  ...              ...  ...      ...       ...        ...   \n",
       "95  2020-02-28 08:15:04  92Andrianiutari  NaN        0         0          0   \n",
       "96  2020-02-28 08:15:04   TheRealOlaDiab  NaN        0         0          0   \n",
       "97  2020-02-28 08:15:04              TMZ  NaN        0         0          1   \n",
       "98  2020-02-28 08:15:04    SpeedBird_NCL  NaN        0         0          0   \n",
       "99  2020-02-28 08:15:03      blueit_news  NaN        0         0          0   \n",
       "\n",
       "                                                 text  geo  \\\n",
       "0   Per tranquillizzarci ci dicono che morti #coro...  NaN   \n",
       "1   El sevillano con coronavirus: «Mando un mensaj...  NaN   \n",
       "2   #HDPROS Frontières/coronavirus : contrôler les...  NaN   \n",
       "3   No quiero ser alarmista pero VAMOS A MORIR ALF...  NaN   \n",
       "4   Why Trump is secretly terrified of coronavirus...  NaN   \n",
       "..                                                ...  ...   \n",
       "95  “Aksi Kemanusiaan mengantisipasi virus corona,...  NaN   \n",
       "96  No coronavirus cases in #Qatar and risk is cur...  NaN   \n",
       "97  Ski World Cup Finals In Italy Bans Spectators ...  NaN   \n",
       "98  Spreading coronavirus is making some American ...  NaN   \n",
       "99  #Smart_working, da necessità a #chance di #inn...  NaN   \n",
       "\n",
       "                      mentions  \\\n",
       "0                          NaN   \n",
       "1   @abcdesevilla @RamonRomanR   \n",
       "2                          NaN   \n",
       "3                          NaN   \n",
       "4                          NaN   \n",
       "..                         ...   \n",
       "95                         NaN   \n",
       "96                         NaN   \n",
       "97                         NaN   \n",
       "98                         NaN   \n",
       "99               @Cor_Comhttps   \n",
       "\n",
       "                                             hashtags                   id  \\\n",
       "0                    #coronavirus #anziani #COVID2019  1233304662671069184   \n",
       "1                                                #vca  1233304662092152832   \n",
       "2                     #HDPROS #Minable #Irresponsable  1233304660473151488   \n",
       "3                                                 NaN  1233304660188041216   \n",
       "4                                                 NaN  1233304659156180994   \n",
       "..                                                ...                  ...   \n",
       "95                             #BersamaCegahCoronapic  1233304599550758913   \n",
       "96                                             #Qatar  1233304598305214464   \n",
       "97                                                NaN  1233304597650956290   \n",
       "98          #Aviation #Airlines #COVID19 #Coronavirus  1233304597172772865   \n",
       "99  #Smart_working #chance #innovazione #Italia #C...  1233304595016888320   \n",
       "\n",
       "                                            permalink  \n",
       "0   https://twitter.com/raebengala/status/12333046...  \n",
       "1   https://twitter.com/martin_lainez/status/12333...  \n",
       "2   https://twitter.com/Davenews5/status/123330466...  \n",
       "3   https://twitter.com/nnoeliaperez/status/123330...  \n",
       "4   https://twitter.com/paulstpancras/status/12333...  \n",
       "..                                                ...  \n",
       "95  https://twitter.com/92Andrianiutari/status/123...  \n",
       "96  https://twitter.com/TheRealOlaDiab/status/1233...  \n",
       "97  https://twitter.com/TMZ/status/123330459765095...  \n",
       "98  https://twitter.com/SpeedBird_NCL/status/12333...  \n",
       "99  https://twitter.com/blueit_news/status/1233304...  \n",
       "\n",
       "[100 rows x 12 columns]"
      ]
     },
     "execution_count": 8,
     "metadata": {},
     "output_type": "execute_result"
    }
   ],
   "source": [
    "import pandas as pd\n",
    "pd.read_csv(\"output_got.csv\")\n",
    "#meget lækrere design!"
   ]
  },
  {
   "cell_type": "code",
   "execution_count": 10,
   "metadata": {},
   "outputs": [
    {
     "name": "stdout",
     "output_type": "stream",
     "text": [
      "                   date         username   to  replies  retweets  favorites  \\\n",
      "0   2020-02-28 08:15:19       raebengala  NaN        0         0          0   \n",
      "1   2020-02-28 08:15:19    martin_lainez  NaN        0         0          0   \n",
      "2   2020-02-28 08:15:19        Davenews5  NaN        0         0          0   \n",
      "3   2020-02-28 08:15:19     nnoeliaperez  NaN        0         0          0   \n",
      "4   2020-02-28 08:15:19    paulstpancras  NaN        0         0          0   \n",
      "..                  ...              ...  ...      ...       ...        ...   \n",
      "95  2020-02-28 08:15:04  92Andrianiutari  NaN        0         0          0   \n",
      "96  2020-02-28 08:15:04   TheRealOlaDiab  NaN        0         0          0   \n",
      "97  2020-02-28 08:15:04              TMZ  NaN        0         0          1   \n",
      "98  2020-02-28 08:15:04    SpeedBird_NCL  NaN        0         0          0   \n",
      "99  2020-02-28 08:15:03      blueit_news  NaN        0         0          0   \n",
      "\n",
      "                                                 text  geo  \\\n",
      "0   Per tranquillizzarci ci dicono che morti #coro...  NaN   \n",
      "1   El sevillano con coronavirus: «Mando un mensaj...  NaN   \n",
      "2   #HDPROS Frontières/coronavirus : contrôler les...  NaN   \n",
      "3   No quiero ser alarmista pero VAMOS A MORIR ALF...  NaN   \n",
      "4   Why Trump is secretly terrified of coronavirus...  NaN   \n",
      "..                                                ...  ...   \n",
      "95  “Aksi Kemanusiaan mengantisipasi virus corona,...  NaN   \n",
      "96  No coronavirus cases in #Qatar and risk is cur...  NaN   \n",
      "97  Ski World Cup Finals In Italy Bans Spectators ...  NaN   \n",
      "98  Spreading coronavirus is making some American ...  NaN   \n",
      "99  #Smart_working, da necessità a #chance di #inn...  NaN   \n",
      "\n",
      "                      mentions  \\\n",
      "0                          NaN   \n",
      "1   @abcdesevilla @RamonRomanR   \n",
      "2                          NaN   \n",
      "3                          NaN   \n",
      "4                          NaN   \n",
      "..                         ...   \n",
      "95                         NaN   \n",
      "96                         NaN   \n",
      "97                         NaN   \n",
      "98                         NaN   \n",
      "99               @Cor_Comhttps   \n",
      "\n",
      "                                             hashtags                   id  \\\n",
      "0                    #coronavirus #anziani #COVID2019  1233304662671069184   \n",
      "1                                                #vca  1233304662092152832   \n",
      "2                     #HDPROS #Minable #Irresponsable  1233304660473151488   \n",
      "3                                                 NaN  1233304660188041216   \n",
      "4                                                 NaN  1233304659156180994   \n",
      "..                                                ...                  ...   \n",
      "95                             #BersamaCegahCoronapic  1233304599550758913   \n",
      "96                                             #Qatar  1233304598305214464   \n",
      "97                                                NaN  1233304597650956290   \n",
      "98          #Aviation #Airlines #COVID19 #Coronavirus  1233304597172772865   \n",
      "99  #Smart_working #chance #innovazione #Italia #C...  1233304595016888320   \n",
      "\n",
      "                                            permalink  \n",
      "0   https://twitter.com/raebengala/status/12333046...  \n",
      "1   https://twitter.com/martin_lainez/status/12333...  \n",
      "2   https://twitter.com/Davenews5/status/123330466...  \n",
      "3   https://twitter.com/nnoeliaperez/status/123330...  \n",
      "4   https://twitter.com/paulstpancras/status/12333...  \n",
      "..                                                ...  \n",
      "95  https://twitter.com/92Andrianiutari/status/123...  \n",
      "96  https://twitter.com/TheRealOlaDiab/status/1233...  \n",
      "97  https://twitter.com/TMZ/status/123330459765095...  \n",
      "98  https://twitter.com/SpeedBird_NCL/status/12333...  \n",
      "99  https://twitter.com/blueit_news/status/1233304...  \n",
      "\n",
      "[100 rows x 12 columns]\n"
     ]
    }
   ],
   "source": [
    "pandafile=open(\"output_got.csv\",\"r\")\n",
    "pfile=pd.read_csv(pandafile)\n",
    "print(pfile)\n",
    "pandafile.close()\n",
    "#it is perhaps not even necessary to open the \"pandafile\" expression in the first place"
   ]
  },
  {
   "cell_type": "code",
   "execution_count": 11,
   "metadata": {},
   "outputs": [
    {
     "data": {
      "text/plain": [
       "Index(['date', 'username', 'to', 'replies', 'retweets', 'favorites', 'text',\n",
       "       'geo', 'mentions', 'hashtags', 'id', 'permalink'],\n",
       "      dtype='object')"
      ]
     },
     "execution_count": 11,
     "metadata": {},
     "output_type": "execute_result"
    }
   ],
   "source": [
    "#pandas sorted everything for us. And it is telling us that it has it (although theres ..'s)\n",
    "pfile.keys()"
   ]
  },
  {
   "cell_type": "code",
   "execution_count": 12,
   "metadata": {},
   "outputs": [
    {
     "data": {
      "text/plain": [
       "0          raebengala\n",
       "1       martin_lainez\n",
       "2           Davenews5\n",
       "3        nnoeliaperez\n",
       "4       paulstpancras\n",
       "           ...       \n",
       "95    92Andrianiutari\n",
       "96     TheRealOlaDiab\n",
       "97                TMZ\n",
       "98      SpeedBird_NCL\n",
       "99        blueit_news\n",
       "Name: username, Length: 100, dtype: object"
      ]
     },
     "execution_count": 12,
     "metadata": {},
     "output_type": "execute_result"
    }
   ],
   "source": [
    "pfile[\"username\"]\n",
    "#this is how we access it"
   ]
  },
  {
   "cell_type": "code",
   "execution_count": 13,
   "metadata": {},
   "outputs": [
    {
     "name": "stdout",
     "output_type": "stream",
     "text": [
      "[('Nova153', nan), ('74_CortoMaltese', nan), ('Official_Jo_El', nan), ('mmusa5053', nan), ('OccopioView', nan), ('benonicitytimes', '#Coronavirus #InternationalNews #CoronaVirusUpdatespic'), ('Millet10502462', nan), ('ComteSarmento', nan), ('darestix', nan), ('cnnphilippines', nan), ('GTScholars', '#Fridayfeeling #TGIFhttp'), ('chukydyk2', nan), ('SammyMavision', nan), ('emmaxtrbl', nan), ('samuel_virgile', nan)]\n"
     ]
    }
   ],
   "source": [
    "key=pfile[\"username\"][5:20]\n",
    "val=pfile[\"hashtags\"][5:20]\n",
    "zipd=list(zip(key,val))\n",
    "\n",
    "\n",
    "print(zipd)"
   ]
  },
  {
   "cell_type": "code",
   "execution_count": 14,
   "metadata": {},
   "outputs": [],
   "source": [
    "#og så kan man lege lidt rundt med det, men det mister lidt det pæne. Pandadocumentationen\n",
    "#kan nok nogle mere nice commands"
   ]
  },
  {
   "cell_type": "markdown",
   "metadata": {},
   "source": [
    "> **Ex. 3**: Are there missing values in the data? How does `pandas` handle these? Can we remedy missing values in\n",
    "any way?"
   ]
  },
  {
   "cell_type": "code",
   "execution_count": null,
   "metadata": {},
   "outputs": [],
   "source": [
    "#when there are no values it is shown as \"nan\" or \"NaN\"\n",
    "#It can be found through these:\n",
    "#filename.shape shows a tuple data structure of the number of rows and number of columns\n",
    "#filename.dropna().shape would show how many missing values there is"
   ]
  },
  {
   "cell_type": "markdown",
   "metadata": {},
   "source": [
    "> ***If you are motivated***: Install [GetOldTweets3](https://pypi.org/project/GetOldTweets3/). Use it to download\n",
    "a dataset of tweets about Corona virus originating from Denmark (or in Danish). Print a handful of tweets and summarize the discourse."
   ]
  },
  {
   "cell_type": "code",
   "execution_count": null,
   "metadata": {},
   "outputs": [],
   "source": [
    "#how do you summarize a discourse?"
   ]
  },
  {
   "cell_type": "markdown",
   "metadata": {},
   "source": [
    "### 1.2 Non-tabular data"
   ]
  },
  {
   "cell_type": "markdown",
   "metadata": {},
   "source": [
    "> **Ex. 4** In Python, JSON is rendered as a `dict`-type object. `dict`s are key-value stores, much like \n",
    "dictionaries that map words between e.g. Danish and English: input a word in Danish (the key) and get the word\n",
    "in English (the value). In Python this operation is achieved by \"keying\" into a dictionary with code like\n",
    "`my_dict[the_key]`. JSON objects are, however, a step more complicated. How? Because values can themselves be\n",
    "dictionaries (or lists), thus nesting the data in a tree structure. In this exercise, you should \"key\" into `my_json_obj`\n",
    "below to access the list of useless cats."
   ]
  },
  {
   "cell_type": "code",
   "execution_count": 16,
   "metadata": {
    "ExecuteTime": {
     "end_time": "2020-02-28T08:41:12.291521Z",
     "start_time": "2020-02-28T08:41:12.288201Z"
    }
   },
   "outputs": [],
   "source": [
    "my_json_obj = {\n",
    "    'cats': {\n",
    "        'awesome': ['Missy'],\n",
    "        'useless': ['Kim', 'Frank', 'Sandy']\n",
    "    },\n",
    "    'dogs': {\n",
    "        'awesome': ['Finn', 'Dolores', 'Fido', 'Casper'],\n",
    "        'useless': []\n",
    "    }\n",
    "}"
   ]
  },
  {
   "cell_type": "code",
   "execution_count": 17,
   "metadata": {},
   "outputs": [
    {
     "data": {
      "text/plain": [
       "dict_keys(['cats', 'dogs'])"
      ]
     },
     "execution_count": 17,
     "metadata": {},
     "output_type": "execute_result"
    }
   ],
   "source": [
    "my_json_obj.keys()"
   ]
  },
  {
   "cell_type": "code",
   "execution_count": 18,
   "metadata": {},
   "outputs": [
    {
     "data": {
      "text/plain": [
       "{'awesome': ['Missy'], 'useless': ['Kim', 'Frank', 'Sandy']}"
      ]
     },
     "execution_count": 18,
     "metadata": {},
     "output_type": "execute_result"
    }
   ],
   "source": [
    "my_json_obj[\"cats\"]"
   ]
  },
  {
   "cell_type": "code",
   "execution_count": 19,
   "metadata": {},
   "outputs": [
    {
     "data": {
      "text/plain": [
       "dict_keys(['awesome', 'useless'])"
      ]
     },
     "execution_count": 19,
     "metadata": {},
     "output_type": "execute_result"
    }
   ],
   "source": [
    "my_json_obj[\"cats\"].keys()"
   ]
  },
  {
   "cell_type": "markdown",
   "metadata": {},
   "source": [
    "> **Ex. 5**: Run the code snippet below to download frontpage of posts from the *[r/coronavirus](https://www.reddit.com/r/Coronavirus/)* subreddit in\n",
    "[json format](https://www.reddit.com/r/coronavirus.json). With pen and paper (or another illustration tool) draw a sketch that outlines the data\n",
    "as a tree (similar to example in lecture)."
   ]
  },
  {
   "cell_type": "code",
   "execution_count": 23,
   "metadata": {
    "ExecuteTime": {
     "end_time": "2020-02-28T08:25:29.145158Z",
     "start_time": "2020-02-28T08:25:28.519474Z"
    }
   },
   "outputs": [],
   "source": [
    "import requests as rq\n",
    "data = rq.get(\n",
    "    \"https://www.reddit.com/r/coronavirus.json\",    # link to the data\n",
    "    headers={'User-agent': 'digital_methods_2020'}  # a user agent that tells reddit who we are (good measure)\n",
    ").json()                                            # render the response from reddits server as JSON data"
   ]
  },
  {
   "cell_type": "code",
   "execution_count": 24,
   "metadata": {},
   "outputs": [
    {
     "data": {
      "text/plain": [
       "dict_keys(['kind', 'data'])"
      ]
     },
     "execution_count": 24,
     "metadata": {},
     "output_type": "execute_result"
    }
   ],
   "source": [
    "data.keys()"
   ]
  },
  {
   "cell_type": "code",
   "execution_count": 25,
   "metadata": {},
   "outputs": [
    {
     "data": {
      "text/plain": [
       "dict_keys(['modhash', 'dist', 'children', 'after', 'before'])"
      ]
     },
     "execution_count": 25,
     "metadata": {},
     "output_type": "execute_result"
    }
   ],
   "source": [
    "data[\"data\"].keys()"
   ]
  },
  {
   "cell_type": "code",
   "execution_count": 55,
   "metadata": {},
   "outputs": [
    {
     "data": {
      "text/plain": [
       "dict_keys(['kind', 'data'])"
      ]
     },
     "execution_count": 55,
     "metadata": {},
     "output_type": "execute_result"
    }
   ],
   "source": [
    "data[\"data\"][\"children\"][2].keys()"
   ]
  },
  {
   "cell_type": "code",
   "execution_count": 45,
   "metadata": {},
   "outputs": [
    {
     "ename": "AttributeError",
     "evalue": "'list' object has no attribute 'values'",
     "output_type": "error",
     "traceback": [
      "\u001b[0;31m---------------------------------------------------------------------------\u001b[0m",
      "\u001b[0;31mAttributeError\u001b[0m                            Traceback (most recent call last)",
      "\u001b[0;32m<ipython-input-45-36d7cd30d90a>\u001b[0m in \u001b[0;36m<module>\u001b[0;34m\u001b[0m\n\u001b[0;32m----> 1\u001b[0;31m \u001b[0mdata\u001b[0m\u001b[0;34m[\u001b[0m\u001b[0;34m\"data\"\u001b[0m\u001b[0;34m]\u001b[0m\u001b[0;34m[\u001b[0m\u001b[0;34m\"children\"\u001b[0m\u001b[0;34m]\u001b[0m\u001b[0;34m.\u001b[0m\u001b[0mvalues\u001b[0m\u001b[0;34m(\u001b[0m\u001b[0;34m)\u001b[0m\u001b[0;34m\u001b[0m\u001b[0;34m\u001b[0m\u001b[0m\n\u001b[0m",
      "\u001b[0;31mAttributeError\u001b[0m: 'list' object has no attribute 'values'"
     ]
    }
   ],
   "source": [
    "data[\"data\"][\"children\"].values()"
   ]
  },
  {
   "cell_type": "markdown",
   "metadata": {},
   "source": [
    "data\n",
    " - kind\n",
    "     - listing\n",
    " - data\n",
    "     - modhash\n",
    "         -   \n",
    "     - dist\n",
    "         - 27\n",
    "     - children\n",
    "         - a list (find it through indexing [] -> a dictionary):\n",
    "         - - keys:\n",
    "             - kind\n",
    "             - data\n",
    "     - after\n",
    "         - t2_fawl51\n",
    "     - before"
   ]
  },
  {
   "cell_type": "markdown",
   "metadata": {},
   "source": [
    "> **Ex. 6** Similar to how you returned the list of useless cats in Ex. 4, now \"key\" into `data`\n",
    "to access a value that informs you this data is from the 'Coronavirus' subreddit."
   ]
  }
 ],
 "metadata": {
  "display_name": "Python 3",
  "kernelspec": {
   "display_name": "Python 3",
   "language": "python",
   "name": "python3"
  },
  "language_info": {
   "codemirror_mode": {
    "name": "ipython",
    "version": 3
   },
   "file_extension": ".py",
   "mimetype": "text/x-python",
   "name": "python",
   "nbconvert_exporter": "python",
   "pygments_lexer": "ipython3",
   "version": "3.7.4"
  },
  "toc": {
   "base_numbering": 1,
   "nav_menu": {},
   "number_sections": false,
   "sideBar": true,
   "skip_h1_title": false,
   "title_cell": "Table of Contents",
   "title_sidebar": "Contents",
   "toc_cell": false,
   "toc_position": {},
   "toc_section_display": true,
   "toc_window_display": true
  },
  "varInspector": {
   "cols": {
    "lenName": 16,
    "lenType": 16,
    "lenVar": 40
   },
   "kernels_config": {
    "python": {
     "delete_cmd_postfix": "",
     "delete_cmd_prefix": "del ",
     "library": "var_list.py",
     "varRefreshCmd": "print(var_dic_list())"
    },
    "r": {
     "delete_cmd_postfix": ") ",
     "delete_cmd_prefix": "rm(",
     "library": "var_list.r",
     "varRefreshCmd": "cat(var_dic_list()) "
    }
   },
   "types_to_exclude": [
    "module",
    "function",
    "builtin_function_or_method",
    "instance",
    "_Feature"
   ],
   "window_display": false
  }
 },
 "nbformat": 4,
 "nbformat_minor": 1
}
